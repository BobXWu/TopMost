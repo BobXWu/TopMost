{
 "cells": [
  {
   "cell_type": "markdown",
   "metadata": {},
   "source": [
    "### Preprocessing new datasets\n",
    "\n",
    "TopMost can preprocess datasets for topic modeling in a standard way.\n",
    "A dataset must include two files: `train.jsonlist` and `test.jsonlist`. Each contains a list of json, like\n",
    "\n",
    "```json\n",
    "{\"label\": \"rec.autos\", \"text\": \"WHAT car is this!?...\"}\n",
    "{\"label\": \"comp.sys.mac.hardware\", \"text\": \"A fair number of brave souls who upgraded their...\"}\n",
    "```\n",
    "\n",
    "`label` is optional.\n",
    "\n",
    "**Here we download and preprocess 20newsgroup as follows.**"
   ]
  },
  {
   "cell_type": "code",
   "execution_count": 1,
   "metadata": {},
   "outputs": [
    {
     "name": "stderr",
     "output_type": "stream",
     "text": [
      "/home/xiaobao/local/miniconda3/envs/topmost/lib/python3.8/site-packages/tqdm/auto.py:21: TqdmWarning: IProgress not found. Please update jupyter and ipywidgets. See https://ipywidgets.readthedocs.io/en/stable/user_install.html\n",
      "  from .autonotebook import tqdm as notebook_tqdm\n"
     ]
    },
    {
     "name": "stdout",
     "output_type": "stream",
     "text": [
      "{'20ng_all': ['talk.religion.misc', 'comp.windows.x', 'rec.sport.baseball', 'talk.politics.mideast', 'comp.sys.mac.hardware', 'sci.space', 'talk.politics.guns', 'comp.graphics', 'comp.os.ms-windows.misc', 'soc.religion.christian', 'talk.politics.misc', 'rec.motorcycles', 'comp.sys.ibm.pc.hardware', 'rec.sport.hockey', 'misc.forsale', 'sci.crypt', 'rec.autos', 'sci.med', 'sci.electronics', 'alt.atheism']}\n",
      "===>name:  20ng_all\n",
      "===>categories:  ['talk.religion.misc', 'comp.windows.x', 'rec.sport.baseball', 'talk.politics.mideast', 'comp.sys.mac.hardware', 'sci.space', 'talk.politics.guns', 'comp.graphics', 'comp.os.ms-windows.misc', 'soc.religion.christian', 'talk.politics.misc', 'rec.motorcycles', 'comp.sys.ibm.pc.hardware', 'rec.sport.hockey', 'misc.forsale', 'sci.crypt', 'rec.autos', 'sci.med', 'sci.electronics', 'alt.atheism']\n",
      "===>subset:  train\n",
      "Downloading articles\n",
      "data size:  11314\n",
      "Saving to ./datasets/20NG\n",
      "===>name:  20ng_all\n",
      "===>categories:  ['talk.religion.misc', 'comp.windows.x', 'rec.sport.baseball', 'talk.politics.mideast', 'comp.sys.mac.hardware', 'sci.space', 'talk.politics.guns', 'comp.graphics', 'comp.os.ms-windows.misc', 'soc.religion.christian', 'talk.politics.misc', 'rec.motorcycles', 'comp.sys.ibm.pc.hardware', 'rec.sport.hockey', 'misc.forsale', 'sci.crypt', 'rec.autos', 'sci.med', 'sci.electronics', 'alt.atheism']\n",
      "===>subset:  test\n",
      "Downloading articles\n",
      "data size:  7532\n",
      "Saving to ./datasets/20NG\n",
      "===>name:  20ng_all\n",
      "===>categories:  ['talk.religion.misc', 'comp.windows.x', 'rec.sport.baseball', 'talk.politics.mideast', 'comp.sys.mac.hardware', 'sci.space', 'talk.politics.guns', 'comp.graphics', 'comp.os.ms-windows.misc', 'soc.religion.christian', 'talk.politics.misc', 'rec.motorcycles', 'comp.sys.ibm.pc.hardware', 'rec.sport.hockey', 'misc.forsale', 'sci.crypt', 'rec.autos', 'sci.med', 'sci.electronics', 'alt.atheism']\n",
      "===>subset:  all\n",
      "Downloading articles\n",
      "data size:  18846\n",
      "Saving to ./datasets/20NG\n"
     ]
    }
   ],
   "source": [
    "from topmost.data import download_20ng\n",
    "from topmost.data import download_dataset\n",
    "from topmost.preprocessing import Preprocessing\n",
    "\n",
    "# download raw data\n",
    "download_20ng.download_save(output_dir='./datasets/20NG')\n"
   ]
  },
  {
   "cell_type": "code",
   "execution_count": 2,
   "metadata": {},
   "outputs": [
    {
     "name": "stdout",
     "output_type": "stream",
     "text": [
      "{\"group\": \"rec.autos\", \"text\": \"From: lerxst@wam.umd.edu (where's my thing)\\nSubject: WHAT car is this!?\\nNntp-Posting-Host: rac3.wam.umd.edu\\nOrganization: University of Maryland, College Park\\nLines: 15\\n\\n I was wondering if anyone out there could enlighten me on this car I saw\\nthe other day. It was a 2-door sports car, looked to be from the late 60s/\\nearly 70s. It was called a Bricklin. The doors were really small. In addition,\\nthe front bumper was separate from the rest of the body. This is \\nall I know. If anyone can tellme a model name, engine specs, years\\nof production, where this car is made, history, or whatever info you\\nhave on this funky looking car, please e-mail.\\n\\nThanks,\\n- IL\\n   ---- brought to you by your neighborhood Lerxst ----\\n\\n\\n\\n\\n\"}\n",
      "{\"group\": \"comp.sys.mac.hardware\", \"text\": \"From: guykuo@carson.u.washington.edu (Guy Kuo)\\nSubject: SI Clock Poll - Final Call\\nSummary: Final call for SI clock reports\\nKeywords: SI,acceleration,clock,upgrade\\nArticle-I.D.: shelley.1qvfo9INNc3s\\nOrganization: University of Washington\\nLines: 11\\nNNTP-Posting-Host: carson.u.washington.edu\\n\\nA fair number of brave souls who upgraded their SI clock oscillator have\\nshared their experiences for this poll. Please send a brief message detailing\\nyour experiences with the procedure. Top speed attained, CPU rated speed,\\nadd on cards and adapters, heat sinks, hour of usage per day, floppy disk\\nfunctionality with 800 and 1.4 m floppies are especially requested.\\n\\nI will be summarizing in the next two days, so please add to the network\\nknowledge base if you have done the clock upgrade and haven't answered this\\npoll. Thanks.\\n\\nGuy Kuo <guykuo@u.washington.edu>\\n\"}\n"
     ]
    }
   ],
   "source": [
    "! head -2 ./datasets/20NG/train.jsonlist"
   ]
  },
  {
   "cell_type": "code",
   "execution_count": 3,
   "metadata": {},
   "outputs": [
    {
     "name": "stdout",
     "output_type": "stream",
     "text": [
      "https://raw.githubusercontent.com/BobXWu/TopMost/master/data/stopwords.zip\n",
      "Using downloaded and verified file: ./datasets/stopwords.zip\n",
      "Found training documents 11314 testing documents 7532\n",
      "label2id:  {'alt.atheism': 0, 'comp.graphics': 1, 'comp.os.ms-windows.misc': 2, 'comp.sys.ibm.pc.hardware': 3, 'comp.sys.mac.hardware': 4, 'comp.windows.x': 5, 'misc.forsale': 6, 'rec.autos': 7, 'rec.motorcycles': 8, 'rec.sport.baseball': 9, 'rec.sport.hockey': 10, 'sci.crypt': 11, 'sci.electronics': 12, 'sci.med': 13, 'sci.space': 14, 'soc.religion.christian': 15, 'talk.politics.guns': 16, 'talk.politics.mideast': 17, 'talk.politics.misc': 18, 'talk.religion.misc': 19}\n"
     ]
    },
    {
     "name": "stderr",
     "output_type": "stream",
     "text": [
      "===>parse train texts: 100%|██████████| 11314/11314 [00:19<00:00, 583.18it/s]\n",
      "===>parse test texts: 100%|██████████| 7532/7532 [00:10<00:00, 705.35it/s]\n",
      "===>parse texts: 100%|██████████| 11314/11314 [02:47<00:00, 67.69it/s] \n",
      "/home/xiaobao/local/miniconda3/envs/topmost/lib/python3.8/site-packages/sklearn/feature_extraction/text.py:525: UserWarning: The parameter 'token_pattern' will not be used since 'tokenizer' is not None'\n",
      "  warnings.warn(\n",
      "===>making word embeddings: 100%|██████████| 5000/5000 [00:02<00:00, 1868.27it/s]\n"
     ]
    },
    {
     "name": "stdout",
     "output_type": "stream",
     "text": [
      "===> number of found embeddings: 4957/5000\n",
      "Real vocab size: 5000\n",
      "Real training size: 11314 \t avg length: 110.543\n"
     ]
    },
    {
     "name": "stderr",
     "output_type": "stream",
     "text": [
      "===>parse texts: 100%|██████████| 7532/7532 [01:35<00:00, 78.61it/s] \n"
     ]
    },
    {
     "name": "stdout",
     "output_type": "stream",
     "text": [
      "Real testing size: 7532 \t avg length: 106.663\n"
     ]
    }
   ],
   "source": [
    "# download stopwords\n",
    "download_dataset('stopwords', cache_path='./datasets')\n",
    "\n",
    "# preprocess raw data\n",
    "preprocessing = Preprocessing(vocab_size=5000, stopwords='./datasets/stopwords/snowball_stopwords.txt')\n",
    "\n",
    "rst = preprocessing.preprocess_jsonlist(dataset_dir='./datasets/20NG', label_name=\"group\")\n",
    "\n",
    "preprocessing.save('./datasets/20NG', **rst)"
   ]
  }
 ],
 "metadata": {
  "kernelspec": {
   "display_name": "torch1.13py3.8",
   "language": "python",
   "name": "python3"
  },
  "language_info": {
   "codemirror_mode": {
    "name": "ipython",
    "version": 3
   },
   "file_extension": ".py",
   "mimetype": "text/x-python",
   "name": "python",
   "nbconvert_exporter": "python",
   "pygments_lexer": "ipython3",
   "version": "3.8.0"
  },
  "orig_nbformat": 4
 },
 "nbformat": 4,
 "nbformat_minor": 2
}
