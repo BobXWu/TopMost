{
 "cells": [
  {
   "cell_type": "code",
   "execution_count": 2,
   "metadata": {},
   "outputs": [
    {
     "name": "stdout",
     "output_type": "stream",
     "text": [
      "https://raw.githubusercontent.com/BobXWu/TopMost/master/data/20NG.zip\n",
      "Using downloaded and verified file: ./datasets/20NG.zip\n"
     ]
    },
    {
     "name": "stderr",
     "output_type": "stream",
     "text": [
      "===>parse train texts: 100%|██████████| 11314/11314 [00:00<00:00, 20316.78it/s]\n",
      "===>parse texts: 100%|██████████| 11314/11314 [01:18<00:00, 143.28it/s]\n",
      "/home/xiaobao/local/miniconda3/envs/topmost/lib/python3.8/site-packages/sklearn/feature_extraction/text.py:525: UserWarning: The parameter 'token_pattern' will not be used since 'tokenizer' is not None'\n",
      "  warnings.warn(\n",
      "===>making word embeddings: 100%|██████████| 5000/5000 [00:03<00:00, 1618.70it/s]\n"
     ]
    },
    {
     "name": "stdout",
     "output_type": "stream",
     "text": [
      "===> number of found embeddings: 4957/5000\n",
      "Real vocab size: 5000\n",
      "Real training size: 11314 \t avg length: 110.543\n"
     ]
    }
   ],
   "source": [
    "import topmost\n",
    "from topmost.data import download_dataset\n",
    "from topmost.data import file_utils\n",
    "\n",
    "device = \"cuda\"  # or \"cpu\"\n",
    "dataset_dir = \"./datasets/20NG\"\n",
    "download_dataset('20NG', cache_path='./datasets')\n",
    "docs = file_utils.read_text(f\"{dataset_dir}/train_texts.txt\")\n",
    "\n",
    "dataset = topmost.data.RawDatasetHandler(docs, device=device, as_tensor=True)"
   ]
  },
  {
   "cell_type": "code",
   "execution_count": 3,
   "metadata": {},
   "outputs": [
    {
     "name": "stderr",
     "output_type": "stream",
     "text": [
      "  0%|          | 0/200 [00:00<?, ?it/s]"
     ]
    },
    {
     "name": "stderr",
     "output_type": "stream",
     "text": [
      "100%|██████████| 200/200 [01:19<00:00,  2.52it/s]\n"
     ]
    },
    {
     "name": "stdout",
     "output_type": "stream",
     "text": [
      "Topic 0: zoology amp signals detector analog utzoo audio radar switching antenna detectors spencer frequency shack henry\n",
      "Topic 1: fired water permit panel yeast diet garage weapon installing firearm dangerous toxic shop disease plastic\n",
      "Topic 2: max cliff dakota livni jake andi beyer greeks hatred homeland holocaust europeans intervention air ethnic\n",
      "Topic 3: slot puck season penalty victory flyers goalie defense sharks shot scored goal rod penalties knocked\n",
      "Topic 4: assault firearms file handgun handguns constitutional possession district congress criminal gun law united crime amendment\n",
      "Topic 5: scholars testament passage jesus theology revelation acts church scriptures verse writings prophets prophet passages hebrew\n",
      "Topic 6: scsi burst mac ram byte isa architecture cpu processors intel ide bus port mhz hardware\n",
      "Topic 7: button andre window mask icon width dialog derek colors enterpoopmitedu xterm screen pressed xview pointer\n",
      "Topic 8: insurance veal dare cunixbcccolumbiaedu constitution drugs government laughed militia pushed canadians doctors shaft canadian coverage\n",
      "Topic 9: livesey militia schneider israel livni solntzewpdsgicom israeli jake petaluma israelis murder lebanese optilink arms arab\n",
      "Topic 10: processing image formats probe images planetary ftp algorithms propulsion weather astronomy missions macintosh chapel saturn\n",
      "Topic 11: diseases adults patients safety volume adult birth belt child increased clinical culture gift confidence children\n",
      "Topic 12: nazis jews nazi muslim political struggle hitler ohanus appressian melkonian sahak genocide serdar roads turkish\n",
      "Topic 13: violations neighbor neighbors lived children ira armenians floor stayed beat relatives woman beating afraid regional\n",
      "Topic 14: sandvik ksand alink islam cookamunga tourist kent islamic muslims rushdie schneider muslim bureau livesey malcolm\n",
      "Topic 15: det bos pit tor covington malcolm salvation athens christ jesus sandvik cal que heaven married\n",
      "Topic 16: thursday tuesday conference manuals graphics abstract june virtual utilities distribute charter presentation animation registration carpenter\n",
      "Topic 17: olchowy selanne stanley europeans cup leafs norris playoffs nhl jets wings teams penguins maynard bruins\n",
      "Topic 18: bike yamaha bikes dog bmw motorcycle helmet ride riding biker dod parking passenger dogs ama\n",
      "Topic 19: homosexual cramer petaluma optilink sexual chastity shameful skepticism engaged partners gay intellect clayton homosexuality relations\n",
      "Topic 20: fbi batf waco weapons arras compound atf koresh tanks murders streets dividian survivors reno rocketswstratuscom\n",
      "Topic 21: christians israel worship law jews jesus arab israeli jew palestinians prophets attacks god elias arabs\n",
      "Topic 22: eisa motherboard vlb isa slots simms simm ide quadra vram cache meg bus scsi mhz\n",
      "Topic 23: connectors sony cables stereo connector obo forsale shipping warranty motherboard monitor adapter dealer portable sale\n",
      "Topic 24: windows bmp diamond download drivers ati driver logo files svga startup card cursor vga vesa\n",
      "Topic 25: sale obo shipping forsale manuals speakers cds genesis stereo condition football manual printer brand sony\n",
      "Topic 26: crypto sternlight escrow phones nixon cellular clipper nsa omissions chip tapped keys toal walker feds\n",
      "Topic 27: enforcement americans encryption agencies government escrow criminals committed devices protect industry separately initiative conversations protecting\n",
      "Topic 28: dos standings idle league angels champs denied scores won cia baltimore recsporthockey hockey jerusalem milwaukee\n",
      "Topic 29: cops fame stat player players auto stats defensive switched accidents gang trigger jays pitchers evans\n",
      "Topic 30: printer vga pixels windows jpeg adapter nec shareware settings gif bytes color compression linked sizes\n",
      "Topic 31: belief god atheism atheist faith assertion existence benedikt gods theists bible rosenau beliefs contradictory invalid\n",
      "Topic 32: privacy anonymous scicrypt cryptographic servers cryptography electronic networks identity directories enhanced readme digital users messages\n",
      "Topic 33: satellite antenna remote substantial planned satellites vehicle telecommunications launched vehicles growth demand engines scheduled launch\n",
      "Topic 34: memorial theodore associate graduate covington professor gore telnet participants edt ticket served athens holocaust italy\n",
      "Topic 35: villages troops armenians civilians bullets attacked civilian defending armenia bullet wounded moslem forces soldiers innocent\n",
      "Topic 36: lib enterpoopmitedu extensions netherlands melbourne bmp exploration advance searching fatal aix telnet bitmap pointers thanks\n",
      "Topic 37: lemieux detroit philadelphia scoring islanders overtime murphy tor rangers pit buffalo det calgary pittsburgh playoffs\n",
      "Topic 38: president decisions leaders meeting package bosnia serbs edt gore presidents secretary tonight ruled afternoon jackson\n",
      "Topic 39: mouse ati windows centris diamond card video vertical horizontal vga monitor screen fpu ram vram\n",
      "Topic 40: serial encrypted session bios floppy corresponding blocks disk controller derived scicrypt drives unit enable enforcement\n",
      "Topic 41: sale baud manuals card obo modem floppy printer vga forsale bios shipping rom ports utilities\n",
      "Topic 42: program output input exit bytes file entry prompt int stream buffer postscript size authors files\n",
      "Topic 43: chastity shameful intellect skepticism banks surrender gordon odwyer morality msg objective schneider superstition sensitivity yeast\n",
      "Topic 44: zoology utzoo residents payload spencer orbit accessdigexnet fairbanks jet billion henry shuttle moon spacecraft jpl\n",
      "Topic 45: mets braves yankees hitter pitching phillies sox jays baseball cincinnati innings pitched batting fischer stadium\n",
      "Topic 46: msg superstition sensitivity bike tires brakes chinese mustang food foods honda rear riding cars car\n",
      "Topic 47: default applications fonts application font lib usr app destroy widget converter window xlib managers rgb\n",
      "Topic 48: chastity shameful skepticism intellect banks dividian surrender ranch gordon survivors covington atf burns athens tavares\n",
      "Topic 49: amiga toolkit vendor fixes demo sparc pub utilities graphics vendors openwindows servers contrib sunos cad\n"
     ]
    }
   ],
   "source": [
    "model = topmost.models.ProdLDA(dataset.vocab_size)\n",
    "model = model.to(device)\n",
    "\n",
    "trainer = topmost.trainers.BasicTrainer(model)\n",
    "\n",
    "topic_top_words, doc_topic_distributions = trainer.fit_transform(dataset)"
   ]
  }
 ],
 "metadata": {
  "kernelspec": {
   "display_name": "torch1.13py3.8",
   "language": "python",
   "name": "python3"
  },
  "language_info": {
   "codemirror_mode": {
    "name": "ipython",
    "version": 3
   },
   "file_extension": ".py",
   "mimetype": "text/x-python",
   "name": "python",
   "nbconvert_exporter": "python",
   "pygments_lexer": "ipython3",
   "version": "3.8.0"
  },
  "orig_nbformat": 4
 },
 "nbformat": 4,
 "nbformat_minor": 2
}
