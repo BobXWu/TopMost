{
 "cells": [
  {
   "cell_type": "code",
   "execution_count": 1,
   "metadata": {},
   "outputs": [
    {
     "name": "stderr",
     "output_type": "stream",
     "text": [
      "/home/xiaobao/local/miniconda3/envs/topmost/lib/python3.8/site-packages/tqdm/auto.py:21: TqdmWarning: IProgress not found. Please update jupyter and ipywidgets. See https://ipywidgets.readthedocs.io/en/stable/user_install.html\n",
      "  from .autonotebook import tqdm as notebook_tqdm\n",
      "===>parse train texts: 100%|██████████| 2/2 [00:00<00:00, 2193.67it/s]\n",
      "===>parse texts: 100%|██████████| 2/2 [00:00<00:00, 10796.15it/s]\n",
      "/home/xiaobao/local/miniconda3/envs/topmost/lib/python3.8/site-packages/sklearn/feature_extraction/text.py:525: UserWarning: The parameter 'token_pattern' will not be used since 'tokenizer' is not None'\n",
      "  warnings.warn(\n",
      "===>making word embeddings: 100%|██████████| 14/14 [00:00<00:00, 8096.00it/s]\n"
     ]
    },
    {
     "name": "stdout",
     "output_type": "stream",
     "text": [
      "===> number of found embeddings: 14/14\n",
      "Real vocab size: 14\n",
      "Real training size: 2 \t avg length: 11.000\n"
     ]
    }
   ],
   "source": [
    "import topmost\n",
    "from topmost.preprocessing import Preprocessing\n",
    "\n",
    "docs = [\n",
    "    \"This is a document about space, including words like space, satellite, launch, orbit.\",\n",
    "    \"This is a document about Microsoft Windows, including words like windows, files, dos.\",\n",
    "    # more documents...\n",
    "]\n",
    "\n",
    "device = 'cuda' # or 'cpu'\n",
    "preprocessing = Preprocessing()\n",
    "dataset = topmost.data.RawDatasetHandler(docs, preprocessing, device=device, as_tensor=True)\n"
   ]
  },
  {
   "cell_type": "code",
   "execution_count": 2,
   "metadata": {},
   "outputs": [
    {
     "name": "stderr",
     "output_type": "stream",
     "text": [
      "100%|██████████| 200/200 [00:02<00:00, 84.97it/s] "
     ]
    },
    {
     "name": "stdout",
     "output_type": "stream",
     "text": [
      "Topic 0: this launch windows orbit dos space files about words like including satellite microsoft document\n",
      "Topic 1: document files words space like including orbit satellite windows dos microsoft about launch this\n"
     ]
    },
    {
     "name": "stderr",
     "output_type": "stream",
     "text": [
      "\n"
     ]
    }
   ],
   "source": [
    "model = topmost.models.ProdLDA(dataset.vocab_size, num_topics=2)\n",
    "model = model.to(device)\n",
    "\n",
    "trainer = topmost.trainers.BasicTrainer(model)\n",
    "\n",
    "topic_top_words, doc_topic_dist = trainer.fit_transform(dataset)"
   ]
  }
 ],
 "metadata": {
  "kernelspec": {
   "display_name": "torch1.13py3.8",
   "language": "python",
   "name": "python3"
  },
  "language_info": {
   "codemirror_mode": {
    "name": "ipython",
    "version": 3
   },
   "file_extension": ".py",
   "mimetype": "text/x-python",
   "name": "python",
   "nbconvert_exporter": "python",
   "pygments_lexer": "ipython3",
   "version": "3.8.0"
  },
  "orig_nbformat": 4
 },
 "nbformat": 4,
 "nbformat_minor": 2
}
