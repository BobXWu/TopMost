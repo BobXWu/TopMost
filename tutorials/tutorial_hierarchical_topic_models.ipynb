{
 "cells": [
  {
   "cell_type": "code",
   "execution_count": 1,
   "metadata": {},
   "outputs": [
    {
     "name": "stdout",
     "output_type": "stream",
     "text": [
      "https://raw.githubusercontent.com/BobXWu/TopMost/master/data/NYT.zip\n",
      "Using downloaded and verified file: ./datasets/NYT.zip\n"
     ]
    }
   ],
   "source": [
    "import topmost\n",
    "from topmost.data import download_dataset\n",
    "\n",
    "device = \"cuda\" # or \"cpu\"\n",
    "dataset_dir = \"./datasets/NYT\"\n",
    "download_dataset('NYT', cache_path='./datasets')"
   ]
  },
  {
   "cell_type": "code",
   "execution_count": 2,
   "metadata": {},
   "outputs": [
    {
     "name": "stdout",
     "output_type": "stream",
     "text": [
      "===>train_size:  8254\n",
      "===>test_size:  918\n",
      "===>vocab_size:  10000\n",
      "===>average length: 175.429\n"
     ]
    }
   ],
   "source": [
    "# load a dataset\n",
    "dataset = topmost.data.BasicDatasetHandler(dataset_dir, read_labels=True, device=device, as_tensor=True)"
   ]
  },
  {
   "cell_type": "code",
   "execution_count": 5,
   "metadata": {},
   "outputs": [
    {
     "name": "stderr",
     "output_type": "stream",
     "text": [
      "  0%|          | 1/200 [00:00<03:08,  1.05it/s]"
     ]
    },
    {
     "name": "stderr",
     "output_type": "stream",
     "text": [
      "  2%|▎         | 5/200 [00:04<03:04,  1.06it/s]"
     ]
    },
    {
     "name": "stdout",
     "output_type": "stream",
     "text": [
      "Epoch: 005 loss: 773.071\n"
     ]
    },
    {
     "name": "stderr",
     "output_type": "stream",
     "text": [
      "  5%|▌         | 10/200 [00:09<02:59,  1.06it/s]"
     ]
    },
    {
     "name": "stdout",
     "output_type": "stream",
     "text": [
      "Epoch: 010 loss: 772.367\n"
     ]
    },
    {
     "name": "stderr",
     "output_type": "stream",
     "text": [
      "  8%|▊         | 15/200 [00:14<02:54,  1.06it/s]"
     ]
    },
    {
     "name": "stdout",
     "output_type": "stream",
     "text": [
      "Epoch: 015 loss: 770.297\n"
     ]
    },
    {
     "name": "stderr",
     "output_type": "stream",
     "text": [
      " 10%|█         | 20/200 [00:18<02:50,  1.06it/s]"
     ]
    },
    {
     "name": "stdout",
     "output_type": "stream",
     "text": [
      "Epoch: 020 loss: 771.950\n"
     ]
    },
    {
     "name": "stderr",
     "output_type": "stream",
     "text": [
      " 12%|█▎        | 25/200 [00:23<02:45,  1.06it/s]"
     ]
    },
    {
     "name": "stdout",
     "output_type": "stream",
     "text": [
      "Epoch: 025 loss: 770.204\n"
     ]
    },
    {
     "name": "stderr",
     "output_type": "stream",
     "text": [
      " 15%|█▌        | 30/200 [00:28<02:40,  1.06it/s]"
     ]
    },
    {
     "name": "stdout",
     "output_type": "stream",
     "text": [
      "Epoch: 030 loss: 769.655\n"
     ]
    },
    {
     "name": "stderr",
     "output_type": "stream",
     "text": [
      " 18%|█▊        | 35/200 [00:33<02:35,  1.06it/s]"
     ]
    },
    {
     "name": "stdout",
     "output_type": "stream",
     "text": [
      "Epoch: 035 loss: 770.234\n"
     ]
    },
    {
     "name": "stderr",
     "output_type": "stream",
     "text": [
      " 20%|██        | 40/200 [00:37<02:31,  1.06it/s]"
     ]
    },
    {
     "name": "stdout",
     "output_type": "stream",
     "text": [
      "Epoch: 040 loss: 769.469\n"
     ]
    },
    {
     "name": "stderr",
     "output_type": "stream",
     "text": [
      " 22%|██▎       | 45/200 [00:42<02:26,  1.06it/s]"
     ]
    },
    {
     "name": "stdout",
     "output_type": "stream",
     "text": [
      "Epoch: 045 loss: 769.417\n"
     ]
    },
    {
     "name": "stderr",
     "output_type": "stream",
     "text": [
      " 25%|██▌       | 50/200 [00:47<02:22,  1.06it/s]"
     ]
    },
    {
     "name": "stdout",
     "output_type": "stream",
     "text": [
      "Epoch: 050 loss: 767.999\n"
     ]
    },
    {
     "name": "stderr",
     "output_type": "stream",
     "text": [
      " 28%|██▊       | 55/200 [00:51<02:17,  1.05it/s]"
     ]
    },
    {
     "name": "stdout",
     "output_type": "stream",
     "text": [
      "Epoch: 055 loss: 766.981\n"
     ]
    },
    {
     "name": "stderr",
     "output_type": "stream",
     "text": [
      " 30%|███       | 60/200 [00:56<02:12,  1.06it/s]"
     ]
    },
    {
     "name": "stdout",
     "output_type": "stream",
     "text": [
      "Epoch: 060 loss: 761.934\n"
     ]
    },
    {
     "name": "stderr",
     "output_type": "stream",
     "text": [
      " 32%|███▎      | 65/200 [01:01<02:07,  1.06it/s]"
     ]
    },
    {
     "name": "stdout",
     "output_type": "stream",
     "text": [
      "Epoch: 065 loss: 757.817\n"
     ]
    },
    {
     "name": "stderr",
     "output_type": "stream",
     "text": [
      " 35%|███▌      | 70/200 [01:06<02:02,  1.06it/s]"
     ]
    },
    {
     "name": "stdout",
     "output_type": "stream",
     "text": [
      "Epoch: 070 loss: 752.886\n"
     ]
    },
    {
     "name": "stderr",
     "output_type": "stream",
     "text": [
      " 38%|███▊      | 75/200 [01:10<01:58,  1.06it/s]"
     ]
    },
    {
     "name": "stdout",
     "output_type": "stream",
     "text": [
      "Epoch: 075 loss: 745.573\n"
     ]
    },
    {
     "name": "stderr",
     "output_type": "stream",
     "text": [
      " 40%|████      | 80/200 [01:15<01:53,  1.06it/s]"
     ]
    },
    {
     "name": "stdout",
     "output_type": "stream",
     "text": [
      "Epoch: 080 loss: 736.084\n"
     ]
    },
    {
     "name": "stderr",
     "output_type": "stream",
     "text": [
      " 42%|████▎     | 85/200 [01:20<01:48,  1.06it/s]"
     ]
    },
    {
     "name": "stdout",
     "output_type": "stream",
     "text": [
      "Epoch: 085 loss: 729.597\n"
     ]
    },
    {
     "name": "stderr",
     "output_type": "stream",
     "text": [
      " 45%|████▌     | 90/200 [01:25<01:43,  1.06it/s]"
     ]
    },
    {
     "name": "stdout",
     "output_type": "stream",
     "text": [
      "Epoch: 090 loss: 723.760\n"
     ]
    },
    {
     "name": "stderr",
     "output_type": "stream",
     "text": [
      " 48%|████▊     | 95/200 [01:29<01:39,  1.06it/s]"
     ]
    },
    {
     "name": "stdout",
     "output_type": "stream",
     "text": [
      "Epoch: 095 loss: 719.520\n"
     ]
    },
    {
     "name": "stderr",
     "output_type": "stream",
     "text": [
      " 50%|█████     | 100/200 [01:34<01:34,  1.06it/s]"
     ]
    },
    {
     "name": "stdout",
     "output_type": "stream",
     "text": [
      "Epoch: 100 loss: 714.739\n"
     ]
    },
    {
     "name": "stderr",
     "output_type": "stream",
     "text": [
      " 52%|█████▎    | 105/200 [01:39<01:29,  1.06it/s]"
     ]
    },
    {
     "name": "stdout",
     "output_type": "stream",
     "text": [
      "Epoch: 105 loss: 710.215\n"
     ]
    },
    {
     "name": "stderr",
     "output_type": "stream",
     "text": [
      " 55%|█████▌    | 110/200 [01:43<01:25,  1.06it/s]"
     ]
    },
    {
     "name": "stdout",
     "output_type": "stream",
     "text": [
      "Epoch: 110 loss: 705.944\n"
     ]
    },
    {
     "name": "stderr",
     "output_type": "stream",
     "text": [
      " 57%|█████▊    | 115/200 [01:48<01:20,  1.06it/s]"
     ]
    },
    {
     "name": "stdout",
     "output_type": "stream",
     "text": [
      "Epoch: 115 loss: 702.926\n"
     ]
    },
    {
     "name": "stderr",
     "output_type": "stream",
     "text": [
      " 60%|██████    | 120/200 [01:53<01:15,  1.05it/s]"
     ]
    },
    {
     "name": "stdout",
     "output_type": "stream",
     "text": [
      "Epoch: 120 loss: 699.527\n"
     ]
    },
    {
     "name": "stderr",
     "output_type": "stream",
     "text": [
      " 62%|██████▎   | 125/200 [01:58<01:10,  1.06it/s]"
     ]
    },
    {
     "name": "stdout",
     "output_type": "stream",
     "text": [
      "Epoch: 125 loss: 696.667\n"
     ]
    },
    {
     "name": "stderr",
     "output_type": "stream",
     "text": [
      " 65%|██████▌   | 130/200 [02:02<01:06,  1.06it/s]"
     ]
    },
    {
     "name": "stdout",
     "output_type": "stream",
     "text": [
      "Epoch: 130 loss: 693.882\n"
     ]
    },
    {
     "name": "stderr",
     "output_type": "stream",
     "text": [
      " 68%|██████▊   | 135/200 [02:07<01:01,  1.06it/s]"
     ]
    },
    {
     "name": "stdout",
     "output_type": "stream",
     "text": [
      "Epoch: 135 loss: 691.340\n"
     ]
    },
    {
     "name": "stderr",
     "output_type": "stream",
     "text": [
      " 70%|███████   | 140/200 [02:12<00:56,  1.06it/s]"
     ]
    },
    {
     "name": "stdout",
     "output_type": "stream",
     "text": [
      "Epoch: 140 loss: 689.243\n"
     ]
    },
    {
     "name": "stderr",
     "output_type": "stream",
     "text": [
      " 72%|███████▎  | 145/200 [02:17<00:51,  1.06it/s]"
     ]
    },
    {
     "name": "stdout",
     "output_type": "stream",
     "text": [
      "Epoch: 145 loss: 687.291\n"
     ]
    },
    {
     "name": "stderr",
     "output_type": "stream",
     "text": [
      " 75%|███████▌  | 150/200 [02:21<00:47,  1.06it/s]"
     ]
    },
    {
     "name": "stdout",
     "output_type": "stream",
     "text": [
      "Epoch: 150 loss: 685.297\n"
     ]
    },
    {
     "name": "stderr",
     "output_type": "stream",
     "text": [
      " 78%|███████▊  | 155/200 [02:26<00:42,  1.06it/s]"
     ]
    },
    {
     "name": "stdout",
     "output_type": "stream",
     "text": [
      "Epoch: 155 loss: 683.562\n"
     ]
    },
    {
     "name": "stderr",
     "output_type": "stream",
     "text": [
      " 80%|████████  | 160/200 [02:31<00:37,  1.06it/s]"
     ]
    },
    {
     "name": "stdout",
     "output_type": "stream",
     "text": [
      "Epoch: 160 loss: 681.758\n"
     ]
    },
    {
     "name": "stderr",
     "output_type": "stream",
     "text": [
      " 82%|████████▎ | 165/200 [02:35<00:33,  1.06it/s]"
     ]
    },
    {
     "name": "stdout",
     "output_type": "stream",
     "text": [
      "Epoch: 165 loss: 680.744\n"
     ]
    },
    {
     "name": "stderr",
     "output_type": "stream",
     "text": [
      " 85%|████████▌ | 170/200 [02:40<00:28,  1.06it/s]"
     ]
    },
    {
     "name": "stdout",
     "output_type": "stream",
     "text": [
      "Epoch: 170 loss: 679.772\n"
     ]
    },
    {
     "name": "stderr",
     "output_type": "stream",
     "text": [
      " 88%|████████▊ | 175/200 [02:45<00:23,  1.06it/s]"
     ]
    },
    {
     "name": "stdout",
     "output_type": "stream",
     "text": [
      "Epoch: 175 loss: 678.465\n"
     ]
    },
    {
     "name": "stderr",
     "output_type": "stream",
     "text": [
      " 90%|█████████ | 180/200 [02:50<00:18,  1.06it/s]"
     ]
    },
    {
     "name": "stdout",
     "output_type": "stream",
     "text": [
      "Epoch: 180 loss: 676.666\n"
     ]
    },
    {
     "name": "stderr",
     "output_type": "stream",
     "text": [
      " 92%|█████████▎| 185/200 [02:54<00:14,  1.06it/s]"
     ]
    },
    {
     "name": "stdout",
     "output_type": "stream",
     "text": [
      "Epoch: 185 loss: 676.125\n"
     ]
    },
    {
     "name": "stderr",
     "output_type": "stream",
     "text": [
      " 95%|█████████▌| 190/200 [02:59<00:09,  1.06it/s]"
     ]
    },
    {
     "name": "stdout",
     "output_type": "stream",
     "text": [
      "Epoch: 190 loss: 674.703\n"
     ]
    },
    {
     "name": "stderr",
     "output_type": "stream",
     "text": [
      " 98%|█████████▊| 195/200 [03:04<00:04,  1.06it/s]"
     ]
    },
    {
     "name": "stdout",
     "output_type": "stream",
     "text": [
      "Epoch: 195 loss: 673.558\n"
     ]
    },
    {
     "name": "stderr",
     "output_type": "stream",
     "text": [
      "                                                 "
     ]
    },
    {
     "name": "stdout",
     "output_type": "stream",
     "text": [
      "Epoch: 200 loss: 672.467\n"
     ]
    },
    {
     "name": "stderr",
     "output_type": "stream",
     "text": [
      "\r"
     ]
    }
   ],
   "source": [
    "# create a model\n",
    "model = topmost.models.SawETM(vocab_size=dataset.vocab_size, num_topics_list=[10, 50, 200], device=device)\n",
    "# model = topmost.models.HyperMiner(vocab_size=dataset.vocab_size, num_topics_list=[10, 50, 200], device=device)\n",
    "model = model.to(device)\n",
    "# create a trainer\n",
    "trainer = topmost.trainers.HierarchicalTrainer(model, dataset)\n",
    "\n",
    "# train the model\n",
    "trainer.train()"
   ]
  },
  {
   "cell_type": "code",
   "execution_count": 6,
   "metadata": {},
   "outputs": [
    {
     "name": "stdout",
     "output_type": "stream",
     "text": [
      "======= Layer: 0 number of topics: 10 =======\n",
      "Topic 0: company percent companies like one many business even also much make work year billion time\n",
      "Topic 1: new state children federal law court plan york bill use school tax also city program\n",
      "Topic 2: said year last two one new first week officials also years three since time according\n",
      "Topic 3: said officials two one also last year according chief week tuesday government first statement public\n",
      "Topic 4: people just like going know michael think get now want one time barbaro right republican\n",
      "Topic 5: police two one killed military attack night day war death officers north sunday hours home\n",
      "Topic 6: political party news russia campaign media china russian black women minister leader european former chinese\n",
      "Topic 7: president trump states united said american government washington security house white administration countries biden national\n",
      "Topic 8: one new time many like years now even also first people world year much make\n",
      "Topic 9: people new coronavirus vaccine health percent million one cases pandemic many year covid virus last\n",
      "======= Layer: 1 number of topics: 50 =======\n",
      "Topic 0: one also many even time year first years now long still last two part like\n",
      "Topic 1: said one two told made also public office called interview several former asked took later\n",
      "Topic 2: one two first three time years said day year another four also now several last\n",
      "Topic 3: last year said week two since officials government month also first months tuesday one according\n",
      "Topic 4: children school schools care students health families parents child college income education university student community\n",
      "Topic 5: party political leader right speech former opposition anti conservative politics leaders supporters group members message\n",
      "Topic 6: black women family men woman old man home father mother sexual sex young wife son\n",
      "Topic 7: case trial charges prison criminal prosecutors crime corruption charged arrested crimes epstein guilty accused jail\n",
      "Topic 8: plan bill tax congress program federal lawmakers policy legislation house aid budget proposal spending proposed\n",
      "Topic 9: climate change power energy natural emissions environmental water air coal project construction infrastructure plants fuel\n",
      "Topic 10: report department information investigation former records documents sources questions said details federal evidence surveillance office\n",
      "Topic 11: government president leaders national power control effort move efforts policy whether groups general public decision\n",
      "Topic 12: people million number country reported pandemic least millions many thousands day according india daily across\n",
      "Topic 13: said chief statement director added executive interview spokesman board told office asked according also times\n",
      "Topic 14: know going think want just people get like lot really something things right thing got\n",
      "Topic 15: said officials tuesday monday week wednesday thursday friday state according government announced last news including\n",
      "Topic 16: police officers death street city building video officer violence man gun car minutes shooting road\n",
      "Topic 17: book story film show movie art music love opera books life best novel series season\n",
      "Topic 18: use agency used system public access using safety also experts federal based including rules agencies\n",
      "Topic 19: states united american security countries intelligence administration obama foreign state officials nations washington international country\n",
      "Topic 20: campaign political money election raising independent politics members fund candidate support reporters includes staff candidates\n",
      "Topic 21: one two first year time years three last said also now another since four second\n",
      "Topic 22: like one many even much make work now time also people way still just long\n",
      "Topic 23: said president public national also government whether office called top made general members including former\n",
      "Topic 24: republican election democrats senate voters republicans democratic senator vote trump president clinton biden race presidential\n",
      "Topic 25: year last said two week since first month months three officials according one tuesday years\n",
      "Topic 26: russia china russian chinese ukraine hong kong putin beijing ukrainian moscow vladimir sanctions war communist\n",
      "Topic 27: coronavirus vaccine health covid virus cases vaccinated vaccines pandemic drug vaccination disease variant doses johnson\n",
      "Topic 28: state court law federal texas governor legal rights case cuomo gov supreme judge ban justice\n",
      "Topic 29: people like now just one time get back see say way even make much need\n",
      "Topic 30: one first time now two years year back three another people just even still many\n",
      "Topic 31: said government officials tuesday also week monday wednesday state public last thursday national friday including\n",
      "Topic 32: deal agreement talks trade negotiations president agreed meeting dispute leaders government sides summit sanctions signed\n",
      "Topic 33: news media facebook online social twitter network internet television fox video company article content musk\n",
      "Topic 34: year last one first two years also time since many three long even still next\n",
      "Topic 35: minister european prime union british europe britain germany london parliament brexit german france boris government\n",
      "Topic 36: saudi team game league prince players games season royal teams meghan harry soccer arabia sports\n",
      "Topic 37: years history world whose decades powerful name become real often business decade built role era\n",
      "Topic 38: two one killed night attack day north sunday hours three first took group south west\n",
      "Topic 39: trump president house white biden donald former investigation capitol special general washington attorney committee vice\n",
      "Topic 40: military war iran forces israel islamic israeli taliban afghanistan syria afghan army attacks iraq isis\n",
      "Topic 41: company companies business billion gas market oil bank industry financial executive investment million technology prices\n",
      "Topic 42: new york city times mayor manhattan state blasio chicago jersey county residents council local island\n",
      "Topic 43: like much make work many even way one big also better small less now change\n",
      "Topic 44: research study university found many world also professor researchers studies years system often center human\n",
      "Topic 45: year last two since first week one months month years three said also time weeks\n",
      "Topic 46: percent data workers rate jobs higher rates labor increase average quarter low per compared pandemic\n",
      "Topic 47: michael barbaro recording archived right really kind going mark sarah yeah today speaker music thank\n",
      "Topic 48: among likely many also less even make work points current based much often years share\n",
      "Topic 49: like one now even many time much people work make just way still also back\n",
      "======= Layer: 2 number of topics: 200 =======\n",
      "Topic 0: one time first now years another back long still even next behind world run open\n",
      "Topic 1: president washington meeting secretary decision national members meetings efforts general official public senior actions call\n",
      "Topic 2: many even work much small often less one years long become far point world like\n",
      "Topic 3: world years history decades whose powerful real become often decade built era century business modern\n",
      "Topic 4: night two hours sunday day saturday morning one west days took left arrived three group\n",
      "Topic 5: said added statement spokesman director adding chief declined executive comment spokeswoman board employees referring conference\n",
      "Topic 6: now back time just see one another first around times away say together still behind\n",
      "Topic 7: first year years time second three two last since won next one five four ago\n",
      "Topic 8: million people number millions reported according many march nearly pandemic least day daily total credit\n",
      "Topic 9: street building car road truck along square red feet village neighborhood driver driving bus nearby\n",
      "Topic 10: use public also system used using including based many access process whether groups allowed include\n",
      "Topic 11: people get just going like need say want right see come think know country take\n",
      "Topic 12: saudi team game league prince players games season royal teams meghan harry soccer arabia sports\n",
      "Topic 13: first time years one two year three another second run next long set four five\n",
      "Topic 14: people one now just time like get back around country still every come see even\n",
      "Topic 15: years world history decades whose powerful become often business decade real built century era created\n",
      "Topic 16: national government groups force power control part whether also take move efforts public toward group\n",
      "Topic 17: facebook online social twitter internet video musk content privacy users digital posted ads company app\n",
      "Topic 18: use used agency safety system using access experts systems agencies review based public including services\n",
      "Topic 19: people million country least day number reported many days thousands millions according daily reporting across\n",
      "Topic 20: also many including years recent high among long set far others though one even often\n",
      "Topic 21: last week month weeks months according tuesday year two days monday announced march since expected\n",
      "Topic 22: also made one public part called two including another several top national office time said\n",
      "Topic 23: much even many make work small long change way future also far like start less\n",
      "Topic 24: coronavirus health vaccine virus cases covid pandemic vaccinated vaccines vaccination variant disease drug doses outbreak\n",
      "Topic 25: going know think want just right lot really like something thing get things talk believe\n",
      "Topic 26: said statement chief added spokesman director executive declined adding comment interview board spokeswoman asked referring\n",
      "Topic 27: one many even long also years still far part now time world set though yet\n",
      "Topic 28: week government last tuesday monday weeks announced wednesday friday thursday month officials expected according two\n",
      "Topic 29: government also national including public group effort state decision move part tuesday called pressure wednesday\n",
      "Topic 30: two one first years three time day another four five several second began known later\n",
      "Topic 31: week last month tuesday weeks announced months monday expected thursday government friday wednesday according latest\n",
      "Topic 32: last week month months year weeks expected since tuesday june march government recent announced two\n",
      "Topic 33: first two three one years year four second time five since day ago another last\n",
      "Topic 34: said according also including week tuesday two state monday officials last several friday government thursday\n",
      "Topic 35: trump president white house biden donald vice administration washington joseph presidency pence elect obama advisers\n",
      "Topic 36: one even years time long many now still part first another world run also past\n",
      "Topic 37: people million number country many reported millions pandemic least according day daily thousands cases across\n",
      "Topic 38: many even long years one far also still yet world set now though part high\n",
      "Topic 39: people just get like say need country now going right come see back want take\n",
      "Topic 40: michael barbaro recording archived yeah really joe donald thank sarah schmidt emily burns julie alex\n",
      "Topic 41: first time one another now back around two open behind still next line times even\n",
      "Topic 42: last government week also year end next since expected recent two already months weeks month\n",
      "Topic 43: officials said tuesday wednesday monday friday thursday state government week announced official according including members\n",
      "Topic 44: years world decades powerful business history often whose decade real become created century elite built\n",
      "Topic 45: said public office also staff members made saying including person called told interview director asked\n",
      "Topic 46: west least near group one front center town two across four day hundreds night home\n",
      "Topic 47: government control leaders power move effort groups efforts president policy force national action crisis fight\n",
      "Topic 48: many also even far long small make work new though less often one much large\n",
      "Topic 49: iran israel islamic israeli syria isis iranian iraq netanyahu syrian iraqi refugees terrorist palestinian arab\n",
      "Topic 50: said members public chief statement official office including also saying wednesday officials tuesday state executive\n",
      "Topic 51: president leaders meeting secretary allies economic leader policy power washington move efforts willing pressure effort\n",
      "Topic 52: information report sources questions records surveillance details anonymous phone reporter uses secret email reliable identity\n",
      "Topic 53: year next years long last since still first time one end now past set far\n",
      "Topic 54: one two first day three several took known years later another came began group four\n",
      "Topic 55: military war forces taliban afghanistan afghan army troops attacks defense region soldiers capital government peace\n",
      "Topic 56: said also public office made times called says one told several person including came two\n",
      "Topic 57: public office former top members national meeting call role made saying called member official president\n",
      "Topic 58: election voters vote clinton presidential democratic candidates mrs polls win elections won voting race candidate\n",
      "Topic 59: like much big make better way bad need today job work start kind americans seems\n",
      "Topic 60: former leader political members leaders group right left speech leadership critics supporters activists anti movement\n",
      "Topic 61: one now time like just people even many still every around back world say way\n",
      "Topic 62: also said one two several made including called public part according time another without first\n",
      "Topic 63: company companies business industry executive billion sales employees production businesses executives million chief global customers\n",
      "Topic 64: national government move effort efforts general whether clear control take pressure public force part hold\n",
      "Topic 65: united american security intelligence foreign officials nations international country border diplomatic council war threat citizens\n",
      "Topic 66: night sunday saturday two hours day days group took morning evening weekend west appeared began\n",
      "Topic 67: minister european prime union british europe britain germany london parliament brexit german france boris government\n",
      "Topic 68: black women men woman female young african gender man racial male jackson gay racism jones\n",
      "Topic 69: also national whether part public made say top take called clear even including general help\n",
      "Topic 70: next end now long still move already even far yet major many year country since\n",
      "Topic 71: now see back just time call times another cover question away say evidence trying together\n",
      "Topic 72: make also even many much work change way making far long say less like already\n",
      "Topic 73: public whether saying mark case says point two questions back clear question end order speaking\n",
      "Topic 74: like one much work way time even make big little now just many job hard\n",
      "Topic 75: first two three one four second five years day time another later final old left\n",
      "Topic 76: among likely less many current share small based even shift model particularly work point popular\n",
      "Topic 77: president leaders power national government leader policy support washington efforts effort meeting group groups leadership\n",
      "Topic 78: economy inflation economic growth fed prices market markets interest price rates bond stock central recession\n",
      "Topic 79: people india country pandemic million number thousands population restrictions deaths toll travel surge across millions\n",
      "Topic 80: russia china russian chinese ukraine hong kong putin beijing ukrainian moscow vladimir sanctions war communist\n",
      "Topic 81: know think going want really lot something just things thing like got good get feel\n",
      "Topic 82: much make even like work many way also change small big making enough far less\n",
      "Topic 83: former role made called john never top interview public described served took name member profile\n",
      "Topic 84: told asked interview later never made took head one said worked wrote described wanted david\n",
      "Topic 85: one even now many time like world still much long way around work years just\n",
      "Topic 86: first year years three time two one second since four five last ago long another\n",
      "Topic 87: deal agreement talks trade negotiations agreed dispute meeting summit sides sanctions signed discussions international negotiating\n",
      "Topic 88: years one first two year time three last run another also since long past set\n",
      "Topic 89: city mayor manhattan blasio chicago council island brooklyn commissioner queens yorkers buildings county bronx nyc\n",
      "Topic 90: vaccine health coronavirus covid virus vaccinated cases vaccines disease vaccination patients doses drug variant hospital\n",
      "Topic 91: like work much big make better way even small many little one hard different problem\n",
      "Topic 92: system center used world known found others often using development human source social including based\n",
      "Topic 93: care health income housing insurance americans poor affordable rent poverty coverage medicaid mandate low moratorium\n",
      "Topic 94: year two last since first three one years many early among still nearly months high\n",
      "Topic 95: storm space miles water hurricane plane river air station puerto airport ice train flight rescue\n",
      "Topic 96: like people one now just time get way many say even still every much need\n",
      "Topic 97: one years first two year three time four since last five second another ago among\n",
      "Topic 98: also even part help long many take far say without already yet still one end\n",
      "Topic 99: former made interview never told wrote called role took later described asked john named became\n",
      "Topic 100: year last two since three first months early according among day one nearly still years\n",
      "Topic 101: know going think want just lot get like really something got things good thing feel\n",
      "Topic 102: party political leader opposition right conservative politics parties coalition democracy wing elections politician majority opponents\n",
      "Topic 103: right michael kind really today going think speaker sort actually talking mean music pretty speaking\n",
      "Topic 104: said chief executive statement board director employees comment declined spokesman added according interview service spokeswoman\n",
      "Topic 105: first time one years now another long next still back year run second set won\n",
      "Topic 106: officials tuesday monday said week wednesday thursday friday announced government state according news latest last\n",
      "Topic 107: news media network fox television article published newspaper journalists post press editor coverage outlets channel\n",
      "Topic 108: long years even one now next time still many first end world far year yet\n",
      "Topic 109: family old home mother father son wife died husband brother life daughter baby sister boy\n",
      "Topic 110: year last since next end years months recent major still high long expected two also\n",
      "Topic 111: one two day took later hours three first began came several days night found outside\n",
      "Topic 112: killed attack fire dead site area authorities hospital killing dozens camp paris claimed bodies near\n",
      "Topic 113: san los angeles brown park mexico francisco calif australia restaurant photo fla beach philadelphia bay\n",
      "Topic 114: public whether national general issues also efforts top decision clear issue part president called calls\n",
      "Topic 115: government officials tuesday state wednesday announced monday week friday thursday also including control official effort\n",
      "Topic 116: plan program federal policy aid relief rules programs plans funding proposed administration help assistance initiative\n",
      "Topic 117: national public general whether president top decision issues efforts called calls meeting position saying also\n",
      "Topic 118: new york times state jersey brian fifth holiday added covering included county according commissioner said\n",
      "Topic 119: impeachment committee davis president house stone call roger mike ambassador taylor adam democrats zelensky sondland\n",
      "Topic 120: research study university found professor researchers studies institute scientists science published lab project human development\n",
      "Topic 121: said told interview asked director wrote former made office called head several chief described member\n",
      "Topic 122: capitol special attorney fbi investigation mueller inquiry justice counsel jan general congress election lawyer conspiracy\n",
      "Topic 123: use used agency system safety access using experts public based systems including allowed agencies groups\n",
      "Topic 124: states countries administration obama state washington secretary department canada order homeland agencies aid program governments\n",
      "Topic 125: like much make work big better way change even ways small hard problem many today\n",
      "Topic 126: people just now get time back country like say one see come day every take\n",
      "Topic 127: department report investigation federal documents evidence records investigators page scrutiny investigations whether released enforcement bureau\n",
      "Topic 128: one two took later several first day came found known three outside another began head\n",
      "Topic 129: percent data workers rate jobs higher rates labor increase average quarter low per compared job\n",
      "Topic 130: one people now time just back like still around every even home say get first\n",
      "Topic 131: government control effort efforts move national leaders power force groups policy action president decision general\n",
      "Topic 132: world often years others many used system known center including also using social found recent\n",
      "Topic 133: government control move take national also force whether help part major already effort clear say\n",
      "Topic 134: two one also said several according first including another called time years known made came\n",
      "Topic 135: book story show music love books life best novel writing read character review reading writer\n",
      "Topic 136: one now time even still just many back people around first like world another every\n",
      "Topic 137: government leaders control power economic president crisis leader move policy groups effort national support nation\n",
      "Topic 138: year last since month months nearly three years june two expected high recent first week\n",
      "Topic 139: also many including years often among based recent high others though even made far long\n",
      "Topic 140: whether also take national say help part clear make issue move even public issues general\n",
      "Topic 141: accused former accusations denied allegations resigned fired behavior claims permanent interim resignation hired lawyer replaced\n",
      "Topic 142: climate change power energy natural emissions environmental water air coal project construction infrastructure plants fuel\n",
      "Topic 143: many even long one years world far also much work still become small yet make\n",
      "Topic 144: like much way make work even big one little now time get need just job\n",
      "Topic 145: sexual sex abuse weinstein girls harassment victims women assault catholic allegations sexually harvey rape behavior\n",
      "Topic 146: officials said monday tuesday week thursday wednesday state friday according announced reported news government confirmed\n",
      "Topic 147: technology apple amazon tech company software cars electric uber app google apps tesla vehicles companies\n",
      "Topic 148: year last since month months june nearly three march expected half record second third week\n",
      "Topic 149: make many also less work even based much change small likely way like often say\n",
      "Topic 150: tax budget spending billion pay taxes treasury package trillion cuts money fiscal debt cut economic\n",
      "Topic 151: said interview told asked director times chief statement office members person saying called also several\n",
      "Topic 152: also even including part made national public whether say many called without top make help\n",
      "Topic 153: officials government tuesday monday week friday wednesday thursday announced state said latest according reported official\n",
      "Topic 154: children school schools students families parents child college education university student community teachers california high\n",
      "Topic 155: bill congress lawmakers legislation house pass immigration law act proposal passed support immigrants measure bipartisan\n",
      "Topic 156: government control power move groups effort leaders national force efforts action fight policy take push\n",
      "Topic 157: also even make many say whether far making long part take help made already without\n",
      "Topic 158: officials said tuesday wednesday monday state thursday friday announced week according official including conference government\n",
      "Topic 159: also public use system whether say make process many based certain given allow possible americans\n",
      "Topic 160: officials said monday thursday wednesday tuesday friday state news according week announced reported confirmed conference\n",
      "Topic 161: know think going want really something lot just things like got thing good get feel\n",
      "Topic 162: history years name whose become world real role often decades great self helped became career\n",
      "Topic 163: president efforts effort national general policy decision government move whether washington power actions pressure action\n",
      "Topic 164: week last tuesday according monday announced officials weeks thursday month friday said days wednesday news\n",
      "Topic 165: former adviser office committee letter general washington investigation team senior meeting personal aides chairman top\n",
      "Topic 166: year last since month months two week three june according march nearly recent early expected\n",
      "Topic 167: also one made called part including public two several said another without says national office\n",
      "Topic 168: work like much make even many small way better big also less one change often\n",
      "Topic 169: republican democrats senate republicans senator democratic sanders biden democrat georgia race senators warren representative carolina\n",
      "Topic 170: name history views whose became career years language become role religious never choice great field\n",
      "Topic 171: film movie art opera series disney season theater museum musical dance star production prize performance\n",
      "Topic 172: like now one people time just way much even make say get still little need\n",
      "Topic 173: vaccine health coronavirus cases covid virus drug vaccinated hospital vaccines johnson disease medical testing patients\n",
      "Topic 174: state texas governor rights cuomo gov ban abortion andrew california marijuana amendment legislature albany laws\n",
      "Topic 175: man never friends name friend smith told recalled lee worked knew became wife life old\n",
      "Topic 176: night two sunday hours day saturday days one took group morning left west arrived began\n",
      "Topic 177: year last since two three months first month nearly second weeks early years six week\n",
      "Topic 178: case trial charges prison criminal prosecutors crime corruption charged arrested crimes epstein guilty accused jail\n",
      "Topic 179: said times told interview person office asked public director staff also saying statement came according\n",
      "Topic 180: residents local county home cities across areas homes food area places living south population parts\n",
      "Topic 181: like much work make big way better even little hard one small many find working\n",
      "Topic 182: away room inside door body outside side minutes later around hour floor hotel hand ground\n",
      "Topic 183: death video man shot minutes crowd footage killing scene flag shooting gunman mob van brooks\n",
      "Topic 184: campaign political money raising independent fund politics members reporters includes candidate support staff election allowed\n",
      "Topic 185: gas oil market bank investment financial billion investors money price stock prices banks fund cash\n",
      "Topic 186: work many less much make even small better like often also change way ways big\n",
      "Topic 187: former speech group message remarks comments members criticism left views supporters attacks prominent calls anti\n",
      "Topic 188: agency use federal rules access safety review protection required require system allowed experts process used\n",
      "Topic 189: court law federal legal case judge supreme justice district filed decision ruling lawsuit courts rule\n",
      "Topic 190: north south nuclear korea missile korean kim japan plant weapons jong bomb africa missiles japanese\n",
      "Topic 191: likely among points shift model share percentage current survey less surveys age map error somewhat\n",
      "Topic 192: last year since two months week month weeks recent expected three next end late also\n",
      "Topic 193: last year two since three first months month among also according recent week early years\n",
      "Topic 194: said chief statement executive according added director also employees including board members state service spokesman\n",
      "Topic 195: power political leaders national group former leader powerful leadership led support critics members called right\n",
      "Topic 196: people one just now time like get back country come say every see around home\n",
      "Topic 197: police officers officer violence gun protests protesters shooting floyd guns violent shootings force streets protest\n",
      "Topic 198: speech anti rally message hate activists right supporters freedom religious racist remarks voice minority nazi\n",
      "Topic 199: one two day night hours took later left found three used center old four began\n"
     ]
    },
    {
     "name": "stdout",
     "output_type": "stream",
     "text": [
      "TD: 0.43144444444444446\n",
      "{'Purity': 0.5777051561365286, 'NMI': 0.2995875490256381}\n",
      "{'acc': 0.6706608569353666, 'macro-F1': 0.44623466838252873}\n"
     ]
    }
   ],
   "source": [
    "########################### Evaluate ####################################\n",
    "from topmost import evaluations\n",
    "\n",
    "# get top words of topics\n",
    "top_words = trainer.export_top_words(num_top_words=15)\n",
    "# get theta (doc-topic distributions)\n",
    "train_theta, test_theta = trainer.export_theta()\n",
    "\n",
    "# compute topic coherence\n",
    "# refer to https://github.com/BobXWu/ECRTM\n",
    "\n",
    "# compute topic diversity\n",
    "TD = evaluations.compute_multiaspect_topic_diversity(top_words)\n",
    "print(f\"TD: {TD}\")\n",
    "\n",
    "# evaluate clustering\n",
    "results = evaluations.evaluate_hierarchical_clustering(test_theta, dataset.test_labels)\n",
    "print(dict(results))\n",
    "\n",
    "# evaluate classification\n",
    "results = evaluations.evaluate_hierarchical_classification(train_theta, test_theta, dataset.train_labels, dataset.test_labels)\n",
    "print(dict(results))\n"
   ]
  }
 ],
 "metadata": {
  "kernelspec": {
   "display_name": "torch1.13py3.8",
   "language": "python",
   "name": "python3"
  },
  "language_info": {
   "codemirror_mode": {
    "name": "ipython",
    "version": 3
   },
   "file_extension": ".py",
   "mimetype": "text/x-python",
   "name": "python",
   "nbconvert_exporter": "python",
   "pygments_lexer": "ipython3",
   "version": "3.8.17"
  },
  "orig_nbformat": 4
 },
 "nbformat": 4,
 "nbformat_minor": 2
}
