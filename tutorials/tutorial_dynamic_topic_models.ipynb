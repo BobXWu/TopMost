{
 "cells": [
  {
   "cell_type": "code",
   "execution_count": 1,
   "metadata": {},
   "outputs": [
    {
     "name": "stdout",
     "output_type": "stream",
     "text": [
      "https://raw.githubusercontent.com/BobXWu/TopMost/master/data/NYT.zip\n",
      "Using downloaded and verified file: ./datasets/NYT.zip\n"
     ]
    }
   ],
   "source": [
    "import topmost\n",
    "from topmost.data import download_dataset\n",
    "\n",
    "device = \"cuda\" # or \"cpu\"\n",
    "dataset_dir = \"./datasets/NYT\"\n",
    "download_dataset('NYT', cache_path='./datasets')"
   ]
  },
  {
   "cell_type": "code",
   "execution_count": 2,
   "metadata": {},
   "outputs": [
    {
     "name": "stdout",
     "output_type": "stream",
     "text": [
      "===>Info: all train size:  8254\n",
      "===>Info: all test size:  918\n",
      "===>Info: all vocab size:  10000\n",
      "===>Info: average length: 175.429\n",
      "===>Info: num of each time slice:  11 [ 194  265  431  554  744  837  802  884 1283 1400  860]\n"
     ]
    }
   ],
   "source": [
    "# load a dataset\n",
    "dataset = topmost.data.DynamicDatasetHandler(dataset_dir, batch_size=1000, read_labels=True, device=device, as_tensor=True)"
   ]
  },
  {
   "cell_type": "code",
   "execution_count": 5,
   "metadata": {},
   "outputs": [
    {
     "name": "stderr",
     "output_type": "stream",
     "text": [
      "  1%|▏         | 5/400 [00:02<03:06,  2.12it/s]"
     ]
    },
    {
     "name": "stdout",
     "output_type": "stream",
     "text": [
      "Epoch: 005 loss: 275761.875 nll: 39462.305 kl_eta: 1.643 kl_theta: 54.228 kl_alpha: 236243.703\n"
     ]
    },
    {
     "name": "stderr",
     "output_type": "stream",
     "text": [
      "  2%|▎         | 10/400 [00:04<03:00,  2.16it/s]"
     ]
    },
    {
     "name": "stdout",
     "output_type": "stream",
     "text": [
      "Epoch: 010 loss: 253993.547 nll: 39316.551 kl_eta: 1.589 kl_theta: 61.099 kl_alpha: 214614.312\n"
     ]
    },
    {
     "name": "stderr",
     "output_type": "stream",
     "text": [
      "  4%|▍         | 15/400 [00:07<02:59,  2.14it/s]"
     ]
    },
    {
     "name": "stdout",
     "output_type": "stream",
     "text": [
      "Epoch: 015 loss: 234807.156 nll: 39287.477 kl_eta: 1.483 kl_theta: 64.332 kl_alpha: 195453.844\n"
     ]
    },
    {
     "name": "stderr",
     "output_type": "stream",
     "text": [
      "  5%|▌         | 20/400 [00:09<02:52,  2.21it/s]"
     ]
    },
    {
     "name": "stdout",
     "output_type": "stream",
     "text": [
      "Epoch: 020 loss: 217951.344 nll: 39178.445 kl_eta: 1.489 kl_theta: 56.638 kl_alpha: 178714.734\n"
     ]
    },
    {
     "name": "stderr",
     "output_type": "stream",
     "text": [
      "  6%|▋         | 25/400 [00:11<02:54,  2.15it/s]"
     ]
    },
    {
     "name": "stdout",
     "output_type": "stream",
     "text": [
      "Epoch: 025 loss: 202876.797 nll: 38776.734 kl_eta: 1.481 kl_theta: 64.800 kl_alpha: 164033.766\n"
     ]
    },
    {
     "name": "stderr",
     "output_type": "stream",
     "text": [
      "  8%|▊         | 30/400 [00:14<03:03,  2.02it/s]"
     ]
    },
    {
     "name": "stdout",
     "output_type": "stream",
     "text": [
      "Epoch: 030 loss: 189709.219 nll: 38987.355 kl_eta: 1.521 kl_theta: 59.406 kl_alpha: 150660.938\n"
     ]
    },
    {
     "name": "stderr",
     "output_type": "stream",
     "text": [
      "  9%|▉         | 35/400 [00:16<02:55,  2.08it/s]"
     ]
    },
    {
     "name": "stdout",
     "output_type": "stream",
     "text": [
      "Epoch: 035 loss: 178116.609 nll: 38781.809 kl_eta: 1.510 kl_theta: 61.294 kl_alpha: 139271.984\n"
     ]
    },
    {
     "name": "stderr",
     "output_type": "stream",
     "text": [
      " 10%|█         | 40/400 [00:18<02:57,  2.02it/s]"
     ]
    },
    {
     "name": "stdout",
     "output_type": "stream",
     "text": [
      "Epoch: 040 loss: 167788.484 nll: 38942.332 kl_eta: 1.575 kl_theta: 73.663 kl_alpha: 128770.898\n"
     ]
    },
    {
     "name": "stderr",
     "output_type": "stream",
     "text": [
      " 11%|█▏        | 45/400 [00:21<02:51,  2.07it/s]"
     ]
    },
    {
     "name": "stdout",
     "output_type": "stream",
     "text": [
      "Epoch: 045 loss: 158072.969 nll: 38489.512 kl_eta: 1.656 kl_theta: 65.615 kl_alpha: 119516.195\n"
     ]
    },
    {
     "name": "stderr",
     "output_type": "stream",
     "text": [
      " 12%|█▎        | 50/400 [00:23<02:49,  2.07it/s]"
     ]
    },
    {
     "name": "stdout",
     "output_type": "stream",
     "text": [
      "Epoch: 050 loss: 149700.078 nll: 38565.875 kl_eta: 1.668 kl_theta: 75.474 kl_alpha: 111057.062\n"
     ]
    },
    {
     "name": "stderr",
     "output_type": "stream",
     "text": [
      " 14%|█▍        | 55/400 [00:26<03:05,  1.86it/s]"
     ]
    },
    {
     "name": "stdout",
     "output_type": "stream",
     "text": [
      "Epoch: 055 loss: 142351.062 nll: 38412.082 kl_eta: 1.882 kl_theta: 77.148 kl_alpha: 103859.961\n"
     ]
    },
    {
     "name": "stderr",
     "output_type": "stream",
     "text": [
      " 15%|█▌        | 60/400 [00:29<02:54,  1.95it/s]"
     ]
    },
    {
     "name": "stdout",
     "output_type": "stream",
     "text": [
      "Epoch: 060 loss: 135234.359 nll: 38251.227 kl_eta: 2.117 kl_theta: 79.331 kl_alpha: 96901.664\n"
     ]
    },
    {
     "name": "stderr",
     "output_type": "stream",
     "text": [
      " 16%|█▋        | 65/400 [00:31<02:55,  1.91it/s]"
     ]
    },
    {
     "name": "stdout",
     "output_type": "stream",
     "text": [
      "Epoch: 065 loss: 129460.555 nll: 38409.574 kl_eta: 2.318 kl_theta: 88.990 kl_alpha: 90959.656\n"
     ]
    },
    {
     "name": "stderr",
     "output_type": "stream",
     "text": [
      " 18%|█▊        | 70/400 [00:34<02:53,  1.91it/s]"
     ]
    },
    {
     "name": "stdout",
     "output_type": "stream",
     "text": [
      "Epoch: 070 loss: 123280.602 nll: 37925.473 kl_eta: 2.398 kl_theta: 88.727 kl_alpha: 85264.008\n"
     ]
    },
    {
     "name": "stderr",
     "output_type": "stream",
     "text": [
      " 19%|█▉        | 75/400 [00:36<02:37,  2.06it/s]"
     ]
    },
    {
     "name": "stdout",
     "output_type": "stream",
     "text": [
      "Epoch: 075 loss: 118206.875 nll: 37890.062 kl_eta: 2.300 kl_theta: 107.159 kl_alpha: 80207.352\n"
     ]
    },
    {
     "name": "stderr",
     "output_type": "stream",
     "text": [
      " 20%|██        | 80/400 [00:39<02:35,  2.05it/s]"
     ]
    },
    {
     "name": "stdout",
     "output_type": "stream",
     "text": [
      "Epoch: 080 loss: 113642.539 nll: 37669.262 kl_eta: 2.683 kl_theta: 121.041 kl_alpha: 75849.555\n"
     ]
    },
    {
     "name": "stderr",
     "output_type": "stream",
     "text": [
      " 21%|██▏       | 85/400 [00:41<02:30,  2.09it/s]"
     ]
    },
    {
     "name": "stdout",
     "output_type": "stream",
     "text": [
      "Epoch: 085 loss: 109599.586 nll: 37884.449 kl_eta: 2.502 kl_theta: 136.675 kl_alpha: 71575.961\n"
     ]
    },
    {
     "name": "stderr",
     "output_type": "stream",
     "text": [
      " 22%|██▎       | 90/400 [00:43<02:30,  2.06it/s]"
     ]
    },
    {
     "name": "stdout",
     "output_type": "stream",
     "text": [
      "Epoch: 090 loss: 106089.328 nll: 38001.367 kl_eta: 2.788 kl_theta: 148.683 kl_alpha: 67936.492\n"
     ]
    },
    {
     "name": "stderr",
     "output_type": "stream",
     "text": [
      " 24%|██▍       | 95/400 [00:46<02:27,  2.07it/s]"
     ]
    },
    {
     "name": "stdout",
     "output_type": "stream",
     "text": [
      "Epoch: 095 loss: 101775.734 nll: 37294.891 kl_eta: 2.645 kl_theta: 158.118 kl_alpha: 64320.086\n"
     ]
    },
    {
     "name": "stderr",
     "output_type": "stream",
     "text": [
      " 25%|██▌       | 100/400 [00:48<02:18,  2.17it/s]"
     ]
    },
    {
     "name": "stdout",
     "output_type": "stream",
     "text": [
      "Epoch: 100 loss: 98803.180 nll: 37479.637 kl_eta: 2.530 kl_theta: 175.141 kl_alpha: 61145.863\n"
     ]
    },
    {
     "name": "stderr",
     "output_type": "stream",
     "text": [
      " 26%|██▋       | 105/400 [00:50<02:17,  2.14it/s]"
     ]
    },
    {
     "name": "stdout",
     "output_type": "stream",
     "text": [
      "Epoch: 105 loss: 95654.703 nll: 37389.707 kl_eta: 2.515 kl_theta: 191.337 kl_alpha: 58071.145\n"
     ]
    },
    {
     "name": "stderr",
     "output_type": "stream",
     "text": [
      " 28%|██▊       | 110/400 [00:53<02:12,  2.20it/s]"
     ]
    },
    {
     "name": "stdout",
     "output_type": "stream",
     "text": [
      "Epoch: 110 loss: 93018.430 nll: 37565.453 kl_eta: 2.443 kl_theta: 195.823 kl_alpha: 55254.715\n"
     ]
    },
    {
     "name": "stderr",
     "output_type": "stream",
     "text": [
      " 29%|██▉       | 115/400 [00:55<02:11,  2.17it/s]"
     ]
    },
    {
     "name": "stdout",
     "output_type": "stream",
     "text": [
      "Epoch: 115 loss: 90082.086 nll: 37218.031 kl_eta: 2.496 kl_theta: 201.163 kl_alpha: 52660.402\n"
     ]
    },
    {
     "name": "stderr",
     "output_type": "stream",
     "text": [
      " 30%|███       | 120/400 [00:57<02:07,  2.20it/s]"
     ]
    },
    {
     "name": "stdout",
     "output_type": "stream",
     "text": [
      "Epoch: 120 loss: 87747.477 nll: 37264.516 kl_eta: 2.395 kl_theta: 209.306 kl_alpha: 50271.266\n"
     ]
    },
    {
     "name": "stderr",
     "output_type": "stream",
     "text": [
      " 31%|███▏      | 125/400 [01:00<02:06,  2.17it/s]"
     ]
    },
    {
     "name": "stdout",
     "output_type": "stream",
     "text": [
      "Epoch: 125 loss: 86159.469 nll: 37724.414 kl_eta: 2.372 kl_theta: 219.763 kl_alpha: 48212.922\n"
     ]
    },
    {
     "name": "stderr",
     "output_type": "stream",
     "text": [
      " 32%|███▎      | 130/400 [01:02<02:09,  2.09it/s]"
     ]
    },
    {
     "name": "stdout",
     "output_type": "stream",
     "text": [
      "Epoch: 130 loss: 83423.969 nll: 37249.500 kl_eta: 2.359 kl_theta: 225.699 kl_alpha: 45946.414\n"
     ]
    },
    {
     "name": "stderr",
     "output_type": "stream",
     "text": [
      " 34%|███▍      | 135/400 [01:04<02:04,  2.13it/s]"
     ]
    },
    {
     "name": "stdout",
     "output_type": "stream",
     "text": [
      "Epoch: 135 loss: 81284.242 nll: 36983.539 kl_eta: 2.411 kl_theta: 235.637 kl_alpha: 44062.660\n"
     ]
    },
    {
     "name": "stderr",
     "output_type": "stream",
     "text": [
      " 35%|███▌      | 140/400 [01:07<02:03,  2.11it/s]"
     ]
    },
    {
     "name": "stdout",
     "output_type": "stream",
     "text": [
      "Epoch: 140 loss: 79508.555 nll: 36930.859 kl_eta: 2.395 kl_theta: 237.262 kl_alpha: 42338.047\n"
     ]
    },
    {
     "name": "stderr",
     "output_type": "stream",
     "text": [
      " 36%|███▋      | 145/400 [01:09<02:05,  2.04it/s]"
     ]
    },
    {
     "name": "stdout",
     "output_type": "stream",
     "text": [
      "Epoch: 145 loss: 77577.883 nll: 36756.059 kl_eta: 2.455 kl_theta: 247.374 kl_alpha: 40572.004\n"
     ]
    },
    {
     "name": "stderr",
     "output_type": "stream",
     "text": [
      " 38%|███▊      | 150/400 [01:12<01:59,  2.09it/s]"
     ]
    },
    {
     "name": "stdout",
     "output_type": "stream",
     "text": [
      "Epoch: 150 loss: 75983.258 nll: 36810.668 kl_eta: 2.525 kl_theta: 248.090 kl_alpha: 38921.977\n"
     ]
    },
    {
     "name": "stderr",
     "output_type": "stream",
     "text": [
      " 39%|███▉      | 155/400 [01:14<02:01,  2.02it/s]"
     ]
    },
    {
     "name": "stdout",
     "output_type": "stream",
     "text": [
      "Epoch: 155 loss: 74155.070 nll: 36462.656 kl_eta: 2.396 kl_theta: 252.751 kl_alpha: 37437.262\n"
     ]
    },
    {
     "name": "stderr",
     "output_type": "stream",
     "text": [
      " 40%|████      | 160/400 [01:16<01:55,  2.08it/s]"
     ]
    },
    {
     "name": "stdout",
     "output_type": "stream",
     "text": [
      "Epoch: 160 loss: 73424.922 nll: 37148.812 kl_eta: 2.459 kl_theta: 264.006 kl_alpha: 36009.641\n"
     ]
    },
    {
     "name": "stderr",
     "output_type": "stream",
     "text": [
      " 41%|████▏     | 165/400 [01:19<01:54,  2.05it/s]"
     ]
    },
    {
     "name": "stdout",
     "output_type": "stream",
     "text": [
      "Epoch: 165 loss: 71817.898 nll: 36960.008 kl_eta: 2.498 kl_theta: 257.177 kl_alpha: 34598.215\n"
     ]
    },
    {
     "name": "stderr",
     "output_type": "stream",
     "text": [
      " 42%|████▎     | 170/400 [01:21<01:53,  2.03it/s]"
     ]
    },
    {
     "name": "stdout",
     "output_type": "stream",
     "text": [
      "Epoch: 170 loss: 70682.125 nll: 36991.293 kl_eta: 2.483 kl_theta: 269.123 kl_alpha: 33419.227\n"
     ]
    },
    {
     "name": "stderr",
     "output_type": "stream",
     "text": [
      " 44%|████▍     | 175/400 [01:24<01:47,  2.09it/s]"
     ]
    },
    {
     "name": "stdout",
     "output_type": "stream",
     "text": [
      "Epoch: 175 loss: 69696.586 nll: 37190.684 kl_eta: 2.526 kl_theta: 272.866 kl_alpha: 32230.504\n"
     ]
    },
    {
     "name": "stderr",
     "output_type": "stream",
     "text": [
      " 45%|████▌     | 180/400 [01:26<01:47,  2.05it/s]"
     ]
    },
    {
     "name": "stdout",
     "output_type": "stream",
     "text": [
      "Epoch: 180 loss: 67571.805 nll: 36223.391 kl_eta: 2.448 kl_theta: 267.739 kl_alpha: 31078.232\n"
     ]
    },
    {
     "name": "stderr",
     "output_type": "stream",
     "text": [
      " 46%|████▋     | 185/400 [01:29<01:43,  2.07it/s]"
     ]
    },
    {
     "name": "stdout",
     "output_type": "stream",
     "text": [
      "Epoch: 185 loss: 66824.242 nll: 36590.246 kl_eta: 2.437 kl_theta: 278.359 kl_alpha: 29953.199\n"
     ]
    },
    {
     "name": "stderr",
     "output_type": "stream",
     "text": [
      " 48%|████▊     | 190/400 [01:31<01:41,  2.08it/s]"
     ]
    },
    {
     "name": "stdout",
     "output_type": "stream",
     "text": [
      "Epoch: 190 loss: 65729.469 nll: 36548.551 kl_eta: 2.506 kl_theta: 278.260 kl_alpha: 28900.156\n"
     ]
    },
    {
     "name": "stderr",
     "output_type": "stream",
     "text": [
      " 49%|████▉     | 195/400 [01:33<01:41,  2.02it/s]"
     ]
    },
    {
     "name": "stdout",
     "output_type": "stream",
     "text": [
      "Epoch: 195 loss: 64870.746 nll: 36680.758 kl_eta: 2.448 kl_theta: 281.768 kl_alpha: 27905.770\n"
     ]
    },
    {
     "name": "stderr",
     "output_type": "stream",
     "text": [
      " 50%|█████     | 200/400 [01:36<01:35,  2.09it/s]"
     ]
    },
    {
     "name": "stdout",
     "output_type": "stream",
     "text": [
      "Epoch: 200 loss: 63670.000 nll: 36397.020 kl_eta: 2.523 kl_theta: 281.050 kl_alpha: 26989.406\n"
     ]
    },
    {
     "name": "stderr",
     "output_type": "stream",
     "text": [
      " 51%|█████▏    | 205/400 [01:38<01:36,  2.03it/s]"
     ]
    },
    {
     "name": "stdout",
     "output_type": "stream",
     "text": [
      "Epoch: 205 loss: 62845.477 nll: 36482.203 kl_eta: 2.541 kl_theta: 282.323 kl_alpha: 26078.406\n"
     ]
    },
    {
     "name": "stderr",
     "output_type": "stream",
     "text": [
      " 52%|█████▎    | 210/400 [01:41<01:31,  2.08it/s]"
     ]
    },
    {
     "name": "stdout",
     "output_type": "stream",
     "text": [
      "Epoch: 210 loss: 61845.777 nll: 36330.004 kl_eta: 2.571 kl_theta: 282.377 kl_alpha: 25230.830\n"
     ]
    },
    {
     "name": "stderr",
     "output_type": "stream",
     "text": [
      " 54%|█████▍    | 215/400 [01:43<01:29,  2.07it/s]"
     ]
    },
    {
     "name": "stdout",
     "output_type": "stream",
     "text": [
      "Epoch: 215 loss: 61115.414 nll: 36420.707 kl_eta: 2.659 kl_theta: 292.665 kl_alpha: 24399.385\n"
     ]
    },
    {
     "name": "stderr",
     "output_type": "stream",
     "text": [
      " 55%|█████▌    | 220/400 [01:46<01:31,  1.98it/s]"
     ]
    },
    {
     "name": "stdout",
     "output_type": "stream",
     "text": [
      "Epoch: 220 loss: 60171.676 nll: 36255.414 kl_eta: 2.600 kl_theta: 288.123 kl_alpha: 23625.533\n"
     ]
    },
    {
     "name": "stderr",
     "output_type": "stream",
     "text": [
      " 56%|█████▋    | 225/400 [01:48<01:22,  2.13it/s]"
     ]
    },
    {
     "name": "stdout",
     "output_type": "stream",
     "text": [
      "Epoch: 225 loss: 59228.000 nll: 36069.551 kl_eta: 2.568 kl_theta: 285.595 kl_alpha: 22870.289\n"
     ]
    },
    {
     "name": "stderr",
     "output_type": "stream",
     "text": [
      " 57%|█████▊    | 230/400 [01:50<01:21,  2.09it/s]"
     ]
    },
    {
     "name": "stdout",
     "output_type": "stream",
     "text": [
      "Epoch: 230 loss: 58529.086 nll: 36112.301 kl_eta: 2.583 kl_theta: 288.057 kl_alpha: 22126.146\n"
     ]
    },
    {
     "name": "stderr",
     "output_type": "stream",
     "text": [
      " 59%|█████▉    | 235/400 [01:53<01:17,  2.12it/s]"
     ]
    },
    {
     "name": "stdout",
     "output_type": "stream",
     "text": [
      "Epoch: 235 loss: 57922.848 nll: 36167.609 kl_eta: 2.667 kl_theta: 287.627 kl_alpha: 21464.938\n"
     ]
    },
    {
     "name": "stderr",
     "output_type": "stream",
     "text": [
      " 60%|██████    | 240/400 [01:55<01:16,  2.08it/s]"
     ]
    },
    {
     "name": "stdout",
     "output_type": "stream",
     "text": [
      "Epoch: 240 loss: 57271.539 nll: 36170.320 kl_eta: 2.675 kl_theta: 287.658 kl_alpha: 20810.879\n"
     ]
    },
    {
     "name": "stderr",
     "output_type": "stream",
     "text": [
      " 61%|██████▏   | 245/400 [01:58<01:16,  2.03it/s]"
     ]
    },
    {
     "name": "stdout",
     "output_type": "stream",
     "text": [
      "Epoch: 245 loss: 56718.422 nll: 36272.156 kl_eta: 2.649 kl_theta: 289.157 kl_alpha: 20154.457\n"
     ]
    },
    {
     "name": "stderr",
     "output_type": "stream",
     "text": [
      " 62%|██████▎   | 250/400 [02:00<01:09,  2.16it/s]"
     ]
    },
    {
     "name": "stdout",
     "output_type": "stream",
     "text": [
      "Epoch: 250 loss: 56759.426 nll: 36919.836 kl_eta: 2.667 kl_theta: 292.030 kl_alpha: 19544.898\n"
     ]
    },
    {
     "name": "stderr",
     "output_type": "stream",
     "text": [
      " 64%|██████▍   | 255/400 [02:02<01:07,  2.15it/s]"
     ]
    },
    {
     "name": "stdout",
     "output_type": "stream",
     "text": [
      "Epoch: 255 loss: 55384.426 nll: 36138.020 kl_eta: 2.754 kl_theta: 286.540 kl_alpha: 18957.111\n"
     ]
    },
    {
     "name": "stderr",
     "output_type": "stream",
     "text": [
      " 65%|██████▌   | 260/400 [02:05<01:07,  2.07it/s]"
     ]
    },
    {
     "name": "stdout",
     "output_type": "stream",
     "text": [
      "Epoch: 260 loss: 54580.879 nll: 35891.270 kl_eta: 2.716 kl_theta: 290.882 kl_alpha: 18396.012\n"
     ]
    },
    {
     "name": "stderr",
     "output_type": "stream",
     "text": [
      " 66%|██████▋   | 265/400 [02:07<01:01,  2.18it/s]"
     ]
    },
    {
     "name": "stdout",
     "output_type": "stream",
     "text": [
      "Epoch: 265 loss: 54231.633 nll: 36058.734 kl_eta: 2.737 kl_theta: 288.046 kl_alpha: 17882.111\n"
     ]
    },
    {
     "name": "stderr",
     "output_type": "stream",
     "text": [
      " 68%|██████▊   | 270/400 [02:09<01:01,  2.11it/s]"
     ]
    },
    {
     "name": "stdout",
     "output_type": "stream",
     "text": [
      "Epoch: 270 loss: 54098.051 nll: 36487.656 kl_eta: 2.829 kl_theta: 293.147 kl_alpha: 17314.416\n"
     ]
    },
    {
     "name": "stderr",
     "output_type": "stream",
     "text": [
      " 69%|██████▉   | 275/400 [02:11<00:57,  2.19it/s]"
     ]
    },
    {
     "name": "stdout",
     "output_type": "stream",
     "text": [
      "Epoch: 275 loss: 53565.074 nll: 36427.684 kl_eta: 2.800 kl_theta: 295.226 kl_alpha: 16839.363\n"
     ]
    },
    {
     "name": "stderr",
     "output_type": "stream",
     "text": [
      " 70%|███████   | 280/400 [02:14<00:55,  2.18it/s]"
     ]
    },
    {
     "name": "stdout",
     "output_type": "stream",
     "text": [
      "Epoch: 280 loss: 52359.777 nll: 35680.164 kl_eta: 2.834 kl_theta: 294.969 kl_alpha: 16381.813\n"
     ]
    },
    {
     "name": "stderr",
     "output_type": "stream",
     "text": [
      " 71%|███████▏  | 285/400 [02:16<00:56,  2.03it/s]"
     ]
    },
    {
     "name": "stdout",
     "output_type": "stream",
     "text": [
      "Epoch: 285 loss: 52297.832 nll: 36092.039 kl_eta: 2.863 kl_theta: 291.260 kl_alpha: 15911.672\n"
     ]
    },
    {
     "name": "stderr",
     "output_type": "stream",
     "text": [
      " 72%|███████▎  | 290/400 [02:19<00:51,  2.12it/s]"
     ]
    },
    {
     "name": "stdout",
     "output_type": "stream",
     "text": [
      "Epoch: 290 loss: 51693.477 nll: 35948.766 kl_eta: 2.883 kl_theta: 295.732 kl_alpha: 15446.092\n"
     ]
    },
    {
     "name": "stderr",
     "output_type": "stream",
     "text": [
      " 74%|███████▍  | 295/400 [02:21<00:50,  2.08it/s]"
     ]
    },
    {
     "name": "stdout",
     "output_type": "stream",
     "text": [
      "Epoch: 295 loss: 51423.277 nll: 36099.234 kl_eta: 2.827 kl_theta: 290.629 kl_alpha: 15030.587\n"
     ]
    },
    {
     "name": "stderr",
     "output_type": "stream",
     "text": [
      " 75%|███████▌  | 300/400 [02:23<00:47,  2.10it/s]"
     ]
    },
    {
     "name": "stdout",
     "output_type": "stream",
     "text": [
      "Epoch: 300 loss: 51302.586 nll: 36424.059 kl_eta: 2.901 kl_theta: 291.622 kl_alpha: 14584.009\n"
     ]
    },
    {
     "name": "stderr",
     "output_type": "stream",
     "text": [
      " 76%|███████▋  | 305/400 [02:26<00:46,  2.05it/s]"
     ]
    },
    {
     "name": "stdout",
     "output_type": "stream",
     "text": [
      "Epoch: 305 loss: 50485.395 nll: 36007.215 kl_eta: 2.936 kl_theta: 293.762 kl_alpha: 14181.482\n"
     ]
    },
    {
     "name": "stderr",
     "output_type": "stream",
     "text": [
      " 78%|███████▊  | 310/400 [02:28<00:41,  2.15it/s]"
     ]
    },
    {
     "name": "stdout",
     "output_type": "stream",
     "text": [
      "Epoch: 310 loss: 50321.496 nll: 36242.152 kl_eta: 2.938 kl_theta: 290.436 kl_alpha: 13785.978\n"
     ]
    },
    {
     "name": "stderr",
     "output_type": "stream",
     "text": [
      " 79%|███████▉  | 315/400 [02:30<00:38,  2.18it/s]"
     ]
    },
    {
     "name": "stdout",
     "output_type": "stream",
     "text": [
      "Epoch: 315 loss: 49859.605 nll: 36183.035 kl_eta: 2.929 kl_theta: 290.265 kl_alpha: 13383.381\n"
     ]
    },
    {
     "name": "stderr",
     "output_type": "stream",
     "text": [
      " 80%|████████  | 320/400 [02:33<00:37,  2.15it/s]"
     ]
    },
    {
     "name": "stdout",
     "output_type": "stream",
     "text": [
      "Epoch: 320 loss: 49472.230 nll: 36116.258 kl_eta: 2.997 kl_theta: 298.007 kl_alpha: 13054.971\n"
     ]
    },
    {
     "name": "stderr",
     "output_type": "stream",
     "text": [
      " 81%|████████▏ | 325/400 [02:35<00:34,  2.20it/s]"
     ]
    },
    {
     "name": "stdout",
     "output_type": "stream",
     "text": [
      "Epoch: 325 loss: 49244.301 nll: 36230.707 kl_eta: 2.900 kl_theta: 294.813 kl_alpha: 12715.881\n"
     ]
    },
    {
     "name": "stderr",
     "output_type": "stream",
     "text": [
      " 82%|████████▎ | 330/400 [02:37<00:32,  2.17it/s]"
     ]
    },
    {
     "name": "stdout",
     "output_type": "stream",
     "text": [
      "Epoch: 330 loss: 48999.605 nll: 36333.957 kl_eta: 2.980 kl_theta: 297.556 kl_alpha: 12365.112\n"
     ]
    },
    {
     "name": "stderr",
     "output_type": "stream",
     "text": [
      " 84%|████████▍ | 335/400 [02:40<00:30,  2.14it/s]"
     ]
    },
    {
     "name": "stdout",
     "output_type": "stream",
     "text": [
      "Epoch: 335 loss: 48080.938 nll: 35735.512 kl_eta: 2.942 kl_theta: 296.650 kl_alpha: 12045.838\n"
     ]
    },
    {
     "name": "stderr",
     "output_type": "stream",
     "text": [
      " 85%|████████▌ | 340/400 [02:42<00:28,  2.10it/s]"
     ]
    },
    {
     "name": "stdout",
     "output_type": "stream",
     "text": [
      "Epoch: 340 loss: 48134.410 nll: 36116.594 kl_eta: 2.965 kl_theta: 299.442 kl_alpha: 11715.410\n"
     ]
    },
    {
     "name": "stderr",
     "output_type": "stream",
     "text": [
      " 86%|████████▋ | 345/400 [02:45<00:26,  2.04it/s]"
     ]
    },
    {
     "name": "stdout",
     "output_type": "stream",
     "text": [
      "Epoch: 345 loss: 47542.539 nll: 35822.938 kl_eta: 3.099 kl_theta: 297.424 kl_alpha: 11419.084\n"
     ]
    },
    {
     "name": "stderr",
     "output_type": "stream",
     "text": [
      " 88%|████████▊ | 350/400 [02:47<00:23,  2.16it/s]"
     ]
    },
    {
     "name": "stdout",
     "output_type": "stream",
     "text": [
      "Epoch: 350 loss: 47030.270 nll: 35630.195 kl_eta: 3.029 kl_theta: 298.194 kl_alpha: 11098.857\n"
     ]
    },
    {
     "name": "stderr",
     "output_type": "stream",
     "text": [
      " 89%|████████▉ | 355/400 [02:49<00:20,  2.18it/s]"
     ]
    },
    {
     "name": "stdout",
     "output_type": "stream",
     "text": [
      "Epoch: 355 loss: 46758.516 nll: 35654.586 kl_eta: 3.034 kl_theta: 293.496 kl_alpha: 10807.398\n"
     ]
    },
    {
     "name": "stderr",
     "output_type": "stream",
     "text": [
      " 90%|█████████ | 360/400 [02:51<00:18,  2.13it/s]"
     ]
    },
    {
     "name": "stdout",
     "output_type": "stream",
     "text": [
      "Epoch: 360 loss: 46698.961 nll: 35867.453 kl_eta: 3.133 kl_theta: 293.210 kl_alpha: 10535.167\n"
     ]
    },
    {
     "name": "stderr",
     "output_type": "stream",
     "text": [
      " 91%|█████████▏| 365/400 [02:54<00:16,  2.14it/s]"
     ]
    },
    {
     "name": "stdout",
     "output_type": "stream",
     "text": [
      "Epoch: 365 loss: 46805.918 nll: 36243.891 kl_eta: 2.995 kl_theta: 299.671 kl_alpha: 10259.357\n"
     ]
    },
    {
     "name": "stderr",
     "output_type": "stream",
     "text": [
      " 92%|█████████▎| 370/400 [02:56<00:14,  2.05it/s]"
     ]
    },
    {
     "name": "stdout",
     "output_type": "stream",
     "text": [
      "Epoch: 370 loss: 46227.453 nll: 35920.641 kl_eta: 3.054 kl_theta: 299.271 kl_alpha: 10004.488\n"
     ]
    },
    {
     "name": "stderr",
     "output_type": "stream",
     "text": [
      " 94%|█████████▍| 375/400 [02:59<00:11,  2.08it/s]"
     ]
    },
    {
     "name": "stdout",
     "output_type": "stream",
     "text": [
      "Epoch: 375 loss: 45723.020 nll: 35654.992 kl_eta: 3.062 kl_theta: 297.917 kl_alpha: 9767.047\n"
     ]
    },
    {
     "name": "stderr",
     "output_type": "stream",
     "text": [
      " 95%|█████████▌| 380/400 [03:01<00:09,  2.06it/s]"
     ]
    },
    {
     "name": "stdout",
     "output_type": "stream",
     "text": [
      "Epoch: 380 loss: 46106.691 nll: 36319.660 kl_eta: 3.063 kl_theta: 296.487 kl_alpha: 9487.479\n"
     ]
    },
    {
     "name": "stderr",
     "output_type": "stream",
     "text": [
      " 96%|█████████▋| 385/400 [03:04<00:07,  1.99it/s]"
     ]
    },
    {
     "name": "stdout",
     "output_type": "stream",
     "text": [
      "Epoch: 385 loss: 45391.770 nll: 35832.703 kl_eta: 3.122 kl_theta: 299.480 kl_alpha: 9256.465\n"
     ]
    },
    {
     "name": "stderr",
     "output_type": "stream",
     "text": [
      " 98%|█████████▊| 390/400 [03:06<00:04,  2.07it/s]"
     ]
    },
    {
     "name": "stdout",
     "output_type": "stream",
     "text": [
      "Epoch: 390 loss: 45160.406 nll: 35821.520 kl_eta: 3.206 kl_theta: 296.022 kl_alpha: 9039.656\n"
     ]
    },
    {
     "name": "stderr",
     "output_type": "stream",
     "text": [
      " 99%|█████████▉| 395/400 [03:08<00:02,  2.02it/s]"
     ]
    },
    {
     "name": "stdout",
     "output_type": "stream",
     "text": [
      "Epoch: 395 loss: 45123.051 nll: 36035.195 kl_eta: 3.163 kl_theta: 301.178 kl_alpha: 8783.519\n"
     ]
    },
    {
     "name": "stderr",
     "output_type": "stream",
     "text": [
      "100%|██████████| 400/400 [03:11<00:00,  2.09it/s]"
     ]
    },
    {
     "name": "stdout",
     "output_type": "stream",
     "text": [
      "Epoch: 400 loss: 44883.355 nll: 36012.305 kl_eta: 3.159 kl_theta: 296.858 kl_alpha: 8571.028\n"
     ]
    },
    {
     "name": "stderr",
     "output_type": "stream",
     "text": [
      "\n"
     ]
    }
   ],
   "source": [
    "# create a model\n",
    "model = topmost.models.DETM(\n",
    "    vocab_size=dataset.vocab_size,\n",
    "    num_times=dataset.num_times,\n",
    "    train_size=dataset.train_size,\n",
    "    train_time_wordfreq=dataset.train_time_wordfreq,\n",
    "    device=device,\n",
    ")\n",
    "model = model.to(device)\n",
    "\n",
    "trainer = topmost.trainers.DynamicTrainer(model, epochs=400)\n",
    "\n",
    "trainer.train(dataset)\n",
    "\n",
    "# Or directly use fit_transform\n",
    "# top_words, train_theta = trainer.fit_transform(dataset)"
   ]
  },
  {
   "cell_type": "markdown",
   "metadata": {},
   "source": [
    "Notice: Fix the bug of invalid values of coherence models in gensim following [RaRe-Technologies/gensim#3040](https://github.com/RaRe-Technologies/gensim/issues/3040#issuecomment-812913521)."
   ]
  },
  {
   "cell_type": "code",
   "execution_count": 6,
   "metadata": {},
   "outputs": [
    {
     "name": "stdout",
     "output_type": "stream",
     "text": [
      "======= Time: 0 =======\n",
      "Topic 0: awareness elder joked undergone gripped stared vest fort hastily despair spencer punch unconventional nazis woods\n",
      "Topic 1: marriages slide elder ring original years stage one new francis said wang world david national\n",
      "Topic 2: complain goldberg authentic contrary commissioned testament brash cries closes select uncovered printing copies stunned jury\n",
      "Topic 3: cultivated reception architect lavish pound north gifts pride gold fifa river macron flew said living\n",
      "Topic 4: confession myth planners rulers successive griner cage periods maximum dallas comparison doctrine uniforms pope arrival\n",
      "Topic 5: commentators implicated tapping bearing sheryl edition goldberg italians railway tournaments authentic commissioned awareness spark inspiration\n",
      "Topic 6: said new york one city night two stroke people thursday year work times sunday also\n",
      "Topic 7: opera hbo new art season music night metropolitan one director nba performance musical artist title\n",
      "Topic 8: funnel morality branded lavish stirring condemns storied emerges blackout discovering likened whereabouts solved denounce cage\n",
      "Topic 9: patriotic branded exposing outsiders nicknamed bradley rebellion historian boat eminent punches joked complain lavish civilization\n",
      "Topic 10: connects crises eminent condemns jailed shaken hunger associations implicated outsiders discovering symbol occupy influenced carved\n",
      "Topic 11: bradley slide secured showcase said reception nazi savvy roman spate drawn navalny recalled eight neo\n",
      "Topic 12: said new one people first time work day year two says many now york years\n",
      "Topic 13: occupy gifts hunger denounce unofficial hastily planners bust sheryl practicing reasoning enlisted sensitivity pointedly myth\n",
      "Topic 14: romney pigs shanghai thatcher ebola suit shore cdc original north river likely marriage mitt level\n",
      "Topic 15: breaches arm nonetheless suffered said year germans bradley continues forefront awareness clearly week accident new\n",
      "Topic 16: said new work wrote time credit one white including also last year according two times\n",
      "Topic 17: slide criminals disregard marriages confession bust outlet displayed ruler outcry incendiary passion nicknamed wang businessmen\n",
      "Topic 18: disregard fist lavish nicknamed bizarre cody morality savage laughed branded manifesto roiling confidentiality alleged fancy\n",
      "Topic 19: said american security officials obama president united states national general government official agency one house\n",
      "Topic 20: new percent said money law million one year tax financial last project states federal report\n",
      "Topic 21: bust mixing celebration nicknamed freedom branded personality eminent unchecked architects pride enjoys conspiracy gripped scholar\n",
      "Topic 22: swiss bearing lavish kenya prevalent goldberg sheryl cooking indonesia aviation enabled communication hamilton figures subscriber\n",
      "Topic 23: law court said state maps new election catalonia voters republican party federal political vote legislature\n",
      "Topic 24: acceptable contrary reception outcry eminent shaped glimpse branded recruited supremacists style expertise suspected spot list\n",
      "Topic 25: one work like said people time young now just many women get even new back\n",
      "Topic 26: edition symbol attached italians rumor young historical shanghai dark world stroke bear frame eyes curfew\n",
      "Topic 27: pride shaken lavish slide expression outlet civilization purchased surrendered supremacists gold remove said london ireland\n",
      "Topic 28: police said officers city officer year case two one death crime man stop new old\n",
      "Topic 29: eminent scare outpouring outcry whereas printer distanced abandoning rampant wealthiest slide shipment censorship deepened tolerate\n",
      "Topic 30: resentment cultivated wrenching fraternity mixing bells sheikh contrary popped prohibition bedrock gauge marriages coma civilization\n",
      "Topic 31: complain rebellion gifts shaken pride bearing sheryl prominence resentment goldberg genuine lavish sons historians juan\n",
      "Topic 32: tapping outsiders applauded gambling implicated gabriel bearing jailed nicknamed tortured mechanical brash practiced countless obscure\n",
      "Topic 33: outcry lavish disability awkward criminals trafficking stroke celebration soft nazi liu acceptable slide perilous detained\n",
      "Topic 34: confession summary intrusion whereabouts settling displaying mao vulnerability mired intensifying editorial casts realities rulers plight\n",
      "Topic 35: adopting rumor minimal bells realities businessmen melbourne observation elusive awareness outcry pursuit punitive resentment chelsea\n",
      "Topic 36: fist banners planners petition dysfunction supremacists incendiary ryan tim romney nicknamed visibility sworn intrigue bradley\n",
      "Topic 37: china party chinese said political communist government north women minister leader prime officials military president\n",
      "Topic 38: outsiders bearing nicknamed obscure bradley hardened lavish whereabouts gabriel joked practiced savage portraits nationalism branded\n",
      "Topic 39: said new one drug state york health people two city year use medical officials years\n",
      "Topic 40: marriages reception outcry gifts stark crowds city nazi neo imprisoned incendiary sentences surprisingly hastily relative\n",
      "Topic 41: morality acceptable stroke cries rampant perilous airplane myth condemns accomplish visibility derailed verbal liquid shoe\n",
      "Topic 42: said american killed officials military united attack one two government group afghan states state iran\n",
      "Topic 43: lavish confession outcry symbol reception rabbi honored pride supremacy liberty celebration bearing diamond thompson supremacists\n",
      "Topic 44: said new york one times years first news year wife time last family two world\n",
      "Topic 45: reception contrary resentment honored hypocrisy inclusion liability realities monument serial citizenship spare overdue bust branded\n",
      "Topic 46: said people beijing one museum museums new home water tear street tornadoes many residents hit\n",
      "Topic 47: slide tapping outcry descriptions whereabouts bust displayed filmmaker complain liberty outlet celebration stroke lively gabriel\n",
      "Topic 48: implicated condemns sheryl manipulated visibility branded connects morality enslaved ensuing streak fist louis probe tournaments\n",
      "Topic 49: said companies company new data chief executive apple hong news one online like web chinese\n",
      "======= Time: 1 =======\n",
      "Topic 0: awareness elder joked undergone gripped vest stared fort hastily despair unconventional punch denounce spencer treats\n",
      "Topic 1: marriages slide elder ring years original new francis one said stage world jokes national first\n",
      "Topic 2: complain goldberg authentic contrary commissioned testament brash cries closes select printing style copies stunned uncovered\n",
      "Topic 3: cultivated reception lavish architect macron north fifa gifts pride gold pound flew said york river\n",
      "Topic 4: confession myth planners rulers successive griner cage periods maximum doctrine uniforms dream dallas pope comparison\n",
      "Topic 5: commentators implicated tapping bearing sheryl edition goldberg railway italians tournaments authentic commissioned awareness spark inspiration\n",
      "Topic 6: said new one york night city two stroke people thursday work year times sunday also\n",
      "Topic 7: opera new art season hbo one night music director first metropolitan show performance like musical\n",
      "Topic 8: funnel morality branded lavish stirring condemns storied emerges likened denounce solved blackout whereabouts discovering cage\n",
      "Topic 9: branded patriotic exposing outsiders nicknamed bradley historian rebellion eminent boat joked punches lavish complain civilization\n",
      "Topic 10: eminent connects crises condemns jailed shaken hunger associations outsiders implicated symbol discovering influenced occupy carved\n",
      "Topic 11: slide bradley secured showcase said reception roman nazi savvy spate navalny recalled eight drawn neo\n",
      "Topic 12: said new one people first time work year day two says many now york years\n",
      "Topic 13: occupy gifts hunger denounce unofficial hastily planners sheryl bust enlisted practicing reasoning sensitivity myth banners\n",
      "Topic 14: ebola pigs shanghai romney suit shore cdc thatcher original likely north guidelines marriage level river\n",
      "Topic 15: breaches arm nonetheless suffered said forefront year germans awareness week continues clearly accident new though\n",
      "Topic 16: said new work wrote time credit one including white also last year times two back\n",
      "Topic 17: slide criminals disregard marriages bust confession outlet displayed ruler outcry incendiary passion wang nicknamed businessmen\n",
      "Topic 18: fist disregard lavish nicknamed morality bizarre cody savage laughed branded manifesto roiling confidentiality alleged fancy\n",
      "Topic 19: said obama security american officials president united national states government agency general administration house court\n",
      "Topic 20: percent new said million tax states health money year financial one law billion last economic\n",
      "Topic 21: bust mixing celebration nicknamed freedom branded eminent personality architects unchecked pride enjoys discontent conspiracy scholar\n",
      "Topic 22: swiss bearing lavish kenya goldberg prevalent sheryl cooking indonesia aviation enabled hamilton acre communication figures\n",
      "Topic 23: law said court state party election new political republican cuomo vote campaign voters senator lawmakers\n",
      "Topic 24: acceptable reception outcry contrary shaped eminent glimpse branded recruited supremacists style expertise spot suspected list\n",
      "Topic 25: one work like people said time now just young get many women even know back\n",
      "Topic 26: symbol edition attached historical young italians rumor world dark eyes one stroke rampant shanghai sees\n",
      "Topic 27: pride shaken lavish slide expression outlet civilization supremacists surrendered purchased remove said gifts gold ireland\n",
      "Topic 28: police said officers city officer death year two one man case new old people stop\n",
      "Topic 29: scare eminent whereas outpouring outcry printer wealthiest distanced abandoning rampant embroiled precarious censorship shipment academic\n",
      "Topic 30: resentment cultivated wrenching fraternity mixing bells sheikh contrary popped prohibition bedrock gauge marriages civilization reception\n",
      "Topic 31: complain rebellion gifts shaken pride bearing sheryl prominence resentment goldberg genuine lavish sons historians contrary\n",
      "Topic 32: tapping outsiders applauded gambling implicated gabriel bearing jailed tortured nicknamed brash mechanical countless practiced supremacy\n",
      "Topic 33: outcry lavish awkward disability celebration criminals trafficking stroke nazi soft liu slide acceptable perilous petition\n",
      "Topic 34: confession summary whereabouts intrusion plight settling mao displaying editorial realities vulnerability intensifying stroke strongman rulers\n",
      "Topic 35: adopting rumor realities bells minimal businessmen elusive outcry observation melbourne awareness punitive pursuit mixing boundaries\n",
      "Topic 36: fist banners planners petition supremacists dysfunction ryan incendiary tim romney bradley visibility sworn nicknamed hostile\n",
      "Topic 37: china party chinese said political government communist leader president minister officials prime military state new\n",
      "Topic 38: outsiders bearing nicknamed obscure bradley lavish hardened whereabouts gabriel joked savage practiced portraits nationalism nazi\n",
      "Topic 39: said new state one york drug city people two use health year officials years drugs\n",
      "Topic 40: marriages reception outcry gifts stark city nazi crowds sentences neo incendiary imprisoned surprisingly hastily relative\n",
      "Topic 41: morality acceptable stroke cries airplane rampant perilous visibility derailed condemns myth accomplish verbal liquid shoe\n",
      "Topic 42: said military killed american united attack officials one two government group state syria people states\n",
      "Topic 43: lavish confession outcry symbol reception supremacy honored celebration rabbi liberty diamond supremacists pride thompson francis\n",
      "Topic 44: said new york first news one years times year last wife time two family world\n",
      "Topic 45: reception resentment contrary honored hypocrisy inclusion monument liability realities serial citizenship spare overdue branded lured\n",
      "Topic 46: said people one new museum home beijing street residents water many hit hotel tear night\n",
      "Topic 47: slide tapping outcry descriptions whereabouts bust displayed filmmaker complain liberty outlet celebration stroke criminals shaken\n",
      "Topic 48: implicated condemns manipulated sheryl visibility branded connects morality enslaved ensuing fist louis streak probe utterly\n",
      "Topic 49: said company companies new data chief executive news hong apple like one chinese online kong\n",
      "======= Time: 2 =======\n",
      "Topic 0: awareness elder undergone joked vest gripped unconventional stared despair championed acceptable fort denounce hastily treats\n",
      "Topic 1: marriages slide elder francis years ring said new reception one original stage world american first\n",
      "Topic 2: complain goldberg contrary authentic commissioned testament style brash select jury cries closes printing storage stunned\n",
      "Topic 3: cultivated reception macron lavish architect fifa north emmanuel gifts pride gold flew said york post\n",
      "Topic 4: confession planners rulers myth successive griner doctrine decree maximum cage uniforms periods indigenous pope comparison\n",
      "Topic 5: implicated bearing commentators tapping sheryl goldberg edition railway italians tournaments commissioned authentic awareness spark printing\n",
      "Topic 6: said new one two york night people city times year thursday work last sunday also\n",
      "Topic 7: new art opera one first season music like night show year players work game director\n",
      "Topic 8: funnel morality branded stirring lavish condemns emerges storied likened solved denounce nationalism eminent exposing marking\n",
      "Topic 9: branded patriotic exposing outsiders nicknamed bradley eminent historian rebellion boat civilization lavish nazis joked nazi\n",
      "Topic 10: eminent crises connects condemns shaken jailed outsiders associations hunger symbol liberty architect occupy implicated influenced\n",
      "Topic 11: slide bradley secured reception roman showcase nazi said navalny savvy spate supremacy outcry times neo\n",
      "Topic 12: said new one people first time year two work day many now says york even\n",
      "Topic 13: gifts occupy hunger denounce hastily unofficial planners bust enlisted sheryl reasoning practicing banners sensitivity myth\n",
      "Topic 14: ebola suit cdc shore likely among north guidelines voters marriage original percent level romney gloves\n",
      "Topic 15: breaches arm nonetheless said suffered forefront year awareness week germans continues new defiance clearly though\n",
      "Topic 16: said new work wrote time one white including also credit last times two year made\n",
      "Topic 17: slide criminals disregard bust marriages outlet confession displayed ruler incendiary outcry wang passion nazis businessmen\n",
      "Topic 18: fist disregard lavish nicknamed morality bizarre cody savage branded roiling gifts manifesto laughed fancy confidentiality\n",
      "Topic 19: said obama president officials court government security american national united house administration states case general\n",
      "Topic 20: percent new tax states said health million billion economic financial year income money one people\n",
      "Topic 21: bust mixing celebration nicknamed branded freedom eminent personality discontent pride architects scholar emerges enjoys acceptable\n",
      "Topic 22: swiss bearing lavish kenya prevalent goldberg sheryl cooking indonesia aviation charity acre hamilton shaped figures\n",
      "Topic 23: party said election political campaign state republican new vote law senator court cuomo candidates president\n",
      "Topic 24: acceptable reception outcry contrary shaped glimpse eminent supremacists style branded recruited expertise nazi peer spot\n",
      "Topic 25: people like one work said time now just many get women know even want make\n",
      "Topic 26: symbol edition historical young one time new rampant world attached sees exposed said cultural eyes\n",
      "Topic 27: pride supremacists outlet shaken lavish slide civilization expression surrendered reception said nazi remove nazis gifts\n",
      "Topic 28: police said officers officer death city execution shooting two year man one case crime people\n",
      "Topic 29: whereas scare eminent distanced outpouring precarious wealthiest ethnicity printer embroiled abandoning shipment rampant nicknamed censorship\n",
      "Topic 30: resentment cultivated fraternity wrenching bells mixing contrary popped sheikh prohibition reception bedrock marriages civilization gauge\n",
      "Topic 31: complain rebellion gifts shaken pride bearing prominence sheryl resentment genuine goldberg sons lavish contrary historians\n",
      "Topic 32: outsiders tapping applauded gambling implicated gabriel bearing supremacy jailed nicknamed symbol mechanical tortured countless brash\n",
      "Topic 33: outcry awkward lavish celebration nazi trafficking disability stroke soft criminals acceptable supremacists nazis branded liu\n",
      "Topic 34: confession summary displaying settling mao plight intrusion editorial stroke rulers intensifying cultivated whereas realities unchecked\n",
      "Topic 35: adopting rumor realities bells businessmen outcry elusive minimal punitive boundaries affair mixing reminded rush chelsea\n",
      "Topic 36: fist banners supremacists dysfunction planners petition incendiary ryan rebukes visibility bradley hostile foundations tim nicknamed\n",
      "Topic 37: said china political president chinese party government minister military prime leader officials united state years\n",
      "Topic 38: outsiders bearing nicknamed obscure bradley lavish hardened joked nazi whereabouts nationalism rebukes symbol savage gabriel\n",
      "Topic 39: said new state city drug york one drugs use people health year two university medical\n",
      "Topic 40: marriages outcry reception stark gifts nazi city incendiary neo hastily sentences crowds imprisoned surprisingly relative\n",
      "Topic 41: morality acceptable stroke cries airplane rampant derailed perilous visibility aleksei condemns myth verbal accomplish shoe\n",
      "Topic 42: isis said syria islamic military united gaza state iraq killed american group militants government forces\n",
      "Topic 43: confession lavish outcry symbol supremacy supremacists reception honored celebration liberty francis nationalism thompson enhancing diamond\n",
      "Topic 44: said new york news first years times one year women wife time last family two\n",
      "Topic 45: reception honored monument hypocrisy resentment contrary inclusion liability overdue serial citizenship branded spare francis realities\n",
      "Topic 46: said people one new home street water residents many museum fire two hit south night\n",
      "Topic 47: slide tapping outcry descriptions whereabouts bust displayed celebration outlet liberty complain criminals filmmaker stroke shaken\n",
      "Topic 48: implicated condemns manipulated sheryl visibility branded connects fist ensuing louis morality probe enslaved uniform whatsoever\n",
      "Topic 49: company said companies new hong executive kong like chief data news apple one technology business\n",
      "======= Time: 3 =======\n",
      "Topic 0: awareness elder undergone joked unconventional championed vest despair acceptable gripped stared audit denounce overdue hastily\n",
      "Topic 1: marriages slide francis reception said years new elder one ring world also first american president\n",
      "Topic 2: complain goldberg contrary style authentic commissioned select jury brash testament storage printed defended said stunned\n",
      "Topic 3: reception cultivated macron emmanuel lavish architect monument rebukes fifa north vest flew gold soft gifts\n",
      "Topic 4: confession planners rulers indigenous myth successive dhabi mixed adopting decree sufficient maximum doctrine ron master\n",
      "Topic 5: bearing implicated sheryl tapping goldberg commentators edition railway italians awareness tournaments commissioned bust authentic printing\n",
      "Topic 6: said new one two york night year people times last work also thursday break sunday\n",
      "Topic 7: new one first art like show music year game work season players opera night time\n",
      "Topic 8: branded funnel morality stirring lavish emerges condemns nationalism likened solved marking exposing denounce discontent eminent\n",
      "Topic 9: branded exposing outsiders patriotic eminent nicknamed historian bradley nazis boat rebellion civilization nazi lavish joked\n",
      "Topic 10: eminent crises shaken connects condemns outsiders associations jailed symbol liberty hunger persuaded ethical architect confederate\n",
      "Topic 11: slide roman reception secured navalny bradley nazi savvy outcry said supremacy showcase architecture celebration spate\n",
      "Topic 12: said new one people first year two time work many day now even also york\n",
      "Topic 13: gifts occupy hastily denounce hunger unofficial enlisted planners banners bust graffiti reasoning sheryl practicing prosperous\n",
      "Topic 14: voters among likely percent mrs polls clinton north poll marriage new trump white race less\n",
      "Topic 15: arm forefront said breaches nonetheless awareness suffered championed year defiance week bleak hidden germans say\n",
      "Topic 16: said new work time one wrote including white also made last times two many year\n",
      "Topic 17: slide criminals bust disregard marriages outlet confession displayed incendiary ruler hastily wang outcry businessmen nazis\n",
      "Topic 18: fist disregard lavish nicknamed morality cody bizarre roiling gifts fancy savage branded learns entrenched producer\n",
      "Topic 19: said president court obama case former house government charges officials state federal corruption national new\n",
      "Topic 20: percent oil billion tax health states new million said financial economic bank income insurance prices\n",
      "Topic 21: bust celebration mixing branded eminent nicknamed emerges discontent freedom pride personality architects bells acceptable enjoys\n",
      "Topic 22: swiss bearing lavish kenya prevalent goldberg sheryl cooking charity acre indonesia aviation shaped hamilton occupy\n",
      "Topic 23: party republican campaign said political election state trump candidates new vote presidential president support senator\n",
      "Topic 24: acceptable outcry reception glimpse shaped contrary style supremacists eminent recruited expertise branded nazi emerges derailed\n",
      "Topic 25: people like flag one time just now work said applause know get want many see\n",
      "Topic 26: symbol time one new historical rampant said work young back first world exposed things now\n",
      "Topic 27: pride supremacists outlet civilization expression shaken lavish reception slide nazi said nazis surrendered remove airplane\n",
      "Topic 28: police said officer officers death shooting two city one year man people case prison department\n",
      "Topic 29: whereas scare eminent distanced precarious ethnicity virtue nicknamed outpouring tag graves abandoning shipment embroiled wealthiest\n",
      "Topic 30: resentment cultivated bells fraternity wrenching reception popped mixing contrary bedrock marriages prohibition likened sheikh evasion\n",
      "Topic 31: complain rebellion pride gifts shaken prominence bearing genuine sheryl resentment sons contrary foundations goldberg lavish\n",
      "Topic 32: outsiders tapping applauded gambling supremacy implicated bearing symbol celebration gabriel nazi countless staying brash mechanical\n",
      "Topic 33: outcry nazi awkward celebration lavish supremacists acceptable nazis branded trafficking civilization crises said soft lee\n",
      "Topic 34: confession whereas supremacy displaying summary societies mao settling undertaking plight jailed nationalism cultivated disregard collapsing\n",
      "Topic 35: adopting realities rumor outcry businessmen bells affair boundaries punitive reminded elusive mixing rush minimal directions\n",
      "Topic 36: fist banners supremacists dysfunction rebukes incendiary planners ryan visibility petition hostile bradley ears foundations nicknamed\n",
      "Topic 37: china said president united chinese minister government military political prime states american war nuclear years\n",
      "Topic 38: outsiders bearing nicknamed obscure lavish bradley nazi rebukes hardened joked supremacists symbol nationalism outcry ears\n",
      "Topic 39: said new state city drug york university people use students drugs one year health housing\n",
      "Topic 40: marriages outcry reception stark gifts nazi city incendiary hastily relentless neo symbol said sentences relative\n",
      "Topic 41: acceptable morality cries airplane derailed stroke rampant perilous societies aleksei outcry visibility fraternity verbal spencer\n",
      "Topic 42: islamic isis said state killed syria group united government forces attack military officials people iraq\n",
      "Topic 43: outcry supremacy supremacists symbol confession honored lavish celebration reception nationalism francis liberty enhancing relentless nazi\n",
      "Topic 44: said new news women york years one first year times time woman last wife family\n",
      "Topic 45: reception honored monument inclusion hypocrisy resentment francis contrary liability countless branded overdue sacred outcry citizenship\n",
      "Topic 46: said people one new water nepal street many home two fire migrants residents earthquake south\n",
      "Topic 47: slide outcry tapping bust celebration displayed whereabouts descriptions outlet liberty criminals complain stroke fringe relentless\n",
      "Topic 48: implicated condemns manipulated visibility sheryl branded uniform fraudulent whatsoever rumor fist louis probe ensuing connects\n",
      "Topic 49: company said companies new hong internet executive like one facebook technology business news apple chief\n",
      "======= Time: 4 =======\n",
      "Topic 0: awareness championed unconventional undergone elder cozy joked bleak audit despair ripping acceptable overdue vest princeton\n",
      "Topic 1: marriages slide francis reception said new years one also year elder first american world president\n",
      "Topic 2: complain style contrary goldberg said authentic printed select federal commissioned august committee jury one october\n",
      "Topic 3: reception cultivated macron emmanuel vest monument lavish architect rebukes cultural focuses gold soft josh york\n",
      "Topic 4: confession planners dhabi indigenous adopting rulers mixed chemistry southern proof sufficient decree category successive ron\n",
      "Topic 5: bearing implicated sheryl goldberg tapping commentators railway awareness edition italians printing bust commissioned relentless grievances\n",
      "Topic 6: said new one two break last year work also times even york thursday met night\n",
      "Topic 7: new one first like show songs game literature players time work year film two bob\n",
      "Topic 8: branded funnel morality stirring emerges lavish nationalism exposing marking discontent condemns likened embedded restoring solved\n",
      "Topic 9: branded eminent outsiders exposing nazis historian nazi nicknamed civilization patriotic lavish rebellion boat crises monument\n",
      "Topic 10: eminent crises shaken outsiders liberty condemns associations symbol connects jailed bare supremacists persuaded ethical outcry\n",
      "Topic 11: roman reception navalny nazi outcry slide architecture celebration secured savvy supremacy monuments said parade bradley\n",
      "Topic 12: said new one people first year two time many even now work also day last\n",
      "Topic 13: gifts hastily occupy denounce hunger unofficial rampant banners prosperous graffiti enlisted cries goldberg bedrock outsiders\n",
      "Topic 14: voters mrs clinton among polls percent likely trump poll vote race election new survey white\n",
      "Topic 15: forefront said championed arm awareness defiance bleak nonetheless nazi year suffered say hidden week also\n",
      "Topic 16: said new one time made including white work years also times many last two now\n",
      "Topic 17: slide criminals bust outlet disregard marriages incendiary displayed confession hastily ruler nazis wang businessmen historian\n",
      "Topic 18: fist lavish disregard nicknamed morality learns gifts roiling humble civilization bizarre entrenched cody fancy complain\n",
      "Topic 19: trump said president clinton court former case house campaign obama government federal officials donald state\n",
      "Topic 20: percent oil tax billion financial states health economic said prices new trade year bank million\n",
      "Topic 21: bust celebration emerges branded mixing eminent discontent pride personality architects reed cultivated freedom nicknamed bells\n",
      "Topic 22: swiss bearing lavish kenya prevalent goldberg charity connections sheryl shaped acre comparison cooking new flying\n",
      "Topic 23: trump party republican campaign clinton election said donald state political vote presidential candidates democratic new\n",
      "Topic 24: acceptable outcry reception style glimpse supremacists shaped contrary recruited nazi expertise eminent branded emerges fancy\n",
      "Topic 25: people like just one now know time think get want going see said work say\n",
      "Topic 26: symbol said new time one work historical rampant back first now home like people things\n",
      "Topic 27: pride supremacists civilization outlet reception nazi expression supremacy lavish shaken slide vest nazis decree legacy\n",
      "Topic 28: police said officers death gunman officer two one shooting man people killed year prison city\n",
      "Topic 29: whereas distanced scare precarious ethnicity virtue eminent graves tag fringe reward revise nicknamed societies fancy\n",
      "Topic 30: resentment cultivated reception bells fraternity contrary likened bedrock popped wrenching marriages mixing dallas prohibition rests\n",
      "Topic 31: complain pride gifts shaken rebellion prominence genuine bearing resentment foundations sheryl contrary sons goldberg macron\n",
      "Topic 32: supremacy outsiders celebration symbol bearing applauded nazi tapping implicated gambling fringe staying restored neo pride\n",
      "Topic 33: outcry nazi celebration awkward crises supremacists nazis lavish branded civilization acceptable supremacy said lee expertise\n",
      "Topic 34: whereas confession supremacy societies undertaking displaying nazi collapsing nationalism derailed mao belongs jailed settling achievements\n",
      "Topic 35: adopting realities outcry rumor businessmen boundaries affair bells reminded pride francis marching parade rush punitive\n",
      "Topic 36: fist supremacists banners rebukes incendiary ears dysfunction visibility ryan planners hostile bradley likened foundations nazi\n",
      "Topic 37: china said united north president states government american nuclear korea saudi minister years south military\n",
      "Topic 38: outsiders bearing rebukes nazi nicknamed lavish supremacists obscure bradley symbol joked nationalism outcry ears supremacy\n",
      "Topic 39: said new city state people york university drug students year percent public many states one\n",
      "Topic 40: marriages outcry stark reception gifts symbol said relentless city nazi hastily incendiary activist new relative\n",
      "Topic 41: acceptable morality derailed airplane rampant cries societies outcry perilous aleksei fraudulent reacted spencer stroke fraternity\n",
      "Topic 42: mosul iraqi forces islamic isis state said security iraq killed kurdish attack baghdad areas miles\n",
      "Topic 43: outcry supremacy supremacists symbol celebration honored nationalism francis nazi reception liberty enhancing architects civic confession\n",
      "Topic 44: said women news sexual new one woman media years year york fox family wrote told\n",
      "Topic 45: reception monument honored francis inclusion hypocrisy societies sacred countless contrary relentless overdue burst diverted branded\n",
      "Topic 46: said people one new truck puerto city street water two air building many island pilgrims\n",
      "Topic 47: slide outcry celebration tapping bust liberty displayed outlet criminals relentless fringe rampant crises symbol complain\n",
      "Topic 48: condemns implicated visibility uniform fraudulent manipulated branded sheryl rumor whatsoever ridiculous fist louis illustrated probe\n",
      "Topic 49: company said companies facebook new year billion technology one uber also apple like internet executive\n",
      "======= Time: 5 =======\n",
      "Topic 0: championed cozy ripping unconventional bleak awareness restored audit suffers carpet commentators undergone unthinkable overdue elder\n",
      "Topic 1: marriages reception francis said slide new one years year also first event two tour national\n",
      "Topic 2: style complain contrary said printed federal one august new many october last committee year group\n",
      "Topic 3: reception emmanuel macron vest cultivated monument rebukes architect organizers lavish focuses cultural josh said liberty\n",
      "Topic 4: confession indigenous dhabi planners chemistry mixed adopting southern whose proof rulers first guest sufficient humanity\n",
      "Topic 5: bearing implicated sheryl goldberg tapping awareness relentless railway printing profession grievances burst bust praise countless\n",
      "Topic 6: said new one religion break two last year work even speech also times met religious\n",
      "Topic 7: new first one players game like time two year world games play show season work\n",
      "Topic 8: branded stirring emerges marking exposing nationalism discontent restoring lavish embedded morality likened funnel connects ripping\n",
      "Topic 9: branded eminent nazi nazis outsiders historian exposing crises monument civilization vest outcry lavish yellow nicknamed\n",
      "Topic 10: crises eminent shaken liberty bare outsiders associations symbol businessmen supremacists reeling outcry ethical persuading fingers\n",
      "Topic 11: roman architecture reception navalny celebration outcry monuments nazi parade supremacy savvy spurred preceded fringe aleksei\n",
      "Topic 12: said one new people year two first time many even also now work bare last\n",
      "Topic 13: gifts hastily denounce occupy rampant unofficial hunger prosperous mountains goldberg graffiti cries banners likened seriousness\n",
      "Topic 14: weinstein clinton trump mrs voters district vote harvey election new poll polls republican among districts\n",
      "Topic 15: forefront championed nazi architecture said bleak awareness defiance vendors say hidden psychological arm year also\n",
      "Topic 16: said new one years made symbol time many including times now also people last white\n",
      "Topic 17: slide criminals bust outlet incendiary hastily disregard marriages ruler displayed nazis historian businessmen confession wang\n",
      "Topic 18: fist lavish disregard learns nicknamed morality complain gifts humble roiling entrenched civilization spencer embedded producer\n",
      "Topic 19: trump president said russian campaign house former investigation fbi russia white officials washington intelligence department\n",
      "Topic 20: tax plan percent health economic financial year inflation income said bill insurance billion new rate\n",
      "Topic 21: bust celebration emerges branded discontent eminent focuses ripping reed mixing pride architects personality realities trends\n",
      "Topic 22: swiss bearing lavish comparison prevalent kenya connections charity fresh goldberg design new flying shaped said\n",
      "Topic 23: trump republican party said court election political president democratic state democrats new senate republicans bill\n",
      "Topic 24: style outcry acceptable reception glimpse supremacists shaped nazi recruited contrary expertise lists branded emerges fancy\n",
      "Topic 25: people like just one know think now get want going time something say good see\n",
      "Topic 26: symbol said new time one work now first back people home like historical just many\n",
      "Topic 27: pride supremacists supremacy nazi civilization outlet reception expression audit vest nazis expertise airplane treats shaken\n",
      "Topic 28: said police home one children two people man mother officers death year old years killed\n",
      "Topic 29: whereas distanced precarious ethnicity graves scare safest tag revise flouting fringe wiping reward virtue airplane\n",
      "Topic 30: cultivated resentment reception likened choosing contrary bells rome dallas restoring fraternity architects bedrock inclusion sponsored\n",
      "Topic 31: pride complain gifts shaken genuine prominence rebellion bearing macron foundations ignored printed resentment ranks sons\n",
      "Topic 32: supremacy celebration symbol restored nazi outsiders bearing architects fringe pride destroy lists scare staying neo\n",
      "Topic 33: outcry nazi celebration crises awkward nazis branded supremacists supremacy civilization lavish expertise acceptable said lee\n",
      "Topic 34: whereas supremacy nazi societies undertaking architecture distanced displaying collapsing derailed belongs outcry socially confession nationalism\n",
      "Topic 35: adopting realities outcry boundaries francis marching pride rumor affair businessmen parade bias reminded vendors historical\n",
      "Topic 36: supremacists fist rebukes ears banners incendiary ripping distanced visibility dysfunction fringe hostile likened contempt ryan\n",
      "Topic 37: north united korea said china president states government trump american south saudi nuclear european military\n",
      "Topic 38: outsiders nazi rebukes bearing supremacists symbol outcry nationalism supremacy lavish bradley joked ears parade obscure\n",
      "Topic 39: said new city people percent gun states drug health students state federal colleges many law\n",
      "Topic 40: marriages stark outcry said symbol relentless reception crises new city one day nationalism gifts trump\n",
      "Topic 41: acceptable rampant airplane derailed societies cries reacted morality fraudulent outcry minimal spencer aleksei prosperous belongs\n",
      "Topic 42: said united missile refugees order state countries states miles syria ice ban syrian islamic north\n",
      "Topic 43: supremacy outcry supremacists celebration honored nationalism nazi architects symbol civic francis monument liberty reception relentless\n",
      "Topic 44: said women sexual news new one media years harassment told former wrote woman year abuse\n",
      "Topic 45: reception monument honored francis inclusion societies bleak countless sacred hypocrisy burst diverted jarring relentless vendors\n",
      "Topic 46: said water climate people hurricane city new one change puerto air rico world residents years\n",
      "Topic 47: outcry slide celebration relentless rampant fringe crises liberty lacking outlet symbol criminals bust realities displayed\n",
      "Topic 48: condemns implicated uniform fraudulent visibility rumor celebrations directives texts whatsoever stall branded ridiculous manipulated minimal\n",
      "Topic 49: company said facebook companies uber new billion executive year chief technology google one hong like\n",
      "======= Time: 6 =======\n",
      "Topic 0: championed restored bleak ripping cozy suffers audit unconventional commentators martial carpet pundits unthinkable disagreements marking\n",
      "Topic 1: marriages said reception new one francis years year event tour also first two public long\n",
      "Topic 2: style complain said contrary one new federal last august printed many year people october government\n",
      "Topic 3: emmanuel reception macron vest monument organizers cultivated rebukes architect exclusion cultural focuses liberty said printed\n",
      "Topic 4: indigenous mixed chemistry dhabi first adopting whose planners new southern confession many proof early among\n",
      "Topic 5: bearing implicated sheryl profession awareness goldberg burst relentless grievances symbol countless rules printing hallways said\n",
      "Topic 6: spencer symbolic function religion said new speech break religious germans one last ban two even\n",
      "Topic 7: first one new time players like world game two team second year prince life times\n",
      "Topic 8: branded marking stirring emerges discontent exposing restoring nationalism embedded likened audit lavish mobilization connects ripping\n",
      "Topic 9: branded nazi nazis crises eminent monument historian exposing outsiders architecture symbol jarring vest outcry reception\n",
      "Topic 10: crises eminent bare shaken liberty reeling outsiders associations symbol businessmen outcry persuading pride fingers indeed\n",
      "Topic 11: architecture roman celebration reception outcry monuments navalny parade nazi spurred botched preservation distanced preceded supremacy\n",
      "Topic 12: said new one people bare two year first many time also even now years last\n",
      "Topic 13: gifts hastily denounce rampant mountains occupy goldberg prosperous wartime likened seriousness unofficial cries awaits preservation\n",
      "Topic 14: district trump districts clinton vote republican map democrats new election republicans current poll democratic voters\n",
      "Topic 15: architecture nazi vendors forefront championed awareness bleak defiance said audit scare cancel hidden say psychological\n",
      "Topic 16: said new years one symbol made many now time times people last including news white\n",
      "Topic 17: criminals slide outlet hastily bust incendiary historian nazis disregard businessmen vigorous ruler nazi marriages wang\n",
      "Topic 18: lavish fist learns complain hunger spencer nicknamed disregard tag humble morality gifts roman disappointed embedded\n",
      "Topic 19: trump president said house russian investigation campaign white former russia general officials justice special department\n",
      "Topic 20: saudi khashoggi tax prince consulate crown year killing economic now said istanbul turkish team economy\n",
      "Topic 21: bust celebration focuses emerges branded ripping discontent reed eminent trends printed selective pride architects personality\n",
      "Topic 22: swiss lavish bearing comparison fresh connections design charity bear flying hardly new said london crew\n",
      "Topic 23: republican said court trump democratic party democrats new political state election president voters supreme vote\n",
      "Topic 24: style outcry reception glimpse acceptable nazi supremacists lists recruited shaped expertise fancy contrary emerges diverted\n",
      "Topic 25: people like think just get going one know now black want time good way country\n",
      "Topic 26: said new one time work now first symbol people back home like just years many\n",
      "Topic 27: pride supremacy supremacists audit nazi reception outlet expression vest civilization airplane publishing voiced nazis legacy\n",
      "Topic 28: police said officers one two man people case death killed officer shooting attack home year\n",
      "Topic 29: whereas precarious distanced graves safest flouting ethnicity airplane wiping fringe revise tag skipped norm scare\n",
      "Topic 30: reception cultivated hang rome choosing architects resentment likened restoring honored fringe pundits dallas plunged stall\n",
      "Topic 31: pride gifts genuine shaken ripping ignored complain macron emmanuel bearing prominence ranks printed evangelical foundations\n",
      "Topic 32: supremacy restored celebration nazi symbol architects fringe lists pride destroy airplane shuttered lacking neo bearing\n",
      "Topic 33: crises outcry nazi celebration nazis supremacy branded jarring awkward expertise belongs uniform bias said supremacists\n",
      "Topic 34: whereas nazi supremacy architecture distanced socially societies derailed monuments undertaking outcry bureaucratic displaying collapsing historian\n",
      "Topic 35: adopting francis outcry marching realities pride bias civic boundaries vendors parade focuses reminded crises affair\n",
      "Topic 36: rebukes supremacists ripping distanced ears fist fringe flouting newer learns likened contempt incendiary drum visibility\n",
      "Topic 37: united said states american president european military north trump government nuclear korea union war minister\n",
      "Topic 38: nazi rebukes outsiders symbol outcry supremacists supremacy historian parade nationalism ears celebration bearing historical monuments\n",
      "Topic 39: gun said states people new health many immigration immigrants percent income state federal public law\n",
      "Topic 40: stark outcry said symbol marriages relentless crises new one people flurry day last nationalism president\n",
      "Topic 41: acceptable rampant airplane societies minimal reacted cries derailed fraudulent spencer mobilized belongs outcry prosperous stall\n",
      "Topic 42: sexual accusations accused women harassment resigned denied said fired permanent investigation state representative former new\n",
      "Topic 43: supremacy outcry architects celebration nazi honored supremacists nationalism civic symbol monument liberty relentless francis reception\n",
      "Topic 44: said women news one new years media sexual family told former abuse time people year\n",
      "Topic 45: reception monument honored francis bleak inclusion societies jarring vendors shuttered diverted choosing countless celebrations burst\n",
      "Topic 46: said city new one people climate change world years group water near residents two year\n",
      "Topic 47: outcry celebration relentless slide crises rampant fringe lacking liberty symbol staying outlet realities criminals socially\n",
      "Topic 48: uniform fraudulent condemns celebrations stall minimal implicated rumor directives texts visibility sacrifice preceded renowned spokesperson\n",
      "Topic 49: said company facebook companies new data billion chief year china executive technology million one last\n",
      "======= Time: 7 =======\n",
      "Topic 0: championed restored bleak ripping cozy suffers audit martial commentators unconventional resonated pundits delivers carpet disagreements\n",
      "Topic 1: said new one event crew tour year years chairs also first public time long two\n",
      "Topic 2: style said one new federal year last people many august also government october printed first\n",
      "Topic 3: emmanuel macron vest monument reception organizers exclusion cultural rebukes architect tackling lead cultivated said printed\n",
      "Topic 4: indigenous mixed first chemistry whose new audit said many early epicenter gatherings now planners cancellation\n",
      "Topic 5: bearing profession symbol said awareness burst people implicated countless rules relentless working social now one\n",
      "Topic 6: spencer symbolic function religion germans raw jarring suffers francis said speech determining new ban seemingly\n",
      "Topic 7: one first new season time like players book league two game world team novel series\n",
      "Topic 8: branded marking discontent restoring audit exposing emerges stall stirring embedded mobilization likened nationalism proving honored\n",
      "Topic 9: crises nazi branded nazis architecture monument eminent symbol historian jarring flurry style reception outcry exposing\n",
      "Topic 10: crises bare eminent shaken reeling liberty said indeed draw anger associations ignore symbol pride hopes\n",
      "Topic 11: architecture celebration roman botched monuments marching distanced outcry preservation spurred reception parade preceded drum navalny\n",
      "Topic 12: said bare people new one two year first many also even time years public now\n",
      "Topic 13: gifts rampant hastily mountains denounce goldberg likened seriousness wartime awaits preservation prosperous cries occupy banners\n",
      "Topic 14: archived recording michael barbaro davis president stone trump julie roger mike right committee going democrats\n",
      "Topic 15: architecture vendors nazi audit forefront championed cancel bleak awareness defiance prevailed scare said organizers commentators\n",
      "Topic 16: said new years one symbol many now made people news time times national last york\n",
      "Topic 17: outlet historian criminals hastily incendiary slide nazis vigorous nazi bust businessmen disregard supremacy slipping ruler\n",
      "Topic 18: hunger learns complain lavish spencer suffers fist tag roman humble disappointed petition swirl apologizes powder\n",
      "Topic 19: president trump house said investigation mueller white justice ukraine department report political campaign special general\n",
      "Topic 20: saudi tax economic economy year said khashoggi percent growth inflation now prince government new billion\n",
      "Topic 21: celebration focuses bust ripping branded emerges discontent printed trends selective reed complain pride architects eminent\n",
      "Topic 22: swiss comparison fresh lavish connections bearing bear design hardly crew flying architects charity new hunt\n",
      "Topic 23: democratic president said trump campaign election candidates voters party political biden sanders democrats senator race\n",
      "Topic 24: style outcry nazi reception glimpse lists acceptable supremacists expertise recruited shaped fancy diverted stephen honored\n",
      "Topic 25: michael barbaro think recording archived going people like just get know really right want now\n",
      "Topic 26: said new one time work now first people home like back years many just even\n",
      "Topic 27: pride audit supremacy nazi supremacists publishing voiced expression airplane hang vest reception complained legacy nazis\n",
      "Topic 28: police protesters said protests case officers epstein officer one charges prosecutors two victims law shooting\n",
      "Topic 29: whereas precarious distanced safest graves flouting airplane norm wiping skipped fringe ethnicity revise commentators complications\n",
      "Topic 30: hang choosing rome architects reception restoring likened honored fringe pundits cultivated stall plunged mobilized slipping\n",
      "Topic 31: pride ripping ignored evangelical macron opens emmanuel gifts genuine rampant discontent ranks plagued shaken imposing\n",
      "Topic 32: restored supremacy architects celebration nazi symbol lists minimal fringe pride destroy airplane lacking shuttered distanced\n",
      "Topic 33: crises outcry nazi celebration jarring architecture nazis bias supremacy belongs uniform branded expertise said flurry\n",
      "Topic 34: whereas nazi architecture distanced socially supremacy monuments bureaucratic outcry derailed historian learns celebration undertaking collapsing\n",
      "Topic 35: adopting francis civic pride marching vendors bias focuses outcry crises parade flouting boundaries newer reminded\n",
      "Topic 36: distanced ripping flouting newer drum rebukes fringe supremacists ears learns fist preservation contempt likened muted\n",
      "Topic 37: minister united iran prime said brexit states deal european american trump government president johnson union\n",
      "Topic 38: nazi socially symbol rebukes outcry historian celebration supremacy parade marching monuments monument outsiders civic historical\n",
      "Topic 39: said new health people states public many state school york schools city care children students\n",
      "Topic 40: stark said relentless symbol crises one new outcry people flurry last american president also years\n",
      "Topic 41: minimal rampant airplane reacted acceptable societies mobilized cries preceded fraudulent spencer stall skipped belongs preservation\n",
      "Topic 42: said impeachment house president people new one public process two just first states senate united\n",
      "Topic 43: architects supremacy outcry celebration nazi honored civic nationalism monument liberty symbol relentless supremacists reed architecture\n",
      "Topic 44: said women one years new news media family people former york time sexual told year\n",
      "Topic 45: francis reception bleak monument vendors honored jarring choosing shuttered celebrations inclusion audit societies upended troubling\n",
      "Topic 46: said city new people india one climate change modi streets years indian world water pakistan\n",
      "Topic 47: celebration outcry relentless crises rampant fringe lacking liberty symbol staying slide socially comfort realities hang\n",
      "Topic 48: uniform stall minimal fraudulent celebrations sacrifice directives texts preceded rumor condemns renowned spokesperson cries plagued\n",
      "Topic 49: said hong kong company companies new china facebook chinese billion technology executive year million business\n",
      "======= Time: 8 =======\n",
      "Topic 0: restored championed bleak ripping audit suffers cozy martial resonated commentators delivers pundits cascade panicked carpet\n",
      "Topic 1: said crew chairs new event one tour year years also time long two first people\n",
      "Topic 2: style said one new year people federal last many also government august first two like\n",
      "Topic 3: emmanuel organizers macron monument exclusion vest reception cultural architect tackling said apologized lead printed praise\n",
      "Topic 4: audit mixed indigenous first epicenter coronavirus new cancellation gatherings whose said health people early virus\n",
      "Topic 5: bearing profession said symbol people burst awareness one now social countless working many new including\n",
      "Topic 6: spencer symbolic function jarring suffers religion francis germans raw determining origin speech seemingly ban shape\n",
      "Topic 7: league season one players game new time first team two like games best said series\n",
      "Topic 8: marking audit stall restoring discontent branded exposing emerges newer mobilization stirring likened honored embedded rome\n",
      "Topic 9: crises nazi architecture nazis branded monument symbol jarring vendors style sanitizer flurry marking reception historian\n",
      "Topic 10: crises bare eminent reeling shaken said liberty draw new group anger indeed now hopes one\n",
      "Topic 11: architecture drum celebration botched marching roman preservation distanced spurred monuments preceded troubling minimal outcry socially\n",
      "Topic 12: said bare people new one two year first many also even years public time now\n",
      "Topic 13: mountains rampant goldberg gifts hastily likened preservation awaits seriousness wartime denounce cries prosperous campbell derailed\n",
      "Topic 14: archived recording michael barbaro right president people trump really think mark just jennifer going maggie\n",
      "Topic 15: vendors architecture audit nazi forefront cancel championed awareness ripping bleak prevailed commentators pet newer organizers\n",
      "Topic 16: said new years one now symbol many made people national york news design last time\n",
      "Topic 17: historian outlet hastily criminals nazis nazi incendiary slipping vigorous supremacy fixing civic marching martial businessmen\n",
      "Topic 18: hunger learns complain spencer suffers roman tag apologizes disappointed lavish swirl petition powder humble voiced\n",
      "Topic 19: trump president said house white officials department general biden political office former campaign administration justice\n",
      "Topic 20: inflation economy economic percent said pandemic money year stock market billion federal financial job workers\n",
      "Topic 21: celebration focuses ripping branded emerges printed selective trends bust complain discontent reed jarring rumors pride\n",
      "Topic 22: comparison swiss fresh connections bear crew lavish architects hardly design revival flying hunt london bleak\n",
      "Topic 23: election biden trump democratic republican voters president said sanders campaign vote party democrats voting senator\n",
      "Topic 24: style outcry nazi lists reception glimpse shuttered sacramento expertise honored stephen recruited nobel guests acceptable\n",
      "Topic 25: barbaro michael people recording archived just like going think know right get really now lot\n",
      "Topic 26: said new one time work first now people home like years back many even just\n",
      "Topic 27: pride audit supremacy nazi hang flouting publishing airplane voiced supremacists organizers bradley expression complained inclusion\n",
      "Topic 28: police officers officer protests said crime one brooks ashley shooting man floyd two violence protesters\n",
      "Topic 29: whereas precarious flouting safest norm airplane graves distanced skipped wiping drum commentators fringe complications revise\n",
      "Topic 30: hang rome architects choosing restoring reception honored fringe likened stall pundits slipping mobilized plunged contempt\n",
      "Topic 31: ripping evangelical ignored pride rampant opens discontent macron imposing rejecting ranks emmanuel tackle remake civic\n",
      "Topic 32: restored supremacy architects celebration nazi minimal symbol lists airplane pride fringe destroy lacking shuttered suffers\n",
      "Topic 33: crises architecture nazi outcry jarring bias celebration uniform belongs nazis supremacy model expertise said stephen\n",
      "Topic 34: nazi architecture whereas socially distanced supremacy bureaucratic monuments learns outcry derailed sanitizer historian celebration hurts\n",
      "Topic 35: civic francis vendors pride focuses marching bias crises flouting newer parade dignity adopting outcry restoring\n",
      "Topic 36: flouting drum distanced ripping newer fringe preservation rebukes learns ears minimal supremacists likened disdain contempt\n",
      "Topic 37: united american said iran government states officials military war president nuclear minister taliban prime china\n",
      "Topic 38: nazi socially celebration historian marching symbol outcry pigs parade supremacy civic monuments distanced monument rebukes\n",
      "Topic 39: said new coronavirus health cases state city pandemic people york many schools school public virus\n",
      "Topic 40: stark said relentless one crises people new symbol flurry american last say two also years\n",
      "Topic 41: minimal preceded rampant airplane reacted mobilized stall spencer cries fraudulent skipped societies preservation belongs diverted\n",
      "Topic 42: coronavirus vaccine virus health people disease said patients covid cases new deaths vaccines jan one\n",
      "Topic 43: architects supremacy honored civic celebration nazi outcry relentless monument liberty nationalism symbol architecture reed belongs\n",
      "Topic 44: said women new one years people family black time york media life told year many\n",
      "Topic 45: bleak francis vendors jarring choosing shuttered audit reception monument celebrations troubling upended honored handles diverted\n",
      "Topic 46: said city people new one india water building around killed streets air change officials day\n",
      "Topic 47: relentless celebration crises outcry rampant fringe lacking liberty symbol staying minimal comfort hang socially instinct\n",
      "Topic 48: stall minimal uniform celebrations fraudulent sacrifice preceded directives cries texts plagued renowned rumor spokesperson vendors\n",
      "Topic 49: said company companies new chinese app hong china apple facebook kong executive technology also year\n",
      "======= Time: 9 =======\n",
      "Topic 0: restored championed bleak ripping audit suffers resonated martial cozy delivers commentators cascade panicked pundits disagreements\n",
      "Topic 1: crew said chairs event new tour one raft year years time long also two first\n",
      "Topic 2: style said new one year people last federal also many government august two first like\n",
      "Topic 3: emmanuel organizers exclusion macron monument vest reception cultural architect praise apologized tackling metropolitan said lead\n",
      "Topic 4: audit cancellation coronavirus first epicenter mixed gatherings lockdown new indigenous italy virus people health said\n",
      "Topic 5: said symbol people profession one now many high including new bearing social time others called\n",
      "Topic 6: spencer symbolic function suffers jarring francis germans religion raw determining origin ban seemingly speech shape\n",
      "Topic 7: one series league time first team game best games two new players said like season\n",
      "Topic 8: stall audit marking restoring discontent newer branded mobilization exposing rome emerges dissent likened honored stirring\n",
      "Topic 9: crises architecture nazi nazis monument lgbtq vendors sanitizer symbol jarring branded style marking flurry celebration\n",
      "Topic 10: crises bare reeling said eminent shaken new draw group liberty one now hopes two anger\n",
      "Topic 11: architecture drum botched celebration marching preservation distanced troubling roman minimal preceded spurred socially monuments banners\n",
      "Topic 12: bare said people one new two year also many first even public years time now\n",
      "Topic 13: mountains rampant goldberg likened preservation awaits wartime seriousness gifts cries denounce hastily campbell prosperous derailed\n",
      "Topic 14: michael barbaro recording archived right fauci people really anthony andrew think country going president emily\n",
      "Topic 15: vendors architecture audit nazi ripping cancel forefront newer prevailed awareness championed pet commentators bleak organizers\n",
      "Topic 16: said new years one now many people york symbol national news world made design time\n",
      "Topic 17: historian outlet slipping nazi nazis supremacy fixing hastily marching civic trends criminals vigorous martial incendiary\n",
      "Topic 18: hunger complain learns spencer suffers roman tag apologizes petition swirl disappointed powder voiced humble titled\n",
      "Topic 19: said president biden trump cuomo officials house report russia white department administration intelligence political russian\n",
      "Topic 20: inflation percent said pandemic year economy economic bank federal growth billion price supply market workers\n",
      "Topic 21: celebration focuses ripping printed branded emerges selective trends complain jarring discontent reed turnaround pride rumors\n",
      "Topic 22: comparison fresh swiss connections crew bear architects hardly revival bleak ears australian lavish design flying\n",
      "Topic 23: president democrats republican election trump said republicans house senate vote bill state court biden voting\n",
      "Topic 24: style lists nazi outcry sacramento shuttered reception glimpse honored architects expertise stephen guests nobel slipping\n",
      "Topic 25: people get know just like going think now want really right one time michael good\n",
      "Topic 26: said new one time work people first now home like years even many back just\n",
      "Topic 27: audit pride supremacy hang flouting nazi publishing voiced airplane bradley awareness organizers inclusion complained speakers\n",
      "Topic 28: police capitol officers said officer one two video violence floyd riot gun now man department\n",
      "Topic 29: whereas norm flouting safest graves airplane precarious distanced skipped drum commentators fringe wiping complications traces\n",
      "Topic 30: hang rome architects choosing restoring fringe honored reception likened stall pundits slipping mobilized contempt plunged\n",
      "Topic 31: evangelical ripping ignored rampant opens discontent pride imposing ranks rejecting civic outsize world said tackle\n",
      "Topic 32: restored architects supremacy minimal nazi celebration airplane lists suffers symbol flouting shuttered pride fringe lacking\n",
      "Topic 33: crises architecture jarring nazi outcry bias uniform belongs supremacy nazis model celebration said struggling new\n",
      "Topic 34: architecture nazi socially distanced whereas bureaucratic monuments sanitizer supremacy historian learns derailed outcry hurts celebration\n",
      "Topic 35: civic francis focuses vendors flouting marching pride bias crises newer dignity parade restoring reminded outcry\n",
      "Topic 36: drum flouting newer distanced ripping preservation fringe minimal learns rebukes disdain ears likened commentators muted\n",
      "Topic 37: government said united minister taliban prime military officials iran american afghanistan israel states two president\n",
      "Topic 38: socially nazi pigs marching celebration historian symbol distanced parade civic outcry monuments supremacy monument architecture\n",
      "Topic 39: said new health vaccinated state pandemic cases people york workers coronavirus city states many public\n",
      "Topic 40: stark said relentless one people crises new american flurry last symbol say also two years\n",
      "Topic 41: minimal preceded rampant mobilized airplane stall reacted skipped spencer preservation cries fraudulent diverted sacrifice belongs\n",
      "Topic 42: vaccine said vaccines covid johnson doses health people new coronavirus states cases percent virus vaccinated\n",
      "Topic 43: architects honored civic celebration supremacy nazi outcry relentless monument liberty architecture reed modern symbol belongs\n",
      "Topic 44: said new one years family women york year people black time many first life two\n",
      "Topic 45: vendors francis bleak choosing audit jarring troubling shuttered celebrations handles upended monument reception diverted honored\n",
      "Topic 46: said people building one water city new officials rescue killed storm florida day collapse two\n",
      "Topic 47: relentless crises celebration rampant fringe lacking outcry minimal staying liberty symbol instinct hang comfort socially\n",
      "Topic 48: minimal stall uniform celebrations fraudulent sacrifice preceded cries directives texts plagued renowned spokesperson rumor mismanagement\n",
      "Topic 49: company said climate companies billion also new million global electric gas year tax industry change\n",
      "======= Time: 10 =======\n",
      "Topic 0: restored championed bleak audit suffers ripping resonated martial delivers cozy commentators cascade pundits panicked strengthened\n",
      "Topic 1: crew chairs said event new tour raft one year roberts years time two long also\n",
      "Topic 2: style said new one year people last also federal many government two first like august\n",
      "Topic 3: emmanuel organizers exclusion monument macron vest reception cultural architect praise tackling apologized metropolitan workplace said\n",
      "Topic 4: audit coronavirus cancellation epicenter first lockdown gatherings mixed italy virus new indigenous people health country\n",
      "Topic 5: said symbol people one profession now including many high new time called keep others social\n",
      "Topic 6: spencer symbolic function suffers jarring francis germans religion raw determining origin ban seemingly speech bleak\n",
      "Topic 7: one series best team won season first time said like new game two night film\n",
      "Topic 8: stall audit marking restoring newer discontent branded mobilization exposing rome honored likened emerges dissent proving\n",
      "Topic 9: crises architecture nazi nazis lgbtq monument vendors sanitizer symbol style jarring marking celebration branded flying\n",
      "Topic 10: crises bare reeling said new draw group one shaken now eminent two liberty time hopes\n",
      "Topic 11: architecture drum botched celebration marching preservation troubling distanced preceded minimal spurred roman banners socially celebrations\n",
      "Topic 12: bare said people new one year two also many first even public years time work\n",
      "Topic 13: mountains rampant goldberg likened preservation awaits wartime seriousness gifts cries campbell denounce allen prosperous hastily\n",
      "Topic 14: michael schwartz right emily hispanic non people barbaro english fauci really speech think recording country\n",
      "Topic 15: vendors architecture audit ripping nazi cancel forefront newer prevailed awareness pet commentators championed celebrations organizers\n",
      "Topic 16: said new years one now many people york world symbol news national made design last\n",
      "Topic 17: historian slipping outlet nazi supremacy fixing marching civic nazis trends hastily criminals martial lined heads\n",
      "Topic 18: hunger complain spencer learns suffers roman apologizes petition tag swirl disappointed powder voiced titled humble\n",
      "Topic 19: russia russian ukraine said gas putin biden war president united invasion states energy sanctions europe\n",
      "Topic 20: inflation percent prices said year economy price bank interest rates market higher increase rising economic\n",
      "Topic 21: celebration focuses ripping printed branded emerges selective trends complain jarring discontent turnaround reed rumors illicit\n",
      "Topic 22: comparison fresh crew connections swiss bear architects revival hardly bleak ears australian finished design london\n",
      "Topic 23: abortion said trump republican house election president democrats republicans former court state new rights political\n",
      "Topic 24: style lists nazi sacramento outcry shuttered architects glimpse honored reception expertise stephen guests nobel slipping\n",
      "Topic 25: just like people know get now think want going really one right feel time school\n",
      "Topic 26: said new one time work people now first home like years even many back just\n",
      "Topic 27: audit pride supremacy hang flouting nazi publishing voiced airplane bradley awareness organizers inclusion speakers complained\n",
      "Topic 28: police capitol officers said one scene two officer prosecutors video now department first building gun\n",
      "Topic 29: whereas norm flouting safest graves airplane precarious skipped drum distanced commentators fringe wiping complications traces\n",
      "Topic 30: hang rome architects choosing restoring fringe honored stall likened reception pundits slipping mobilized contempt precarious\n",
      "Topic 31: evangelical ripping ignored rampant opens discontent imposing outsize civic rejecting ranks said world pride tackle\n",
      "Topic 32: restored architects supremacy minimal nazi celebration airplane lists suffers flouting pride symbol shuttered lacking raft\n",
      "Topic 33: crises architecture jarring bias outcry nazi uniform belongs model comparison said supremacy struggling new celebration\n",
      "Topic 34: architecture socially nazi distanced whereas bureaucratic monuments sanitizer supremacy learns historian hurts derailed outcry celebration\n",
      "Topic 35: civic flouting focuses vendors francis pride marching crises newer bias dignity parade restoring reminded outcry\n",
      "Topic 36: drum flouting newer distanced ripping preservation fringe minimal learns rebukes disdain commentators likened serial ears\n",
      "Topic 37: government prime minister said political party parliament johnson iran two leader officials years united country\n",
      "Topic 38: socially nazi pigs marching celebration historian symbol civic distanced parade monuments outcry architects architecture monument\n",
      "Topic 39: said new health pandemic york people city public covid state many workers cases care officials\n",
      "Topic 40: stark said relentless one people new crises american last say also two years flurry even\n",
      "Topic 41: minimal preceded stall rampant mobilized airplane skipped reacted spencer preservation cries fraudulent diverted sacrifice emerges\n",
      "Topic 42: russian said ukrainian ukraine war forces soldiers new kyiv military russia people times city officials\n",
      "Topic 43: architects civic honored celebration supremacy nazi outcry relentless liberty monument architecture reed modern belongs symbol\n",
      "Topic 44: said new years one york family women year first time people life work many black\n",
      "Topic 45: francis vendors choosing bleak audit troubling shuttered jarring handles celebrations upended diverted monument reception intentional\n",
      "Topic 46: said people one killed city new hurricane day officials building israeli storm days two victims\n",
      "Topic 47: relentless crises celebration rampant fringe lacking outcry minimal instinct liberty hang staying symbol comfort socially\n",
      "Topic 48: minimal stall uniform celebrations fraudulent sacrifice cries preceded texts directives plagued renowned spokesperson mismanagement rumor\n",
      "Topic 49: said company twitter companies musk billion deal also new million last chief percent year executive\n"
     ]
    },
    {
     "name": "stderr",
     "output_type": "stream",
     "text": [
      "100%|██████████| 11/11 [01:33<00:00,  8.46s/it]\n"
     ]
    },
    {
     "name": "stdout",
     "output_type": "stream",
     "text": [
      "===>CV score list:  [0.3294185101296693, 0.3687912334071144, 0.4251214847426914, 0.4366017871583271, 0.5016921994701474, 0.5216369995761565, 0.49745021071205664, 0.4981493562392595, 0.5449160719330748, 0.5566844480430622, 0.5601871877427778]\n",
      "dynamic_TC:  0.47642268083221234\n",
      "TD: 0.37321\n",
      "{'Purity': 0.5533769063180828, 'NMI': 0.31742786659563366}\n",
      "{'acc': 0.6013071895424836, 'macro-F1': 0.26979947216836125}\n"
     ]
    }
   ],
   "source": [
    "########################### Evaluate ####################################\n",
    "from topmost import evaluations\n",
    "\n",
    "# get top words of topics\n",
    "top_words = trainer.export_top_words(dataset.vocab)\n",
    "# get theta (doc-topic distributions)\n",
    "train_theta, test_theta = trainer.export_theta(dataset)\n",
    "\n",
    "# compute topic coherence\n",
    "dynamic_TC = evaluations.compute_dynamic_TC(dataset.train_texts, dataset.train_times.cpu().numpy(), dataset.vocab, top_words)\n",
    "\n",
    "print(\"dynamic_TC: \", dynamic_TC)\n",
    "\n",
    "# compute topic diversity\n",
    "TD = evaluations.multiaspect_topic_diversity(top_words)\n",
    "print(f\"TD: {TD:.5f}\")\n",
    "\n",
    "# evaluate clustering\n",
    "results = evaluations.evaluate_clustering(test_theta, dataset.test_labels)\n",
    "print(results)\n",
    "\n",
    "# evaluate classification\n",
    "results = evaluations.evaluate_classification(train_theta, test_theta, dataset.train_labels, dataset.test_labels)\n",
    "print(results)"
   ]
  }
 ],
 "metadata": {
  "kernelspec": {
   "display_name": "torch1.13py3.8",
   "language": "python",
   "name": "python3"
  },
  "language_info": {
   "codemirror_mode": {
    "name": "ipython",
    "version": 3
   },
   "file_extension": ".py",
   "mimetype": "text/x-python",
   "name": "python",
   "nbconvert_exporter": "python",
   "pygments_lexer": "ipython3",
   "version": "3.8.17"
  },
  "orig_nbformat": 4
 },
 "nbformat": 4,
 "nbformat_minor": 2
}
