{
 "cells": [
  {
   "cell_type": "code",
   "execution_count": 8,
   "metadata": {},
   "outputs": [
    {
     "name": "stdout",
     "output_type": "stream",
     "text": [
      "https://raw.githubusercontent.com/BobXWu/TopMost/master/data/Amazon_Review.zip\n"
     ]
    },
    {
     "name": "stdout",
     "output_type": "stream",
     "text": [
      "Downloading https://raw.githubusercontent.com/BobXWu/TopMost/master/data/Amazon_Review.zip to ./datasets/Amazon_Review.zip\n"
     ]
    },
    {
     "name": "stderr",
     "output_type": "stream",
     "text": [
      "100%|██████████| 11251789/11251789 [00:00<00:00, 297893145.04it/s]\n"
     ]
    }
   ],
   "source": [
    "import topmost\n",
    "from topmost.data import download_dataset\n",
    "\n",
    "device = \"cuda\" # or \"cpu\"\n",
    "dataset_dir = \"./datasets/Amazon_Review\"\n",
    "download_dataset('Amazon_Review', cache_path='./datasets')"
   ]
  },
  {
   "cell_type": "code",
   "execution_count": 9,
   "metadata": {},
   "outputs": [
    {
     "name": "stdout",
     "output_type": "stream",
     "text": [
      "https://raw.githubusercontent.com/BobXWu/TopMost/master/data/dict.zip\n",
      "Using downloaded and verified file: ./datasets/dict.zip\n"
     ]
    }
   ],
   "source": [
    "dict_dir = './datasets/dict'\n",
    "download_dataset('dict', cache_path='./datasets')"
   ]
  },
  {
   "cell_type": "code",
   "execution_count": 10,
   "metadata": {},
   "outputs": [],
   "source": [
    "# load a preprocessed dataset\n",
    "dataset = topmost.data.CrosslingualDatasetHandler(dataset_dir, lang1='en', lang2='cn', dict_path=f'{dict_dir}/ch_en_dict.dat', device=device)"
   ]
  },
  {
   "cell_type": "code",
   "execution_count": 11,
   "metadata": {},
   "outputs": [
    {
     "name": "stderr",
     "output_type": "stream",
     "text": [
      "  1%|          | 5/500 [00:10<18:06,  2.19s/it]"
     ]
    },
    {
     "name": "stdout",
     "output_type": "stream",
     "text": [
      "Epoch: 005 loss: 3.772 loss_TAMI: 0.830\n"
     ]
    },
    {
     "name": "stderr",
     "output_type": "stream",
     "text": [
      "  2%|▏         | 10/500 [00:21<17:53,  2.19s/it]"
     ]
    },
    {
     "name": "stdout",
     "output_type": "stream",
     "text": [
      "Epoch: 010 loss: 3.656 loss_TAMI: 0.825\n"
     ]
    },
    {
     "name": "stderr",
     "output_type": "stream",
     "text": [
      "  3%|▎         | 15/500 [00:32<17:42,  2.19s/it]"
     ]
    },
    {
     "name": "stdout",
     "output_type": "stream",
     "text": [
      "Epoch: 015 loss: 3.602 loss_TAMI: 0.824\n"
     ]
    },
    {
     "name": "stderr",
     "output_type": "stream",
     "text": [
      "  4%|▍         | 20/500 [00:43<17:31,  2.19s/it]"
     ]
    },
    {
     "name": "stdout",
     "output_type": "stream",
     "text": [
      "Epoch: 020 loss: 3.578 loss_TAMI: 0.824\n"
     ]
    },
    {
     "name": "stderr",
     "output_type": "stream",
     "text": [
      "  5%|▌         | 25/500 [00:54<17:20,  2.19s/it]"
     ]
    },
    {
     "name": "stdout",
     "output_type": "stream",
     "text": [
      "Epoch: 025 loss: 3.579 loss_TAMI: 0.824\n"
     ]
    },
    {
     "name": "stderr",
     "output_type": "stream",
     "text": [
      "  6%|▌         | 30/500 [01:05<17:09,  2.19s/it]"
     ]
    },
    {
     "name": "stdout",
     "output_type": "stream",
     "text": [
      "Epoch: 030 loss: 3.556 loss_TAMI: 0.824\n"
     ]
    },
    {
     "name": "stderr",
     "output_type": "stream",
     "text": [
      "  7%|▋         | 35/500 [01:16<16:58,  2.19s/it]"
     ]
    },
    {
     "name": "stdout",
     "output_type": "stream",
     "text": [
      "Epoch: 035 loss: 3.550 loss_TAMI: 0.824\n"
     ]
    },
    {
     "name": "stderr",
     "output_type": "stream",
     "text": [
      "  8%|▊         | 40/500 [01:27<16:47,  2.19s/it]"
     ]
    },
    {
     "name": "stdout",
     "output_type": "stream",
     "text": [
      "Epoch: 040 loss: 3.545 loss_TAMI: 0.824\n"
     ]
    },
    {
     "name": "stderr",
     "output_type": "stream",
     "text": [
      "  9%|▉         | 45/500 [01:38<16:36,  2.19s/it]"
     ]
    },
    {
     "name": "stdout",
     "output_type": "stream",
     "text": [
      "Epoch: 045 loss: 3.542 loss_TAMI: 0.824\n"
     ]
    },
    {
     "name": "stderr",
     "output_type": "stream",
     "text": [
      " 10%|█         | 50/500 [01:49<16:25,  2.19s/it]"
     ]
    },
    {
     "name": "stdout",
     "output_type": "stream",
     "text": [
      "Epoch: 050 loss: 3.535 loss_TAMI: 0.824\n"
     ]
    },
    {
     "name": "stderr",
     "output_type": "stream",
     "text": [
      " 11%|█         | 55/500 [01:59<16:14,  2.19s/it]"
     ]
    },
    {
     "name": "stdout",
     "output_type": "stream",
     "text": [
      "Epoch: 055 loss: 3.530 loss_TAMI: 0.824\n"
     ]
    },
    {
     "name": "stderr",
     "output_type": "stream",
     "text": [
      " 12%|█▏        | 60/500 [02:10<16:03,  2.19s/it]"
     ]
    },
    {
     "name": "stdout",
     "output_type": "stream",
     "text": [
      "Epoch: 060 loss: 3.527 loss_TAMI: 0.824\n"
     ]
    },
    {
     "name": "stderr",
     "output_type": "stream",
     "text": [
      " 13%|█▎        | 65/500 [02:21<15:52,  2.19s/it]"
     ]
    },
    {
     "name": "stdout",
     "output_type": "stream",
     "text": [
      "Epoch: 065 loss: 3.525 loss_TAMI: 0.824\n"
     ]
    },
    {
     "name": "stderr",
     "output_type": "stream",
     "text": [
      " 14%|█▍        | 70/500 [02:32<15:41,  2.19s/it]"
     ]
    },
    {
     "name": "stdout",
     "output_type": "stream",
     "text": [
      "Epoch: 070 loss: 3.522 loss_TAMI: 0.824\n"
     ]
    },
    {
     "name": "stderr",
     "output_type": "stream",
     "text": [
      " 15%|█▌        | 75/500 [02:43<15:30,  2.19s/it]"
     ]
    },
    {
     "name": "stdout",
     "output_type": "stream",
     "text": [
      "Epoch: 075 loss: 3.517 loss_TAMI: 0.824\n"
     ]
    },
    {
     "name": "stderr",
     "output_type": "stream",
     "text": [
      " 16%|█▌        | 80/500 [02:54<15:19,  2.19s/it]"
     ]
    },
    {
     "name": "stdout",
     "output_type": "stream",
     "text": [
      "Epoch: 080 loss: 3.515 loss_TAMI: 0.824\n"
     ]
    },
    {
     "name": "stderr",
     "output_type": "stream",
     "text": [
      " 17%|█▋        | 85/500 [03:05<15:08,  2.19s/it]"
     ]
    },
    {
     "name": "stdout",
     "output_type": "stream",
     "text": [
      "Epoch: 085 loss: 3.514 loss_TAMI: 0.824\n"
     ]
    },
    {
     "name": "stderr",
     "output_type": "stream",
     "text": [
      " 18%|█▊        | 90/500 [03:16<14:57,  2.19s/it]"
     ]
    },
    {
     "name": "stdout",
     "output_type": "stream",
     "text": [
      "Epoch: 090 loss: 3.511 loss_TAMI: 0.824\n"
     ]
    },
    {
     "name": "stderr",
     "output_type": "stream",
     "text": [
      " 19%|█▉        | 95/500 [03:27<14:46,  2.19s/it]"
     ]
    },
    {
     "name": "stdout",
     "output_type": "stream",
     "text": [
      "Epoch: 095 loss: 3.509 loss_TAMI: 0.824\n"
     ]
    },
    {
     "name": "stderr",
     "output_type": "stream",
     "text": [
      " 20%|██        | 100/500 [03:38<14:35,  2.19s/it]"
     ]
    },
    {
     "name": "stdout",
     "output_type": "stream",
     "text": [
      "Epoch: 100 loss: 3.507 loss_TAMI: 0.825\n"
     ]
    },
    {
     "name": "stderr",
     "output_type": "stream",
     "text": [
      " 21%|██        | 105/500 [03:48<14:24,  2.19s/it]"
     ]
    },
    {
     "name": "stdout",
     "output_type": "stream",
     "text": [
      "Epoch: 105 loss: 3.507 loss_TAMI: 0.825\n"
     ]
    },
    {
     "name": "stderr",
     "output_type": "stream",
     "text": [
      " 22%|██▏       | 110/500 [03:59<14:13,  2.19s/it]"
     ]
    },
    {
     "name": "stdout",
     "output_type": "stream",
     "text": [
      "Epoch: 110 loss: 3.504 loss_TAMI: 0.825\n"
     ]
    },
    {
     "name": "stderr",
     "output_type": "stream",
     "text": [
      " 23%|██▎       | 115/500 [04:10<14:03,  2.19s/it]"
     ]
    },
    {
     "name": "stdout",
     "output_type": "stream",
     "text": [
      "Epoch: 115 loss: 3.502 loss_TAMI: 0.825\n"
     ]
    },
    {
     "name": "stderr",
     "output_type": "stream",
     "text": [
      " 24%|██▍       | 120/500 [04:21<13:52,  2.19s/it]"
     ]
    },
    {
     "name": "stdout",
     "output_type": "stream",
     "text": [
      "Epoch: 120 loss: 3.503 loss_TAMI: 0.825\n"
     ]
    },
    {
     "name": "stderr",
     "output_type": "stream",
     "text": [
      " 25%|██▌       | 125/500 [04:32<13:41,  2.19s/it]"
     ]
    },
    {
     "name": "stdout",
     "output_type": "stream",
     "text": [
      "Epoch: 125 loss: 3.500 loss_TAMI: 0.825\n"
     ]
    },
    {
     "name": "stderr",
     "output_type": "stream",
     "text": [
      " 26%|██▌       | 130/500 [04:43<13:30,  2.19s/it]"
     ]
    },
    {
     "name": "stdout",
     "output_type": "stream",
     "text": [
      "Epoch: 130 loss: 3.500 loss_TAMI: 0.825\n"
     ]
    },
    {
     "name": "stderr",
     "output_type": "stream",
     "text": [
      " 27%|██▋       | 135/500 [04:54<13:19,  2.19s/it]"
     ]
    },
    {
     "name": "stdout",
     "output_type": "stream",
     "text": [
      "Epoch: 135 loss: 3.498 loss_TAMI: 0.825\n"
     ]
    },
    {
     "name": "stderr",
     "output_type": "stream",
     "text": [
      " 28%|██▊       | 140/500 [05:05<13:08,  2.19s/it]"
     ]
    },
    {
     "name": "stdout",
     "output_type": "stream",
     "text": [
      "Epoch: 140 loss: 3.497 loss_TAMI: 0.825\n"
     ]
    },
    {
     "name": "stderr",
     "output_type": "stream",
     "text": [
      " 29%|██▉       | 145/500 [05:16<12:57,  2.19s/it]"
     ]
    },
    {
     "name": "stdout",
     "output_type": "stream",
     "text": [
      "Epoch: 145 loss: 3.497 loss_TAMI: 0.825\n"
     ]
    },
    {
     "name": "stderr",
     "output_type": "stream",
     "text": [
      " 30%|███       | 150/500 [05:27<12:46,  2.19s/it]"
     ]
    },
    {
     "name": "stdout",
     "output_type": "stream",
     "text": [
      "Epoch: 150 loss: 3.496 loss_TAMI: 0.825\n"
     ]
    },
    {
     "name": "stderr",
     "output_type": "stream",
     "text": [
      " 31%|███       | 155/500 [05:37<12:35,  2.19s/it]"
     ]
    },
    {
     "name": "stdout",
     "output_type": "stream",
     "text": [
      "Epoch: 155 loss: 3.493 loss_TAMI: 0.825\n"
     ]
    },
    {
     "name": "stderr",
     "output_type": "stream",
     "text": [
      " 32%|███▏      | 160/500 [05:48<12:24,  2.19s/it]"
     ]
    },
    {
     "name": "stdout",
     "output_type": "stream",
     "text": [
      "Epoch: 160 loss: 3.493 loss_TAMI: 0.825\n"
     ]
    },
    {
     "name": "stderr",
     "output_type": "stream",
     "text": [
      " 33%|███▎      | 165/500 [05:59<12:13,  2.19s/it]"
     ]
    },
    {
     "name": "stdout",
     "output_type": "stream",
     "text": [
      "Epoch: 165 loss: 3.493 loss_TAMI: 0.825\n"
     ]
    },
    {
     "name": "stderr",
     "output_type": "stream",
     "text": [
      " 34%|███▍      | 170/500 [06:10<12:02,  2.19s/it]"
     ]
    },
    {
     "name": "stdout",
     "output_type": "stream",
     "text": [
      "Epoch: 170 loss: 3.492 loss_TAMI: 0.825\n"
     ]
    },
    {
     "name": "stderr",
     "output_type": "stream",
     "text": [
      " 35%|███▌      | 175/500 [06:21<11:51,  2.19s/it]"
     ]
    },
    {
     "name": "stdout",
     "output_type": "stream",
     "text": [
      "Epoch: 175 loss: 3.492 loss_TAMI: 0.825\n"
     ]
    },
    {
     "name": "stderr",
     "output_type": "stream",
     "text": [
      " 36%|███▌      | 180/500 [06:32<11:40,  2.19s/it]"
     ]
    },
    {
     "name": "stdout",
     "output_type": "stream",
     "text": [
      "Epoch: 180 loss: 3.490 loss_TAMI: 0.825\n"
     ]
    },
    {
     "name": "stderr",
     "output_type": "stream",
     "text": [
      " 37%|███▋      | 185/500 [06:43<11:29,  2.19s/it]"
     ]
    },
    {
     "name": "stdout",
     "output_type": "stream",
     "text": [
      "Epoch: 185 loss: 3.489 loss_TAMI: 0.825\n"
     ]
    },
    {
     "name": "stderr",
     "output_type": "stream",
     "text": [
      " 38%|███▊      | 190/500 [06:54<11:18,  2.19s/it]"
     ]
    },
    {
     "name": "stdout",
     "output_type": "stream",
     "text": [
      "Epoch: 190 loss: 3.489 loss_TAMI: 0.825\n"
     ]
    },
    {
     "name": "stderr",
     "output_type": "stream",
     "text": [
      " 39%|███▉      | 195/500 [07:05<11:07,  2.19s/it]"
     ]
    },
    {
     "name": "stdout",
     "output_type": "stream",
     "text": [
      "Epoch: 195 loss: 3.488 loss_TAMI: 0.825\n"
     ]
    },
    {
     "name": "stderr",
     "output_type": "stream",
     "text": [
      " 40%|████      | 200/500 [07:16<10:56,  2.19s/it]"
     ]
    },
    {
     "name": "stdout",
     "output_type": "stream",
     "text": [
      "Epoch: 200 loss: 3.487 loss_TAMI: 0.825\n"
     ]
    },
    {
     "name": "stderr",
     "output_type": "stream",
     "text": [
      " 41%|████      | 205/500 [07:26<10:45,  2.19s/it]"
     ]
    },
    {
     "name": "stdout",
     "output_type": "stream",
     "text": [
      "Epoch: 205 loss: 3.487 loss_TAMI: 0.825\n"
     ]
    },
    {
     "name": "stderr",
     "output_type": "stream",
     "text": [
      " 42%|████▏     | 210/500 [07:37<10:34,  2.19s/it]"
     ]
    },
    {
     "name": "stdout",
     "output_type": "stream",
     "text": [
      "Epoch: 210 loss: 3.487 loss_TAMI: 0.825\n"
     ]
    },
    {
     "name": "stderr",
     "output_type": "stream",
     "text": [
      " 43%|████▎     | 215/500 [07:48<10:24,  2.19s/it]"
     ]
    },
    {
     "name": "stdout",
     "output_type": "stream",
     "text": [
      "Epoch: 215 loss: 3.487 loss_TAMI: 0.825\n"
     ]
    },
    {
     "name": "stderr",
     "output_type": "stream",
     "text": [
      " 44%|████▍     | 220/500 [07:59<10:13,  2.19s/it]"
     ]
    },
    {
     "name": "stdout",
     "output_type": "stream",
     "text": [
      "Epoch: 220 loss: 3.485 loss_TAMI: 0.825\n"
     ]
    },
    {
     "name": "stderr",
     "output_type": "stream",
     "text": [
      " 45%|████▌     | 225/500 [08:10<10:02,  2.19s/it]"
     ]
    },
    {
     "name": "stdout",
     "output_type": "stream",
     "text": [
      "Epoch: 225 loss: 3.485 loss_TAMI: 0.825\n"
     ]
    },
    {
     "name": "stderr",
     "output_type": "stream",
     "text": [
      " 46%|████▌     | 230/500 [08:21<09:51,  2.19s/it]"
     ]
    },
    {
     "name": "stdout",
     "output_type": "stream",
     "text": [
      "Epoch: 230 loss: 3.485 loss_TAMI: 0.825\n"
     ]
    },
    {
     "name": "stderr",
     "output_type": "stream",
     "text": [
      " 47%|████▋     | 235/500 [08:32<09:40,  2.19s/it]"
     ]
    },
    {
     "name": "stdout",
     "output_type": "stream",
     "text": [
      "Epoch: 235 loss: 3.484 loss_TAMI: 0.825\n"
     ]
    },
    {
     "name": "stderr",
     "output_type": "stream",
     "text": [
      " 48%|████▊     | 240/500 [08:43<09:29,  2.19s/it]"
     ]
    },
    {
     "name": "stdout",
     "output_type": "stream",
     "text": [
      "Epoch: 240 loss: 3.484 loss_TAMI: 0.825\n"
     ]
    },
    {
     "name": "stderr",
     "output_type": "stream",
     "text": [
      " 49%|████▉     | 245/500 [08:54<09:18,  2.19s/it]"
     ]
    },
    {
     "name": "stdout",
     "output_type": "stream",
     "text": [
      "Epoch: 245 loss: 3.483 loss_TAMI: 0.825\n"
     ]
    },
    {
     "name": "stderr",
     "output_type": "stream",
     "text": [
      " 50%|█████     | 250/500 [09:05<09:07,  2.19s/it]"
     ]
    },
    {
     "name": "stdout",
     "output_type": "stream",
     "text": [
      "Epoch: 250 loss: 3.483 loss_TAMI: 0.825\n"
     ]
    },
    {
     "name": "stderr",
     "output_type": "stream",
     "text": [
      " 51%|█████     | 255/500 [09:15<08:56,  2.19s/it]"
     ]
    },
    {
     "name": "stdout",
     "output_type": "stream",
     "text": [
      "Epoch: 255 loss: 3.483 loss_TAMI: 0.825\n"
     ]
    },
    {
     "name": "stderr",
     "output_type": "stream",
     "text": [
      " 52%|█████▏    | 260/500 [09:26<08:45,  2.19s/it]"
     ]
    },
    {
     "name": "stdout",
     "output_type": "stream",
     "text": [
      "Epoch: 260 loss: 3.482 loss_TAMI: 0.825\n"
     ]
    },
    {
     "name": "stderr",
     "output_type": "stream",
     "text": [
      " 53%|█████▎    | 265/500 [09:37<08:34,  2.19s/it]"
     ]
    },
    {
     "name": "stdout",
     "output_type": "stream",
     "text": [
      "Epoch: 265 loss: 3.482 loss_TAMI: 0.825\n"
     ]
    },
    {
     "name": "stderr",
     "output_type": "stream",
     "text": [
      " 54%|█████▍    | 270/500 [09:48<08:23,  2.19s/it]"
     ]
    },
    {
     "name": "stdout",
     "output_type": "stream",
     "text": [
      "Epoch: 270 loss: 3.482 loss_TAMI: 0.825\n"
     ]
    },
    {
     "name": "stderr",
     "output_type": "stream",
     "text": [
      " 55%|█████▌    | 275/500 [09:59<08:12,  2.19s/it]"
     ]
    },
    {
     "name": "stdout",
     "output_type": "stream",
     "text": [
      "Epoch: 275 loss: 3.482 loss_TAMI: 0.825\n"
     ]
    },
    {
     "name": "stderr",
     "output_type": "stream",
     "text": [
      " 56%|█████▌    | 280/500 [10:10<08:01,  2.19s/it]"
     ]
    },
    {
     "name": "stdout",
     "output_type": "stream",
     "text": [
      "Epoch: 280 loss: 3.481 loss_TAMI: 0.825\n"
     ]
    },
    {
     "name": "stderr",
     "output_type": "stream",
     "text": [
      " 57%|█████▋    | 285/500 [10:21<07:50,  2.19s/it]"
     ]
    },
    {
     "name": "stdout",
     "output_type": "stream",
     "text": [
      "Epoch: 285 loss: 3.481 loss_TAMI: 0.825\n"
     ]
    },
    {
     "name": "stderr",
     "output_type": "stream",
     "text": [
      " 58%|█████▊    | 290/500 [10:32<07:39,  2.19s/it]"
     ]
    },
    {
     "name": "stdout",
     "output_type": "stream",
     "text": [
      "Epoch: 290 loss: 3.481 loss_TAMI: 0.825\n"
     ]
    },
    {
     "name": "stderr",
     "output_type": "stream",
     "text": [
      " 59%|█████▉    | 295/500 [10:43<07:28,  2.19s/it]"
     ]
    },
    {
     "name": "stdout",
     "output_type": "stream",
     "text": [
      "Epoch: 295 loss: 3.480 loss_TAMI: 0.825\n"
     ]
    },
    {
     "name": "stderr",
     "output_type": "stream",
     "text": [
      " 60%|██████    | 300/500 [10:54<07:17,  2.19s/it]"
     ]
    },
    {
     "name": "stdout",
     "output_type": "stream",
     "text": [
      "Epoch: 300 loss: 3.480 loss_TAMI: 0.825\n"
     ]
    },
    {
     "name": "stderr",
     "output_type": "stream",
     "text": [
      " 61%|██████    | 305/500 [11:04<07:06,  2.19s/it]"
     ]
    },
    {
     "name": "stdout",
     "output_type": "stream",
     "text": [
      "Epoch: 305 loss: 3.479 loss_TAMI: 0.825\n"
     ]
    },
    {
     "name": "stderr",
     "output_type": "stream",
     "text": [
      " 62%|██████▏   | 310/500 [11:15<06:56,  2.19s/it]"
     ]
    },
    {
     "name": "stdout",
     "output_type": "stream",
     "text": [
      "Epoch: 310 loss: 3.480 loss_TAMI: 0.825\n"
     ]
    },
    {
     "name": "stderr",
     "output_type": "stream",
     "text": [
      " 63%|██████▎   | 315/500 [11:26<06:45,  2.19s/it]"
     ]
    },
    {
     "name": "stdout",
     "output_type": "stream",
     "text": [
      "Epoch: 315 loss: 3.479 loss_TAMI: 0.825\n"
     ]
    },
    {
     "name": "stderr",
     "output_type": "stream",
     "text": [
      " 64%|██████▍   | 320/500 [11:37<06:34,  2.19s/it]"
     ]
    },
    {
     "name": "stdout",
     "output_type": "stream",
     "text": [
      "Epoch: 320 loss: 3.479 loss_TAMI: 0.825\n"
     ]
    },
    {
     "name": "stderr",
     "output_type": "stream",
     "text": [
      " 65%|██████▌   | 325/500 [11:48<06:23,  2.19s/it]"
     ]
    },
    {
     "name": "stdout",
     "output_type": "stream",
     "text": [
      "Epoch: 325 loss: 3.479 loss_TAMI: 0.825\n"
     ]
    },
    {
     "name": "stderr",
     "output_type": "stream",
     "text": [
      " 66%|██████▌   | 330/500 [11:59<06:12,  2.19s/it]"
     ]
    },
    {
     "name": "stdout",
     "output_type": "stream",
     "text": [
      "Epoch: 330 loss: 3.479 loss_TAMI: 0.825\n"
     ]
    },
    {
     "name": "stderr",
     "output_type": "stream",
     "text": [
      " 67%|██████▋   | 335/500 [12:10<06:01,  2.19s/it]"
     ]
    },
    {
     "name": "stdout",
     "output_type": "stream",
     "text": [
      "Epoch: 335 loss: 3.478 loss_TAMI: 0.825\n"
     ]
    },
    {
     "name": "stderr",
     "output_type": "stream",
     "text": [
      " 68%|██████▊   | 340/500 [12:21<05:50,  2.19s/it]"
     ]
    },
    {
     "name": "stdout",
     "output_type": "stream",
     "text": [
      "Epoch: 340 loss: 3.478 loss_TAMI: 0.825\n"
     ]
    },
    {
     "name": "stderr",
     "output_type": "stream",
     "text": [
      " 69%|██████▉   | 345/500 [12:32<05:39,  2.19s/it]"
     ]
    },
    {
     "name": "stdout",
     "output_type": "stream",
     "text": [
      "Epoch: 345 loss: 3.479 loss_TAMI: 0.825\n"
     ]
    },
    {
     "name": "stderr",
     "output_type": "stream",
     "text": [
      " 70%|███████   | 350/500 [12:43<05:28,  2.19s/it]"
     ]
    },
    {
     "name": "stdout",
     "output_type": "stream",
     "text": [
      "Epoch: 350 loss: 3.478 loss_TAMI: 0.825\n"
     ]
    },
    {
     "name": "stderr",
     "output_type": "stream",
     "text": [
      " 71%|███████   | 355/500 [12:54<05:17,  2.19s/it]"
     ]
    },
    {
     "name": "stdout",
     "output_type": "stream",
     "text": [
      "Epoch: 355 loss: 3.478 loss_TAMI: 0.825\n"
     ]
    },
    {
     "name": "stderr",
     "output_type": "stream",
     "text": [
      " 72%|███████▏  | 360/500 [13:04<05:06,  2.19s/it]"
     ]
    },
    {
     "name": "stdout",
     "output_type": "stream",
     "text": [
      "Epoch: 360 loss: 3.477 loss_TAMI: 0.825\n"
     ]
    },
    {
     "name": "stderr",
     "output_type": "stream",
     "text": [
      " 73%|███████▎  | 365/500 [13:15<04:55,  2.19s/it]"
     ]
    },
    {
     "name": "stdout",
     "output_type": "stream",
     "text": [
      "Epoch: 365 loss: 3.477 loss_TAMI: 0.825\n"
     ]
    },
    {
     "name": "stderr",
     "output_type": "stream",
     "text": [
      " 74%|███████▍  | 370/500 [13:26<04:44,  2.19s/it]"
     ]
    },
    {
     "name": "stdout",
     "output_type": "stream",
     "text": [
      "Epoch: 370 loss: 3.476 loss_TAMI: 0.825\n"
     ]
    },
    {
     "name": "stderr",
     "output_type": "stream",
     "text": [
      " 75%|███████▌  | 375/500 [13:37<04:33,  2.19s/it]"
     ]
    },
    {
     "name": "stdout",
     "output_type": "stream",
     "text": [
      "Epoch: 375 loss: 3.477 loss_TAMI: 0.825\n"
     ]
    },
    {
     "name": "stderr",
     "output_type": "stream",
     "text": [
      " 76%|███████▌  | 380/500 [13:48<04:22,  2.19s/it]"
     ]
    },
    {
     "name": "stdout",
     "output_type": "stream",
     "text": [
      "Epoch: 380 loss: 3.477 loss_TAMI: 0.825\n"
     ]
    },
    {
     "name": "stderr",
     "output_type": "stream",
     "text": [
      " 77%|███████▋  | 385/500 [13:59<04:11,  2.19s/it]"
     ]
    },
    {
     "name": "stdout",
     "output_type": "stream",
     "text": [
      "Epoch: 385 loss: 3.477 loss_TAMI: 0.825\n"
     ]
    },
    {
     "name": "stderr",
     "output_type": "stream",
     "text": [
      " 78%|███████▊  | 390/500 [14:10<04:00,  2.19s/it]"
     ]
    },
    {
     "name": "stdout",
     "output_type": "stream",
     "text": [
      "Epoch: 390 loss: 3.476 loss_TAMI: 0.825\n"
     ]
    },
    {
     "name": "stderr",
     "output_type": "stream",
     "text": [
      " 79%|███████▉  | 395/500 [14:21<03:49,  2.19s/it]"
     ]
    },
    {
     "name": "stdout",
     "output_type": "stream",
     "text": [
      "Epoch: 395 loss: 3.476 loss_TAMI: 0.825\n"
     ]
    },
    {
     "name": "stderr",
     "output_type": "stream",
     "text": [
      " 80%|████████  | 400/500 [14:32<03:38,  2.19s/it]"
     ]
    },
    {
     "name": "stdout",
     "output_type": "stream",
     "text": [
      "Epoch: 400 loss: 3.476 loss_TAMI: 0.825\n"
     ]
    },
    {
     "name": "stderr",
     "output_type": "stream",
     "text": [
      " 81%|████████  | 405/500 [14:43<03:28,  2.19s/it]"
     ]
    },
    {
     "name": "stdout",
     "output_type": "stream",
     "text": [
      "Epoch: 405 loss: 3.476 loss_TAMI: 0.825\n"
     ]
    },
    {
     "name": "stderr",
     "output_type": "stream",
     "text": [
      " 82%|████████▏ | 410/500 [14:53<03:17,  2.19s/it]"
     ]
    },
    {
     "name": "stdout",
     "output_type": "stream",
     "text": [
      "Epoch: 410 loss: 3.476 loss_TAMI: 0.825\n"
     ]
    },
    {
     "name": "stderr",
     "output_type": "stream",
     "text": [
      " 83%|████████▎ | 415/500 [15:04<03:06,  2.19s/it]"
     ]
    },
    {
     "name": "stdout",
     "output_type": "stream",
     "text": [
      "Epoch: 415 loss: 3.477 loss_TAMI: 0.825\n"
     ]
    },
    {
     "name": "stderr",
     "output_type": "stream",
     "text": [
      " 84%|████████▍ | 420/500 [15:15<02:55,  2.19s/it]"
     ]
    },
    {
     "name": "stdout",
     "output_type": "stream",
     "text": [
      "Epoch: 420 loss: 3.476 loss_TAMI: 0.825\n"
     ]
    },
    {
     "name": "stderr",
     "output_type": "stream",
     "text": [
      " 85%|████████▌ | 425/500 [15:26<02:44,  2.19s/it]"
     ]
    },
    {
     "name": "stdout",
     "output_type": "stream",
     "text": [
      "Epoch: 425 loss: 3.476 loss_TAMI: 0.825\n"
     ]
    },
    {
     "name": "stderr",
     "output_type": "stream",
     "text": [
      " 86%|████████▌ | 430/500 [15:37<02:33,  2.19s/it]"
     ]
    },
    {
     "name": "stdout",
     "output_type": "stream",
     "text": [
      "Epoch: 430 loss: 3.476 loss_TAMI: 0.825\n"
     ]
    },
    {
     "name": "stderr",
     "output_type": "stream",
     "text": [
      " 87%|████████▋ | 435/500 [15:48<02:22,  2.19s/it]"
     ]
    },
    {
     "name": "stdout",
     "output_type": "stream",
     "text": [
      "Epoch: 435 loss: 3.474 loss_TAMI: 0.825\n"
     ]
    },
    {
     "name": "stderr",
     "output_type": "stream",
     "text": [
      " 88%|████████▊ | 440/500 [15:59<02:11,  2.19s/it]"
     ]
    },
    {
     "name": "stdout",
     "output_type": "stream",
     "text": [
      "Epoch: 440 loss: 3.475 loss_TAMI: 0.825\n"
     ]
    },
    {
     "name": "stderr",
     "output_type": "stream",
     "text": [
      " 89%|████████▉ | 445/500 [16:10<02:00,  2.19s/it]"
     ]
    },
    {
     "name": "stdout",
     "output_type": "stream",
     "text": [
      "Epoch: 445 loss: 3.475 loss_TAMI: 0.825\n"
     ]
    },
    {
     "name": "stderr",
     "output_type": "stream",
     "text": [
      " 90%|█████████ | 450/500 [16:21<01:49,  2.19s/it]"
     ]
    },
    {
     "name": "stdout",
     "output_type": "stream",
     "text": [
      "Epoch: 450 loss: 3.475 loss_TAMI: 0.825\n"
     ]
    },
    {
     "name": "stderr",
     "output_type": "stream",
     "text": [
      " 91%|█████████ | 455/500 [16:32<01:38,  2.19s/it]"
     ]
    },
    {
     "name": "stdout",
     "output_type": "stream",
     "text": [
      "Epoch: 455 loss: 3.475 loss_TAMI: 0.825\n"
     ]
    },
    {
     "name": "stderr",
     "output_type": "stream",
     "text": [
      " 92%|█████████▏| 460/500 [16:42<01:27,  2.19s/it]"
     ]
    },
    {
     "name": "stdout",
     "output_type": "stream",
     "text": [
      "Epoch: 460 loss: 3.475 loss_TAMI: 0.825\n"
     ]
    },
    {
     "name": "stderr",
     "output_type": "stream",
     "text": [
      " 93%|█████████▎| 465/500 [16:53<01:16,  2.19s/it]"
     ]
    },
    {
     "name": "stdout",
     "output_type": "stream",
     "text": [
      "Epoch: 465 loss: 3.475 loss_TAMI: 0.825\n"
     ]
    },
    {
     "name": "stderr",
     "output_type": "stream",
     "text": [
      " 94%|█████████▍| 470/500 [17:04<01:05,  2.19s/it]"
     ]
    },
    {
     "name": "stdout",
     "output_type": "stream",
     "text": [
      "Epoch: 470 loss: 3.475 loss_TAMI: 0.825\n"
     ]
    },
    {
     "name": "stderr",
     "output_type": "stream",
     "text": [
      " 95%|█████████▌| 475/500 [17:15<00:54,  2.19s/it]"
     ]
    },
    {
     "name": "stdout",
     "output_type": "stream",
     "text": [
      "Epoch: 475 loss: 3.476 loss_TAMI: 0.825\n"
     ]
    },
    {
     "name": "stderr",
     "output_type": "stream",
     "text": [
      " 96%|█████████▌| 480/500 [17:26<00:43,  2.19s/it]"
     ]
    },
    {
     "name": "stdout",
     "output_type": "stream",
     "text": [
      "Epoch: 480 loss: 3.475 loss_TAMI: 0.825\n"
     ]
    },
    {
     "name": "stderr",
     "output_type": "stream",
     "text": [
      " 97%|█████████▋| 485/500 [17:37<00:32,  2.19s/it]"
     ]
    },
    {
     "name": "stdout",
     "output_type": "stream",
     "text": [
      "Epoch: 485 loss: 3.474 loss_TAMI: 0.825\n"
     ]
    },
    {
     "name": "stderr",
     "output_type": "stream",
     "text": [
      " 98%|█████████▊| 490/500 [17:48<00:21,  2.19s/it]"
     ]
    },
    {
     "name": "stdout",
     "output_type": "stream",
     "text": [
      "Epoch: 490 loss: 3.475 loss_TAMI: 0.825\n"
     ]
    },
    {
     "name": "stderr",
     "output_type": "stream",
     "text": [
      " 99%|█████████▉| 495/500 [17:59<00:10,  2.19s/it]"
     ]
    },
    {
     "name": "stdout",
     "output_type": "stream",
     "text": [
      "Epoch: 495 loss: 3.474 loss_TAMI: 0.825\n"
     ]
    },
    {
     "name": "stderr",
     "output_type": "stream",
     "text": [
      "100%|██████████| 500/500 [18:10<00:00,  2.18s/it]"
     ]
    },
    {
     "name": "stdout",
     "output_type": "stream",
     "text": [
      "Epoch: 500 loss: 3.474 loss_TAMI: 0.825\n"
     ]
    },
    {
     "name": "stderr",
     "output_type": "stream",
     "text": [
      "\n"
     ]
    }
   ],
   "source": [
    "# create a model\n",
    "model = topmost.models.InfoCTM(\n",
    "    trans_e2c=dataset.trans_matrix_en,\n",
    "    pretrain_word_embeddings_en=dataset.pretrain_word_embeddings_en,\n",
    "    pretrain_word_embeddings_cn=dataset.pretrain_word_embeddings_cn,\n",
    "    vocab_size_en=dataset.vocab_size_en,\n",
    "    vocab_size_cn=dataset.vocab_size_cn\n",
    ")\n",
    "\n",
    "model = model.to(device)\n",
    "\n",
    "# create a trainer\n",
    "trainer = topmost.trainers.CrosslingualTrainer(model, dataset)\n",
    "\n",
    "# train the model\n",
    "trainer.train()"
   ]
  },
  {
   "cell_type": "code",
   "execution_count": 12,
   "metadata": {},
   "outputs": [
    {
     "name": "stdout",
     "output_type": "stream",
     "text": [
      "Topic 0: dish dvd ray blu vhs season bluray disc episodes theatrical scene widescreen motion plate episode\n",
      "Topic 1: lotion shampoo shave scent hair mask shaving smell bath spray smells skin treatment fat clay\n",
      "Topic 2: hip hop metallica bc facts stale trash l prove joke rubbish moral claims mr trigger\n",
      "Topic 3: movie acting movies actors flick fight rent remake comedy laugh scenes zombies funny action villain\n",
      "Topic 4: bound dull hype legendary plain everyday reaction skip dust burnt element finish entire flat key\n",
      "Topic 5: joy relax delightful delight brilliant charm blend staff serious rich adventure lit thriller entertaining pleasant\n",
      "Topic 6: event spend save spending wasting shipping dog decide waste wasted spent saved fm net expensive\n",
      "Topic 7: tool prove deal pencil chain bright width particular meaning knife tiny larger fair spell giving\n",
      "Topic 8: album song lyrics sing songs rock band riffs catchy albums tracks singer cd tune track\n",
      "Topic 9: socket bound broad string wrench electrical bunch finger recieved upside damaged pregnant ship carpet guessing\n",
      "Topic 10: damaged sent broken ordered address shipped received refund sticker reply cardboard defective receive contacted customer\n",
      "Topic 11: dollars display waste binding content pad silver reveal useless gap dollar blind cake buying bucks\n",
      "Topic 12: pink red blue green white black trust tea partner plant journey emotions kind avoid sort\n",
      "Topic 13: usb ram tech windows port vista random software access driver desktop pc mb download computer\n",
      "Topic 14: boot fill guard wake heaven press planet pressed egg worlds rush sky b kit concern\n",
      "Topic 15: cheaper loss mass extra twist paperback snap rough harry effort bone legal potter sell prices\n",
      "Topic 16: re dan sells moon seasons prime poster guys ask obvious sold site mad website episodes\n",
      "Topic 17: christ christians faith christian god gods church belief prayer jesus wisdom spiritual courage truth freedom\n",
      "Topic 18: bike rack secure instructions gain trail setup mounted mounting mirror tire router loop strip auto\n",
      "Topic 19: lens standard wake select tax burnt canon trimmer pump gun disappointment college lesson class york\n",
      "Topic 20: civil conflict human west race characters western character narrative murder historical fiction nation tale courage\n",
      "Topic 21: shade arrived condition delivery sun satisfied promptly fast vs happy preparing royal promised timely outdoor\n",
      "Topic 22: printer stress crystal pillow ink thick prints deep soft mattress cartridges paper sheets printing profound\n",
      "Topic 23: recipes protein meal eat meals fish foods cook restaurant rice soup ice tasty healthy italian\n",
      "Topic 24: que es de un este una en se y la el con los household las\n",
      "Topic 25: diet health parenting pregnant parent doctor cure patient eating dealing drink nutrition behavior eat breast\n",
      "Topic 26: risk bank invest matrix maps mold aid factor firm scope wealth rise wheel million trade\n",
      "Topic 27: silent snow quiet lover ocean mouth bird sky sweet passion boat guard sea bless tender\n",
      "Topic 28: household grow brain respect hat theater thread link chief cinema clever man comic children pass\n",
      "Topic 29: examples topic guide refer explanations concepts thorough math students teach information reference analysis introduction organized\n",
      "Topic 30: mouse violin pad sub trap wireless gay mice poetic software rhythm bass neat speakers pitch\n",
      "Topic 31: item replacement alltime thing manufacturer install company two cuz chapter packaging unit vacuum worked brush\n",
      "Topic 32: gift co gifts christmas birthday husband friend nephew wife thank mom dad thanks girlfriend sharp\n",
      "Topic 33: self trick frame legal skill blame basic stand staff honor plane complaint manner treat protect\n",
      "Topic 34: gameplay graphics games game playstation controller controls ps xbox played halo playing entertain bore fun\n",
      "Topic 35: stopped warranty coffee ship dan mail repair months sunday exchange maker shipment month weeks replace\n",
      "Topic 36: kong interior prize king island paragraph lord version pen wolf england club award modern blood\n",
      "Topic 37: lid drip water heat bottom jar stove floor pour pot kettle rubber bowl wrench tube\n",
      "Topic 38: orchestra recordings award classical london oscar leadership pieces hall england fashion folk concert peak century\n",
      "Topic 39: limit agent bill partner town formula east date career output receipt companion goal interior member\n",
      "Topic 40: boring characters storyline bite plot slow exciting next speed brilliant forward likable club rate suspense\n",
      "Topic 41: opera oscar score protagonist saga performances ryan screenplay ed russell cast actress performance cinema fate\n",
      "Topic 42: yoga grammar workout sweat french tape spanish spoken mile vocabulary workouts challenging dance beginner english\n",
      "Topic 43: seat collar named sick sore doll infant cat dog vampires lie neck hide fear kill\n",
      "Topic 44: sex particular correct mission regard young women topic male lesson lacking question error husband granddaughter\n",
      "Topic 45: toy toys loves crib mirror chew yr lights son doll tub puppy daughter birthday barbie\n",
      "Topic 46: children adult abuse lower young parents child star girls tall junior grade adults boys combat\n",
      "Topic 47: ear headset chamber camera signal headphones phones static lens dial ipod cell earbuds clip mic\n",
      "Topic 48: shoe pants socks gloves pair fabric comfortable wear collar size bra width shoes feet wearing\n",
      "Topic 49: outer rush today expert stylish takes park taken youth green tea secret cardboard afternoon taking\n",
      "Topic 0: 字幕 画质 花絮 片子 图像 电影院 配音 音像 区 轨 碟片 画面 泰 碟 观看\n",
      "Topic 1: 霜 肤质 湿 痘 油性 乳液 保 洗面奶 皮肤 毛孔 肌肤 洗发水 面膜 喷 痘痘\n",
      "Topic 2: 明月 明朝 吕 论语 丹 国学 民 庄子 宋 可谓 孔子 穆 朝代 十二 史记\n",
      "Topic 3: 伏地 利多 斯内普 坏人 台词 魔 魂器 哈利 天狼星 波特 魔法 罗琳 魔杖 好人 配角\n",
      "Topic 4: 只不过 新闻 推理 三毛 热闹 矫情 来货 纯属 飞机 平常 开头 跳跃 宿舍 无聊 毕\n",
      "Topic 5: 放松 宝 快感 愉快 甜美 巨 轻松 淋漓尽致 员工 春春 充实 要求 愉悦 一对 喷\n",
      "Topic 6: 保存 费 提醒 需要 狗 资料 度 花费 节省 含 往往 关注 网址 事件 藏\n",
      "Topic 7: 翅膀 魔鬼 拼命 恰当 鸡肋 瑜伽 图文 艺术 祈祷 星 手工 笔 合适 大小 沉思\n",
      "Topic 8: 曲子 画册 曲目 唱歌 同名 音乐 音符 歌词 琴 节奏 作曲 歌声 凡 开篇 专辑\n",
      "Topic 9: 眼眶 嫁 围 信件 航线 牵 誓言 天边 挚爱 胸前 宽 厚实 明天 指 串\n",
      "Topic 10: 清单 退换 退货 寄 发票 密封 答复 包装盒 途中 证明 防伪 问题 表 运输 纸箱\n",
      "Topic 11: 垫 透露 金钱 垫子 瞎 海报 积累 花钱 银 墨 财富 空间 理财 元 块\n",
      "Topic 12: 红 品质 粉色 剃须刀 生意 水晶 紫 顾客 米 商场 优势 青 沙 同行 红色\n",
      "Topic 13: 杀毒 软件 内存 安装 驱动 接口 智能 硬件 摄像头 转换 操作系统 硬盘 本本 手机 故障\n",
      "Topic 14: 电 妳 环球 星星 疯 充 开机 直 星空 超级 天下 续集 守护 电池 全球\n",
      "Topic 15: 折 缺 书局 出版 应 波特 翻阅 畅销书 装订 出版社 简装 古籍 随手 降价 涨\n",
      "Topic 16: 删除 请问 预售 连接 取消 用户 链接 提问 拖 赠品 环节 礼品 心血 点击 排行榜\n",
      "Topic 17: 捐 教会 奥运 财富 爱心 友谊 和平 信念 奋斗 力量 诚实 梦想 影子 传递 永不\n",
      "Topic 18: 编程 管理 体系 战略 定位 领域 营销 财务 成果 高手 代码 网址 经理人 案例 实例\n",
      "Topic 19: 巴菲特 典 剃须刀 刷 苏醒 公认 影响力 欧 原 醒 水平 进 噱头 去年 简\n",
      "Topic 20: 人文 文明 文化 人类 日本 西方 地球 民族 欧洲 神话 奇幻 二战 进化 权力 科幻\n",
      "Topic 21: 透过 无尽 明日 十足 翩翩 访问 玫瑰 喷薄 倾注 冬 同名 调整 九州 大盘 布局\n",
      "Topic 22: 柔和 腻 渲染 柔软 枕头 温馨 肤浅 温 论文 小册子 自杀 平面 团 池 墨\n",
      "Topic 23: 美食 熟 食谱 口味 食品 添加剂 肉 食物 普罗旺斯 饮食 冰 菜 厨房 食 意大利\n",
      "Topic 24: 孩子 儿子 家长 大人 宝宝 小朋友 玩具 立体 女儿 小孩子 岁 幼儿园 小孩 儿童 确\n",
      "Topic 25: 减肥 怀孕 健康 饮食 治疗 身体 经络 医生 人际关系 博士 父母 人体 患者 食品 病\n",
      "Topic 26: 期权 不确定性 规模 资产 冲突 资助 资本 董事 模型 均衡 风险 交往 美元 通常 董事会\n",
      "Topic 27: 大海 船 寂寞 恋人 夕阳 拥抱 离别 相遇 脚步 角落 流淌 甜蜜 安静 甜 爱情\n",
      "Topic 28: 奶奶 父 帅 耳朵 电视 记得 线索 记住 小时候 宝 夫 部 环 认真 电视剧\n",
      "Topic 29: 文本 全文 题目 解析 题 答案 试题 测试 教师 命题 解答 课堂 删节 考研 教材\n",
      "Topic 30: 提琴 冲破 舒缓 衬托 高音 释放 制 主 高潮 束缚 爆发 些许 空灵 挣脱 弱\n",
      "Topic 31: 篇 分 用品 回 品质 片 品 损 精品 畅销书 引 通 两 托 角\n",
      "Topic 32: 礼物 生日 老公 朋友 夫妻 礼品 夫妇 天赋 老妈 妈 军刀 礼 送给 天才 接触\n",
      "Topic 33: 渠道 架 影响力 好好 修养 内涵 素质 非 剖析 想象力 受 良心 舒 尊重 销售\n",
      "Topic 34: 局 游戏 球 仙 博弈论 牌 玩家 奥运会 剑 玩 周边 攻略 迷宫 寰宇 奥运\n",
      "Topic 35: 电话 快递 号 慢 垃圾 催 恶劣 邮件 上门 公司 礼拜 太慢 当天 星期 打电话\n",
      "Topic 36: 狼 香港 版 皇帝 血液 贼 越 第七 原版 派克 夫人 标 玫瑰 偷 里\n",
      "Topic 37: 锅 滴 盖 盖子 玻璃 莲花 杯子 进口 汤 保温 烫 面包 河童 烧 煲\n",
      "Topic 38: 皇家 大奖 母 交响乐团 北美 地址 票房 纪录 艺人 英国 欧美 奥斯卡 指挥 源 获\n",
      "Topic 39: 城市 代理 城 上海 地点 有限公司 票 伙伴 地图 站 国际 盛 装修 马 攒\n",
      "Topic 40: 鬼 见证 构思 一半 机关 颠覆 口 鸡肋 遍 字数 熘 下面 好奇心 期待 如意\n",
      "Topic 41: 杜 拉拉 约翰 主人公 外企 职 西藏 阿富汗 圈子 妻子 保罗 小说 线索 场 奥斯卡\n",
      "Topic 42: 单词 口语 英语 词典 瑜伽 例句 动作 练习 词汇量 英汉 音标 词书 发音 词汇 法语\n",
      "Topic 43: 狗 内维尔 猫 保罗 上帝 病人 爷爷 罗伯特 爸 证 拳 杀死 刺 醒来 脖子\n",
      "Topic 44: 男生 适合 行 女生 课 男性 男 太太 少 女性 女 来说 单子 老妈 研究生\n",
      "Topic 45: 伦 内地 惊 周杰 专辑 港 魏晨 预购 演唱会 小小 波 周杰伦 陈 潘 曲风\n",
      "Topic 46: 难得一见 外国 乔 男孩 男生 启蒙 明星 青年 成年人 星 童话 亏 读物 小孩子 少女\n",
      "Topic 47: 信号 噪音 耳机 耳 原配 数据线 耳塞 充电器 音量 低音 插头 摄像头 耳朵 通话 音质\n",
      "Topic 48: 鞋 德川 穿 霸 股票 天机 鬼 服 女主 男 川家康 金融 田 秀 抄袭\n",
      "Topic 49: 郭 大方 落落 透明 敬明 想像 青 车 爱护 想象 摄 青春 料 欣喜 简约\n",
      "TD: 0.78400\n"
     ]
    },
    {
     "name": "stdout",
     "output_type": "stream",
     "text": [
      "{'intra_en': {'acc': 0.7874, 'macro-F1': 0.7872795066037206}, 'intra_cn': {'acc': 0.728, 'macro-F1': 0.7204065091996127}, 'cross_en': {'acc': 0.5324, 'macro-F1': 0.3954157098822897}, 'cross_cn': {'acc': 0.584, 'macro-F1': 0.5833984273290631}}\n"
     ]
    }
   ],
   "source": [
    "########################### Evaluate ####################################\n",
    "from topmost import evaluations\n",
    "\n",
    "# get theta (doc-topic distributions)\n",
    "train_theta_en, train_theta_cn, test_theta_en, test_theta_cn = trainer.export_theta()\n",
    "\n",
    "# get top words of topics\n",
    "top_words_en, top_words_cn = trainer.export_top_words()\n",
    "\n",
    "# compute topic coherence (CNPMI)\n",
    "# refer to https://github.com/BobXWu/CNPMI\n",
    "\n",
    "# compute topic diversity\n",
    "TD = evaluations.compute_multiaspect_topic_diversity([top_words_en, top_words_cn])\n",
    "print(f\"TD: {TD:.5f}\")\n",
    "\n",
    "# evaluate classification\n",
    "results = evaluations.evaluate_crosslingual_classification(\n",
    "    train_theta_en,\n",
    "    train_theta_cn,\n",
    "    test_theta_en,\n",
    "    test_theta_cn,\n",
    "    dataset.train_labels_en,\n",
    "    dataset.train_labels_cn,\n",
    "    dataset.test_labels_en,\n",
    "    dataset.test_labels_cn,\n",
    "    classifier=\"SVM\"\n",
    ")\n",
    "\n",
    "print(results)\n"
   ]
  }
 ],
 "metadata": {
  "kernelspec": {
   "display_name": "torch1.13py3.8",
   "language": "python",
   "name": "python3"
  },
  "language_info": {
   "codemirror_mode": {
    "name": "ipython",
    "version": 3
   },
   "file_extension": ".py",
   "mimetype": "text/x-python",
   "name": "python",
   "nbconvert_exporter": "python",
   "pygments_lexer": "ipython3",
   "version": "3.8.17"
  },
  "orig_nbformat": 4
 },
 "nbformat": 4,
 "nbformat_minor": 2
}
